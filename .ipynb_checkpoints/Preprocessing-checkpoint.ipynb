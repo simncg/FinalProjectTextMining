{
 "cells": [
  {
   "cell_type": "markdown",
   "id": "afa978fe",
   "metadata": {},
   "source": [
    "# Preprocessing Tweets"
   ]
  },
  {
   "cell_type": "code",
   "execution_count": 6,
   "id": "ae473057",
   "metadata": {
    "ExecuteTime": {
     "end_time": "2022-03-17T10:37:54.447854Z",
     "start_time": "2022-03-17T10:37:54.172069Z"
    }
   },
   "outputs": [],
   "source": [
    "import numpy as np\n",
    "import pandas as pd\n",
    "import emoji\n",
    "from nltk.corpus import stopwords\n",
    "from nltk.stem import SnowballStemmer   \n",
    "from nltk.stem.wordnet import WordNetLemmatizer"
   ]
  },
  {
   "cell_type": "code",
   "execution_count": 7,
   "id": "9a2aa29c",
   "metadata": {
    "ExecuteTime": {
     "end_time": "2022-03-17T10:38:01.559232Z",
     "start_time": "2022-03-17T10:38:01.520368Z"
    }
   },
   "outputs": [],
   "source": [
    "stopwords_eng =stopwords.words(\"english\")\n",
    "stopwords_es =stopwords.words(\"spanish\")\n",
    "stopwords=stopwords_eng+stopwords_es"
   ]
  },
  {
   "cell_type": "code",
   "execution_count": null,
   "id": "36cd1cd9",
   "metadata": {},
   "outputs": [],
   "source": [
    "def cleanTweets(s):\n",
    "    #Function to clean tweets, for now i am keeping emojis and hashtags. Alternative version\n",
    "    if type(s)==np.float:\n",
    "        return \"\"\n",
    "    #Demojize text\n",
    "    s=emoji.demojize(s,delimiters=(\"\", \" \"))\n",
    "    \n",
    "    #Remove new lines, etc.\n",
    "    s = s.replace(r'<lb>', \"\\n\")\n",
    "    s = s.replace(r'<tab>', \"\\i\")\n",
    "    s = re.sub(r'<br */*>', \"\\n\", s)\n",
    "    s = s.replace(\"&lt;\", \"<\").replace(\"&gt;\", \">\").replace(\"&amp;\", \"&\")\n",
    "    s = s.replace(\"&amp;\", \"&\")\n",
    "    s = s.replace(\"\\n\", \" \")\n",
    "    \n",
    "    # markdown urls\n",
    "    s = re.sub(r'\\(https*://[^\\)]*\\)', \"\", s)\n",
    "    # normal urls\n",
    "    s = re.sub(r'https*://[^\\s]*', \"\", s)\n",
    "    #s = re.sub(r'_+', ' ', s)\n",
    "    s = re.sub(r'\"+', '\"', s)\n",
    "    #Remove punctuation    \n",
    "    s = re.sub('[()!?]', ' ', s)\n",
    "    s = re.sub('\\[.*?\\]',' ', s)\n",
    "    # custom removals\n",
    "    s = re.sub(r'@[A-Za-z0-9_]+', \"@usermention\", s) # replace mentions\n",
    "    #s = re.sub(r':[^:]+','[emoji]',s) # remove demojized text\n",
    "    \n",
    "    #Split multiword hashtags into individual words - they could contain spin\n",
    "    #s = re.sub(r'#(\\w+)', rep, s) # split hashtags\n",
    "    \n",
    "    s=s.lower()\n",
    "    \n",
    "    #Remove stopwords\n",
    "    s=s.split()\n",
    "    s= [w for w in s if not s in stopwords]\n",
    "    \n",
    "    \n",
    "    s=\" \".join(word for word in s)\n",
    "    \n",
    "    return str(s)\n",
    "\n",
    "\n",
    "def stemming(s):\n",
    "    "
   ]
  },
  {
   "cell_type": "code",
   "execution_count": null,
   "id": "1cf1916c",
   "metadata": {},
   "outputs": [],
   "source": [
    "corpus_data['cleaned_text'] = [cleanTweets(text) for text in corpus_data['text']]"
   ]
  }
 ],
 "metadata": {
  "kernelspec": {
   "display_name": "textmining",
   "language": "python",
   "name": "textmining"
  },
  "language_info": {
   "codemirror_mode": {
    "name": "ipython",
    "version": 3
   },
   "file_extension": ".py",
   "mimetype": "text/x-python",
   "name": "python",
   "nbconvert_exporter": "python",
   "pygments_lexer": "ipython3",
   "version": "3.8.12"
  },
  "toc": {
   "base_numbering": 1,
   "nav_menu": {},
   "number_sections": true,
   "sideBar": true,
   "skip_h1_title": false,
   "title_cell": "Table of Contents",
   "title_sidebar": "Contents",
   "toc_cell": false,
   "toc_position": {},
   "toc_section_display": true,
   "toc_window_display": false
  },
  "varInspector": {
   "cols": {
    "lenName": 16,
    "lenType": 16,
    "lenVar": 40
   },
   "kernels_config": {
    "python": {
     "delete_cmd_postfix": "",
     "delete_cmd_prefix": "del ",
     "library": "var_list.py",
     "varRefreshCmd": "print(var_dic_list())"
    },
    "r": {
     "delete_cmd_postfix": ") ",
     "delete_cmd_prefix": "rm(",
     "library": "var_list.r",
     "varRefreshCmd": "cat(var_dic_list()) "
    }
   },
   "types_to_exclude": [
    "module",
    "function",
    "builtin_function_or_method",
    "instance",
    "_Feature"
   ],
   "window_display": false
  }
 },
 "nbformat": 4,
 "nbformat_minor": 5
}
