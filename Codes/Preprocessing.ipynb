{
 "cells": [
  {
   "cell_type": "markdown",
   "id": "47fa342a",
   "metadata": {},
   "source": [
    "# Preprocessing Tweets"
   ]
  },
  {
   "cell_type": "code",
   "execution_count": 26,
   "id": "61de28f5",
   "metadata": {
    "ExecuteTime": {
     "end_time": "2022-03-21T23:32:20.421412Z",
     "start_time": "2022-03-21T23:32:20.411948Z"
    }
   },
   "outputs": [],
   "source": [
    "import numpy as np\n",
    "import pandas as pd\n",
    "import emoji\n",
    "from nltk.corpus import stopwords\n",
    "from nltk.stem import SnowballStemmer   \n",
    "from nltk.stem.wordnet import WordNetLemmatizer\n",
    "import re"
   ]
  },
  {
   "cell_type": "code",
   "execution_count": 27,
   "id": "285dbf2f",
   "metadata": {
    "ExecuteTime": {
     "end_time": "2022-03-21T23:32:32.763947Z",
     "start_time": "2022-03-21T23:32:32.737358Z"
    }
   },
   "outputs": [],
   "source": [
    "stopwords_eng =stopwords.words(\"english\")\n",
    "stopwords_es =stopwords.words(\"spanish\")\n",
    "stopwords = stopwords_eng + stopwords_es\n",
    "\n",
    "def cleanTweets(s):\n",
    "    #Function to clean tweets, for now i am keeping emojis and hashtags. Alternative version\n",
    "    if type(s)==np.float:\n",
    "        return \"\"\n",
    "    #Demojize text\n",
    "    s=emoji.demojize(s,delimiters=(\"\", \" \"))\n",
    "    \n",
    "    #Remove new lines, etc.\n",
    "    s = s.replace(r'<lb>', \"\\n\")\n",
    "    s = s.replace(r'<tab>', \"\\i\")\n",
    "    s = re.sub(r'<br */*>', \"\\n\", s)\n",
    "    s = s.replace(\"&lt;\", \"<\").replace(\"&gt;\", \">\").replace(\"&amp;\", \"&\")\n",
    "    s = s.replace(\"&amp;\", \"&\")\n",
    "    s = s.replace(\"\\n\", \" \")\n",
    "    \n",
    "    # markdown urls\n",
    "    s = re.sub(r'\\(https*://[^\\)]*\\)', \"\", s)\n",
    "    # normal urls\n",
    "    s = re.sub(r'https*://[^\\s]*', \"\", s)\n",
    "    #s = re.sub(r'_+', ' ', s)\n",
    "    s = re.sub(r'\"+', '\"', s)\n",
    "    #Remove punctuation    \n",
    "    s = re.sub('[()!?]', ' ', s)\n",
    "    s = re.sub('\\[.*?\\]',' ', s)\n",
    "    # custom removals\n",
    "    s = re.sub(r'@[A-Za-z0-9_]+', \"@usermention\", s) # replace mentions\n",
    "    #s = re.sub(r':[^:]+','[emoji]',s) # remove demojized text\n",
    "    \n",
    "    #Split multiword hashtags into individual words - they could contain spin\n",
    "    #s = re.sub(r'#(\\w+)', rep, s) # split hashtags\n",
    "    \n",
    "    s=s.lower()\n",
    "    \n",
    "    #Remove stopwords\n",
    "    s=s.split()\n",
    "    s= [w for w in s if not s in stopwords]\n",
    "    \n",
    "    \n",
    "    s=\" \".join(word for word in s)\n",
    "    \n",
    "    return str(s)\n",
    "\n",
    "\n",
    "stemmer_eng=SnowballStemmer(\"english\")\n",
    "stemmer_es=SnowballStemmer(\"spanish\")\n",
    "lem = WordNetLemmatizer()\n",
    "\n",
    "def stem_lematize(s, modulation):\n",
    "    tokens = re.split(r'\\W+', s)\n",
    "    stems = []\n",
    "    for token in tokens:\n",
    "        if modulation==1:\n",
    "            eng=stemmer_es.stem(token)\n",
    "            stems.append(stemmer_es.stem(eng))\n",
    "        if modulation==2:\n",
    "            stems.append(lem.lemmatize(token))\n",
    "        if modulation==0:\n",
    "            stems.append(tokens)\n",
    "    s=\" \".join(word for word in stems)\n",
    "    return s"
   ]
  },
  {
   "cell_type": "code",
   "execution_count": 20,
   "id": "7884c8a8",
   "metadata": {
    "ExecuteTime": {
     "end_time": "2022-03-21T23:07:17.375803Z",
     "start_time": "2022-03-21T23:06:58.960787Z"
    }
   },
   "outputs": [
    {
     "name": "stderr",
     "output_type": "stream",
     "text": [
      "C:\\Users\\Stefan Hoeller\\AppData\\Local\\Temp\\ipykernel_7940\\3553821229.py:2: DtypeWarning: Columns (13) have mixed types. Specify dtype option on import or set low_memory=False.\n",
      "  corpus_data=pd.read_csv(\"Data/all_tweets_filtered.csv\")\n"
     ]
    }
   ],
   "source": [
    "#Read-In Corpus\n",
    "corpus_data=pd.read_csv(\"Data/all_tweets_filtered.csv\")"
   ]
  },
  {
   "cell_type": "code",
   "execution_count": 21,
   "id": "4caf65ce",
   "metadata": {
    "ExecuteTime": {
     "end_time": "2022-03-21T23:07:20.849983Z",
     "start_time": "2022-03-21T23:07:17.897009Z"
    }
   },
   "outputs": [
    {
     "name": "stdout",
     "output_type": "stream",
     "text": [
      "<class 'pandas.core.frame.DataFrame'>\n",
      "RangeIndex: 973904 entries, 0 to 973903\n",
      "Data columns (total 22 columns):\n",
      " #   Column                                 Non-Null Count   Dtype  \n",
      "---  ------                                 --------------   -----  \n",
      " 0   Unnamed: 0                             973904 non-null  int64  \n",
      " 1   id                                     973904 non-null  int64  \n",
      " 2   author_id                              973904 non-null  int64  \n",
      " 3   created_at                             973904 non-null  object \n",
      " 4   text                                   973904 non-null  object \n",
      " 5   public_metrics.like_count              973904 non-null  int64  \n",
      " 6   public_metrics.quote_count             973904 non-null  int64  \n",
      " 7   public_metrics.reply_count             973904 non-null  int64  \n",
      " 8   public_metrics.retweet_count           973904 non-null  int64  \n",
      " 9   author.username                        973904 non-null  object \n",
      " 10  Country                                973904 non-null  object \n",
      " 11  Categorie                              973904 non-null  object \n",
      " 12  Time                                   973904 non-null  object \n",
      " 13  Left/Right                             76856 non-null   object \n",
      " 14  author.entities.description.hashtags   234820 non-null  object \n",
      " 15  author.public_metrics.following_count  973904 non-null  int64  \n",
      " 16  in_reply_to_user_id                    220681 non-null  float64\n",
      " 17  retweeted_user_id                      469969 non-null  float64\n",
      " 18  quoted_user_id                         74017 non-null   float64\n",
      " 19  author.name                            973904 non-null  object \n",
      " 20  author.description                     961050 non-null  object \n",
      " 21  possibly_sensitive                     973904 non-null  bool   \n",
      "dtypes: bool(1), float64(3), int64(8), object(10)\n",
      "memory usage: 157.0+ MB\n"
     ]
    }
   ],
   "source": [
    "corpus_data.info()"
   ]
  },
  {
   "cell_type": "code",
   "execution_count": 23,
   "id": "9314c0c1",
   "metadata": {
    "ExecuteTime": {
     "end_time": "2022-03-21T23:22:44.456115Z",
     "start_time": "2022-03-21T23:11:47.886317Z"
    }
   },
   "outputs": [
    {
     "name": "stderr",
     "output_type": "stream",
     "text": [
      "C:\\Users\\Stefan Hoeller\\AppData\\Local\\Temp\\ipykernel_7940\\1664645015.py:7: DeprecationWarning: `np.float` is a deprecated alias for the builtin `float`. To silence this warning, use `float` by itself. Doing this will not modify any behavior and is safe. If you specifically wanted the numpy scalar type, use `np.float64` here.\n",
      "Deprecated in NumPy 1.20; for more details and guidance: https://numpy.org/devdocs/release/1.20.0-notes.html#deprecations\n",
      "  if type(s)==np.float:\n"
     ]
    }
   ],
   "source": [
    "corpus_data['cleaned_text'] = [cleanTweets(text) for text in corpus_data['text']]"
   ]
  },
  {
   "cell_type": "code",
   "execution_count": 28,
   "id": "164b88aa",
   "metadata": {
    "ExecuteTime": {
     "end_time": "2022-03-22T00:05:23.509776Z",
     "start_time": "2022-03-21T23:32:40.914701Z"
    }
   },
   "outputs": [],
   "source": [
    "corpus_data['stem_text'] = [stem_lematize(text, 1) for text in corpus_data['cleaned_text']]"
   ]
  },
  {
   "cell_type": "code",
   "execution_count": 34,
   "id": "22c69fbb",
   "metadata": {
    "ExecuteTime": {
     "end_time": "2022-03-22T01:16:55.366949Z",
     "start_time": "2022-03-22T01:16:55.327059Z"
    }
   },
   "outputs": [
    {
     "data": {
      "text/plain": [
       "0     Les recomiendo ver este hilo donde el capo de ...\n",
       "1     Que mala noticia, el acuerdo permitirá abrir e...\n",
       "2     Mayoría (o todos) los q hoy critican heroicame...\n",
       "3     Lo de Abel debe ser aclarado ahora por la máxi...\n",
       "4     #FelizSábado no olvidemos que esta semana tuvi...\n",
       "5     Durante este año he recibido muchas denuncias ...\n",
       "6     Leo en redes y escucho en los pasillos el #Vam...\n",
       "7     Buena nueva! Acabamos de ampliar la capacidad ...\n",
       "8     Una #NuevaConstitucionParaChile es el primer p...\n",
       "9     Han sido días durísimos, pero hoy damos un tre...\n",
       "10    La Catedral de #PuertoMontt fue construida en ...\n",
       "11    Quienes dice #NoalaAsambleConstituyente como l...\n",
       "12    Sólo un plebiscito garantizará cual es la opci...\n",
       "13    Desde el primer día de movilizaciones hemos pr...\n",
       "14    A unos amigos se les quemó parte de su casa en...\n",
       "15    @SylviaEyzaguirr Desde el Partido Liberal hemo...\n",
       "16    @JorgeUrzuaLira1 Jorge, condeno la violencia e...\n",
       "17    14 movimientos políticos hemos dicho q una #Nu...\n",
       "18    @franrubiom Absolutamente de acuerdo. Concuerd...\n",
       "19    #ParoNacional es válido, #YoNoMarcho también. ...\n",
       "20    Presidente, termine con esta guerra que invent...\n",
       "21    Que la ciudadania sea la que decida, que la ci...\n",
       "22    Presidente @sebastianpinera, más vale tarde qu...\n",
       "23    @Julio75436478 Julio, entiendo que la investig...\n",
       "24    @estranged1977 @Carabdechile @PDI_CHILE @sebas...\n",
       "25    #EstoPasaEnChile Presidente @sebastianpinera e...\n",
       "26    En Comisión Investigadora por Crisis del Agua ...\n",
       "27    UN POCO DE DIGNIDAD! Imágenes como estas son l...\n",
       "28    Aguante estimado @Manuel_Barria! Admirable com...\n",
       "29    Presidente @sebastianpinera termine con la vio...\n",
       "Name: text, dtype: object"
      ]
     },
     "execution_count": 34,
     "metadata": {},
     "output_type": "execute_result"
    }
   ],
   "source": [
    "corpus_data[\"text\"].head(30)"
   ]
  },
  {
   "cell_type": "code",
   "execution_count": 32,
   "id": "8bfe0359",
   "metadata": {
    "ExecuteTime": {
     "end_time": "2022-03-22T00:06:57.476138Z",
     "start_time": "2022-03-22T00:06:55.655582Z"
    }
   },
   "outputs": [
    {
     "name": "stdout",
     "output_type": "stream",
     "text": [
      "<class 'pandas.core.frame.DataFrame'>\n",
      "RangeIndex: 973904 entries, 0 to 973903\n",
      "Data columns (total 24 columns):\n",
      " #   Column                                 Non-Null Count   Dtype  \n",
      "---  ------                                 --------------   -----  \n",
      " 0   Unnamed: 0                             973904 non-null  int64  \n",
      " 1   id                                     973904 non-null  int64  \n",
      " 2   author_id                              973904 non-null  int64  \n",
      " 3   created_at                             973904 non-null  object \n",
      " 4   text                                   973904 non-null  object \n",
      " 5   public_metrics.like_count              973904 non-null  int64  \n",
      " 6   public_metrics.quote_count             973904 non-null  int64  \n",
      " 7   public_metrics.reply_count             973904 non-null  int64  \n",
      " 8   public_metrics.retweet_count           973904 non-null  int64  \n",
      " 9   author.username                        973904 non-null  object \n",
      " 10  Country                                973904 non-null  object \n",
      " 11  Categorie                              973904 non-null  object \n",
      " 12  Time                                   973904 non-null  object \n",
      " 13  Left/Right                             76856 non-null   object \n",
      " 14  author.entities.description.hashtags   234820 non-null  object \n",
      " 15  author.public_metrics.following_count  973904 non-null  int64  \n",
      " 16  in_reply_to_user_id                    220681 non-null  float64\n",
      " 17  retweeted_user_id                      469969 non-null  float64\n",
      " 18  quoted_user_id                         74017 non-null   float64\n",
      " 19  author.name                            973904 non-null  object \n",
      " 20  author.description                     961050 non-null  object \n",
      " 21  possibly_sensitive                     973904 non-null  bool   \n",
      " 22  cleaned_text                           973904 non-null  object \n",
      " 23  stem_text                              973904 non-null  object \n",
      "dtypes: bool(1), float64(3), int64(8), object(12)\n",
      "memory usage: 171.8+ MB\n"
     ]
    }
   ],
   "source": [
    "corpus_data.info()"
   ]
  },
  {
   "cell_type": "code",
   "execution_count": 33,
   "id": "9e73f785",
   "metadata": {
    "ExecuteTime": {
     "end_time": "2022-03-22T00:07:49.019908Z",
     "start_time": "2022-03-22T00:07:22.381667Z"
    }
   },
   "outputs": [],
   "source": [
    "corpus_data.to_csv(\"all_tweets_preprocessed.csv\") "
   ]
  }
 ],
 "metadata": {
  "kernelspec": {
   "display_name": "textmining",
   "language": "python",
   "name": "textmining"
  },
  "language_info": {
   "codemirror_mode": {
    "name": "ipython",
    "version": 3
   },
   "file_extension": ".py",
   "mimetype": "text/x-python",
   "name": "python",
   "nbconvert_exporter": "python",
   "pygments_lexer": "ipython3",
   "version": "3.8.12"
  },
  "toc": {
   "base_numbering": 1,
   "nav_menu": {},
   "number_sections": true,
   "sideBar": true,
   "skip_h1_title": false,
   "title_cell": "Table of Contents",
   "title_sidebar": "Contents",
   "toc_cell": false,
   "toc_position": {},
   "toc_section_display": true,
   "toc_window_display": false
  },
  "varInspector": {
   "cols": {
    "lenName": 16,
    "lenType": 16,
    "lenVar": 40
   },
   "kernels_config": {
    "python": {
     "delete_cmd_postfix": "",
     "delete_cmd_prefix": "del ",
     "library": "var_list.py",
     "varRefreshCmd": "print(var_dic_list())"
    },
    "r": {
     "delete_cmd_postfix": ") ",
     "delete_cmd_prefix": "rm(",
     "library": "var_list.r",
     "varRefreshCmd": "cat(var_dic_list()) "
    }
   },
   "types_to_exclude": [
    "module",
    "function",
    "builtin_function_or_method",
    "instance",
    "_Feature"
   ],
   "window_display": false
  }
 },
 "nbformat": 4,
 "nbformat_minor": 5
}
