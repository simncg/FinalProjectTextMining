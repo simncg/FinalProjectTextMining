{
 "cells": [
  {
   "cell_type": "markdown",
   "id": "5d5ce94e",
   "metadata": {},
   "source": [
    "# Sentiment and Topic Analysis"
   ]
  },
  {
   "cell_type": "code",
   "execution_count": null,
   "id": "JuOYPUhKPs2s",
   "metadata": {
    "colab": {
     "base_uri": "https://localhost:8080/"
    },
    "executionInfo": {
     "elapsed": 17332,
     "status": "ok",
     "timestamp": 1648207368160,
     "user": {
      "displayName": "Marc Stefan Hoeller",
      "photoUrl": "https://lh3.googleusercontent.com/a/default-user=s64",
      "userId": "10826333547946704079"
     },
     "user_tz": -60
    },
    "id": "JuOYPUhKPs2s",
    "outputId": "6da25d44-d82b-4db0-a6a3-fdc0d4ab1204"
   },
   "outputs": [],
   "source": [
    "from google.colab import drive\n",
    "drive.mount('/content/drive')"
   ]
  },
  {
   "cell_type": "code",
   "execution_count": null,
   "id": "evVDBUdSPzXQ",
   "metadata": {
    "executionInfo": {
     "elapsed": 7,
     "status": "ok",
     "timestamp": 1648207368161,
     "user": {
      "displayName": "Marc Stefan Hoeller",
      "photoUrl": "https://lh3.googleusercontent.com/a/default-user=s64",
      "userId": "10826333547946704079"
     },
     "user_tz": -60
    },
    "id": "evVDBUdSPzXQ"
   },
   "outputs": [],
   "source": [
    "import os\n",
    "os.chdir('/content/drive/My Drive/BSE/TextMining')"
   ]
  },
  {
   "cell_type": "markdown",
   "id": "0de01e27",
   "metadata": {
    "id": "0de01e27"
   },
   "source": [
    "## Preprocessing"
   ]
  },
  {
   "cell_type": "code",
   "execution_count": null,
   "id": "d7b5faa4",
   "metadata": {
    "ExecuteTime": {
     "end_time": "2022-03-30T09:23:35.119298Z",
     "start_time": "2022-03-30T09:23:29.813230Z"
    }
   },
   "outputs": [],
   "source": [
    "!pip install emoji"
   ]
  },
  {
   "cell_type": "code",
   "execution_count": null,
   "id": "3299c7cb",
   "metadata": {
    "ExecuteTime": {
     "end_time": "2022-03-30T09:24:01.575659Z",
     "start_time": "2022-03-30T09:23:55.590345Z"
    },
    "colab": {
     "base_uri": "https://localhost:8080/"
    },
    "executionInfo": {
     "elapsed": 1336,
     "status": "ok",
     "timestamp": 1648207348879,
     "user": {
      "displayName": "Marc Stefan Hoeller",
      "photoUrl": "https://lh3.googleusercontent.com/a/default-user=s64",
      "userId": "10826333547946704079"
     },
     "user_tz": -60
    },
    "id": "3299c7cb",
    "outputId": "51f6c032-7884-4a43-c4b2-cd8c4f29f7ef"
   },
   "outputs": [],
   "source": [
    "import numpy as np\n",
    "import pandas as pd\n",
    "import emoji\n",
    "import nltk\n",
    "nltk.download('stopwords')\n",
    "from nltk.corpus import stopwords\n",
    "from nltk.stem import SnowballStemmer   \n",
    "from nltk.stem.wordnet import WordNetLemmatizer\n",
    "import re\n",
    "\n",
    "import math\n",
    "import warnings\n",
    "import matplotlib.pyplot as plt\n",
    "import seaborn as sns"
   ]
  },
  {
   "cell_type": "code",
   "execution_count": null,
   "id": "9f501529",
   "metadata": {
    "ExecuteTime": {
     "end_time": "2022-03-30T09:24:01.582312Z",
     "start_time": "2022-03-30T09:24:01.582312Z"
    },
    "executionInfo": {
     "elapsed": 235,
     "status": "ok",
     "timestamp": 1648163354850,
     "user": {
      "displayName": "Marc Stefan Hoeller",
      "photoUrl": "https://lh3.googleusercontent.com/a/default-user=s64",
      "userId": "10826333547946704079"
     },
     "user_tz": -60
    },
    "id": "9f501529"
   },
   "outputs": [],
   "source": [
    "import warnings\n",
    "warnings.filterwarnings(\"ignore\")"
   ]
  },
  {
   "cell_type": "code",
   "execution_count": null,
   "id": "5690b19f",
   "metadata": {
    "ExecuteTime": {
     "end_time": "2022-03-27T12:19:03.132337Z",
     "start_time": "2022-03-27T12:19:03.090158Z"
    },
    "executionInfo": {
     "elapsed": 228,
     "status": "ok",
     "timestamp": 1648163367774,
     "user": {
      "displayName": "Marc Stefan Hoeller",
      "photoUrl": "https://lh3.googleusercontent.com/a/default-user=s64",
      "userId": "10826333547946704079"
     },
     "user_tz": -60
    },
    "id": "5690b19f"
   },
   "outputs": [],
   "source": [
    "stopwords_eng =stopwords.words(\"english\")\n",
    "stopwords_es =stopwords.words(\"spanish\")\n",
    "stops = stopwords_eng + stopwords_es\n",
    "\n",
    "def cleanTweets(s):\n",
    "    #Function to clean tweets, for now i am keeping emojis and hashtags. Alternative version\n",
    "    if type(s)==np.float:\n",
    "        return \"\"\n",
    "    #Demojize text\n",
    "    s=emoji.demojize(s)\n",
    "    \n",
    "    #Remove new lines, etc.\n",
    "    s = s.replace(r'<lb>', \"\\n\")\n",
    "    s = s.replace(r'<tab>', \"\\i\")\n",
    "    s = re.sub(r'<br */*>', \"\\n\", s)\n",
    "    s = s.replace(\"&lt;\", \"<\").replace(\"&gt;\", \">\").replace(\"&amp;\", \"&\")\n",
    "    s = s.replace(\"&amp;\", \"&\")\n",
    "    s = s.replace(\"\\n\", \" \")\n",
    "    \n",
    "    # markdown urls\n",
    "    s = re.sub(r'\\(https*://[^\\)]*\\)', \"\", s)\n",
    "    # normal urls\n",
    "    s = re.sub(r'https*://[^\\s]*', \"\", s)\n",
    "    #s = re.sub(r'_+', ' ', s)\n",
    "    s = re.sub(r'\"+', '\"', s)\n",
    "    #Remove punctuation    \n",
    "    s = re.sub('[()!?]', ' ', s)\n",
    "    s = re.sub('\\[.*?\\]',' ', s)\n",
    "    # custom removals\n",
    "    s = re.sub(r'@[A-Za-z0-9_]+', \"\", s) # replace mentions\n",
    "    s = re.sub(r':[^:]+','',s) # remove demojized text\n",
    "    \n",
    "    #Split multiword hashtags into individual words - they could contain spin\n",
    "    #s = re.sub(r'#(\\w+)', rep, s) # split hashtags\n",
    "    s = re.sub(r'#[A-Za-z0-9_]+', \"\", s) # remove hashtags\n",
    "    \n",
    "    s = re.sub(r'[0-9]','',s) #remove digits\n",
    "    \n",
    "    s=s.lower()\n",
    "    \n",
    "    #Remove stopwords\n",
    "    s=s.split()\n",
    "    s= [w for w in s if not s in stops]\n",
    "    \n",
    "    \n",
    "    s=\" \".join(word for word in s)\n",
    "    \n",
    "    return str(s)\n",
    "\n",
    "\n",
    "stemmer_eng=SnowballStemmer(\"english\")\n",
    "stemmer_es=SnowballStemmer(\"spanish\")\n",
    "lem = WordNetLemmatizer()\n",
    "\n",
    "def stem_lematize(s, modulation):\n",
    "    tokens = re.split(r'\\W+', s)\n",
    "    stems = []\n",
    "    for token in tokens:\n",
    "        if modulation==1:\n",
    "            eng=stemmer_es.stem(token)\n",
    "            stems.append(stemmer_es.stem(eng))\n",
    "        if modulation==2:\n",
    "            stems.append(lem.lemmatize(token))\n",
    "        if modulation==0:\n",
    "            stems.append(tokens)\n",
    "    s=\" \".join(word for word in stems)\n",
    "    return s"
   ]
  },
  {
   "cell_type": "code",
   "execution_count": null,
   "id": "0a971667",
   "metadata": {
    "ExecuteTime": {
     "end_time": "2022-03-23T21:19:40.418070Z",
     "start_time": "2022-03-23T21:19:19.596485Z"
    },
    "id": "0a971667",
    "outputId": "f8ba4676-3616-4315-f917-ad851a5342b0"
   },
   "outputs": [],
   "source": [
    "#corpus_data=pd.read_csv(\"Data/all_tweets_filtered.csv\")"
   ]
  },
  {
   "cell_type": "code",
   "execution_count": null,
   "id": "Qa5cgVZyQZqB",
   "metadata": {
    "executionInfo": {
     "elapsed": 18611,
     "status": "ok",
     "timestamp": 1648163412006,
     "user": {
      "displayName": "Marc Stefan Hoeller",
      "photoUrl": "https://lh3.googleusercontent.com/a/default-user=s64",
      "userId": "10826333547946704079"
     },
     "user_tz": -60
    },
    "id": "Qa5cgVZyQZqB"
   },
   "outputs": [],
   "source": [
    "df=pd.read_csv(\"all_tweets_filtered_final.csv\")"
   ]
  },
  {
   "cell_type": "code",
   "execution_count": null,
   "id": "9daa93cb",
   "metadata": {
    "ExecuteTime": {
     "end_time": "2022-03-23T21:29:10.368683Z",
     "start_time": "2022-03-23T21:20:42.067227Z"
    },
    "executionInfo": {
     "elapsed": 252558,
     "status": "ok",
     "timestamp": 1648163667630,
     "user": {
      "displayName": "Marc Stefan Hoeller",
      "photoUrl": "https://lh3.googleusercontent.com/a/default-user=s64",
      "userId": "10826333547946704079"
     },
     "user_tz": -60
    },
    "id": "9daa93cb"
   },
   "outputs": [],
   "source": [
    "df['cleaned_text'] = [cleanTweets(text) for text in df['text']]"
   ]
  },
  {
   "cell_type": "code",
   "execution_count": null,
   "id": "45792c7c",
   "metadata": {
    "ExecuteTime": {
     "end_time": "2022-03-23T22:09:59.276756Z",
     "start_time": "2022-03-23T21:50:27.231450Z"
    },
    "executionInfo": {
     "elapsed": 1005476,
     "status": "ok",
     "timestamp": 1648164673087,
     "user": {
      "displayName": "Marc Stefan Hoeller",
      "photoUrl": "https://lh3.googleusercontent.com/a/default-user=s64",
      "userId": "10826333547946704079"
     },
     "user_tz": -60
    },
    "id": "45792c7c"
   },
   "outputs": [],
   "source": [
    "df['stem_text'] = [stem_lematize(text, 1) for text in df['cleaned_text']]"
   ]
  },
  {
   "cell_type": "code",
   "execution_count": null,
   "id": "EiIQwykoQ102",
   "metadata": {
    "executionInfo": {
     "elapsed": 30743,
     "status": "ok",
     "timestamp": 1648164724239,
     "user": {
      "displayName": "Marc Stefan Hoeller",
      "photoUrl": "https://lh3.googleusercontent.com/a/default-user=s64",
      "userId": "10826333547946704079"
     },
     "user_tz": -60
    },
    "id": "EiIQwykoQ102"
   },
   "outputs": [],
   "source": [
    "df.to_csv('all_tweets_stem.csv')"
   ]
  },
  {
   "cell_type": "code",
   "execution_count": null,
   "id": "a87e452e",
   "metadata": {
    "ExecuteTime": {
     "end_time": "2022-03-23T21:19:43.133881Z",
     "start_time": "2022-03-23T21:19:43.133881Z"
    },
    "id": "a87e452e"
   },
   "outputs": [],
   "source": [
    "df['cleaned_text']"
   ]
  },
  {
   "cell_type": "code",
   "execution_count": null,
   "id": "7d77afe6",
   "metadata": {
    "ExecuteTime": {
     "end_time": "2022-03-23T21:19:43.161807Z",
     "start_time": "2022-03-23T21:19:43.161807Z"
    },
    "id": "7d77afe6"
   },
   "outputs": [],
   "source": [
    "df['stem_text']"
   ]
  },
  {
   "cell_type": "markdown",
   "id": "404b0b75",
   "metadata": {
    "id": "404b0b75"
   },
   "source": [
    "# Sentiment Analysis & LDA"
   ]
  },
  {
   "cell_type": "code",
   "execution_count": null,
   "id": "aa0db393",
   "metadata": {
    "ExecuteTime": {
     "end_time": "2022-03-22T17:22:14.059193Z",
     "start_time": "2022-03-22T17:21:43.770159Z"
    },
    "id": "aa0db393",
    "outputId": "801795a7-ec0f-4562-b2a5-84eacb4da4f7"
   },
   "outputs": [],
   "source": [
    "#Import Data\n",
    "#df=pd.read_csv(\"Data/all_tweets_preprocessed.csv\") "
   ]
  },
  {
   "cell_type": "code",
   "execution_count": null,
   "id": "1f21fb51",
   "metadata": {
    "ExecuteTime": {
     "end_time": "2022-03-22T11:35:15.280416Z",
     "start_time": "2022-03-22T11:35:13.098676Z"
    },
    "colab": {
     "base_uri": "https://localhost:8080/"
    },
    "executionInfo": {
     "elapsed": 1235,
     "status": "ok",
     "timestamp": 1648149835183,
     "user": {
      "displayName": "Marc Stefan Hoeller",
      "photoUrl": "https://lh3.googleusercontent.com/a/default-user=s64",
      "userId": "10826333547946704079"
     },
     "user_tz": -60
    },
    "id": "1f21fb51",
    "outputId": "3fe7e480-19da-45a1-ea7c-5641e55861d9"
   },
   "outputs": [],
   "source": [
    "df.info()"
   ]
  },
  {
   "cell_type": "markdown",
   "id": "938878dc",
   "metadata": {
    "id": "938878dc"
   },
   "source": [
    "## Sentiment Analysis Method 1"
   ]
  },
  {
   "cell_type": "code",
   "execution_count": null,
   "id": "d1b32fe1",
   "metadata": {
    "ExecuteTime": {
     "end_time": "2022-03-22T14:26:10.697848Z",
     "start_time": "2022-03-22T14:26:07.630485Z"
    },
    "colab": {
     "base_uri": "https://localhost:8080/"
    },
    "executionInfo": {
     "elapsed": 6374,
     "status": "ok",
     "timestamp": 1648164730593,
     "user": {
      "displayName": "Marc Stefan Hoeller",
      "photoUrl": "https://lh3.googleusercontent.com/a/default-user=s64",
      "userId": "10826333547946704079"
     },
     "user_tz": -60
    },
    "id": "d1b32fe1",
    "outputId": "79094032-53b1-424e-e5c7-faaddf1bf5ec"
   },
   "outputs": [],
   "source": [
    "!pip install sentiment-analysis-spanish"
   ]
  },
  {
   "cell_type": "code",
   "execution_count": null,
   "id": "f84aebf2",
   "metadata": {
    "ExecuteTime": {
     "end_time": "2022-03-22T17:22:16.223719Z",
     "start_time": "2022-03-22T17:22:15.907941Z"
    },
    "executionInfo": {
     "elapsed": 219,
     "status": "ok",
     "timestamp": 1648164732508,
     "user": {
      "displayName": "Marc Stefan Hoeller",
      "photoUrl": "https://lh3.googleusercontent.com/a/default-user=s64",
      "userId": "10826333547946704079"
     },
     "user_tz": -60
    },
    "id": "f84aebf2"
   },
   "outputs": [],
   "source": [
    "df['cleaned_text'] = df['cleaned_text'].astype(str)"
   ]
  },
  {
   "cell_type": "code",
   "execution_count": null,
   "id": "ae1be73c",
   "metadata": {
    "ExecuteTime": {
     "end_time": "2022-03-22T14:42:21.617551Z",
     "start_time": "2022-03-22T14:36:04.517371Z"
    },
    "executionInfo": {
     "elapsed": 561614,
     "status": "ok",
     "timestamp": 1648165298011,
     "user": {
      "displayName": "Marc Stefan Hoeller",
      "photoUrl": "https://lh3.googleusercontent.com/a/default-user=s64",
      "userId": "10826333547946704079"
     },
     "user_tz": -60
    },
    "id": "ae1be73c"
   },
   "outputs": [],
   "source": [
    "from sentiment_analysis_spanish import sentiment_analysis\n",
    "\n",
    "def get_sentiment(data,column):\n",
    "    output=[]\n",
    "    sent=sentiment_analysis.SentimentAnalysisSpanish()\n",
    "    for index, row in data.iterrows():\n",
    "        score=sent.sentiment(row[column])\n",
    "        output.append(score) \n",
    "    data[\"sentiment\"]=output  #Output between 0 and 1, low numbers negative, high numbers positive \n",
    "    return data\n",
    "\n",
    "df_1=get_sentiment(df,\"cleaned_text\")"
   ]
  },
  {
   "cell_type": "code",
   "execution_count": null,
   "id": "be3a8138",
   "metadata": {
    "ExecuteTime": {
     "end_time": "2022-03-22T14:49:18.464315Z",
     "start_time": "2022-03-22T14:49:18.271790Z"
    },
    "colab": {
     "base_uri": "https://localhost:8080/"
    },
    "executionInfo": {
     "elapsed": 626,
     "status": "ok",
     "timestamp": 1648165471207,
     "user": {
      "displayName": "Marc Stefan Hoeller",
      "photoUrl": "https://lh3.googleusercontent.com/a/default-user=s64",
      "userId": "10826333547946704079"
     },
     "user_tz": -60
    },
    "id": "be3a8138",
    "outputId": "c100202b-42c6-4579-a90d-c1909b768c0b"
   },
   "outputs": [],
   "source": [
    "df_1.groupby([\"Country\",\"Categorie\",\"Time\"])[\"sentiment\"].mean()"
   ]
  },
  {
   "cell_type": "code",
   "execution_count": null,
   "id": "0a4d1013",
   "metadata": {
    "ExecuteTime": {
     "end_time": "2022-03-22T23:12:26.855065Z",
     "start_time": "2022-03-22T23:12:26.826138Z"
    },
    "id": "0a4d1013"
   },
   "outputs": [],
   "source": [
    "df_1[df_1[\"sentiment\"]>0.8]"
   ]
  },
  {
   "cell_type": "code",
   "execution_count": null,
   "id": "o50Fim5HeVs8",
   "metadata": {
    "executionInfo": {
     "elapsed": 33863,
     "status": "ok",
     "timestamp": 1648165508806,
     "user": {
      "displayName": "Marc Stefan Hoeller",
      "photoUrl": "https://lh3.googleusercontent.com/a/default-user=s64",
      "userId": "10826333547946704079"
     },
     "user_tz": -60
    },
    "id": "o50Fim5HeVs8"
   },
   "outputs": [],
   "source": [
    "df_1.to_csv('all_tweets_sentiment_1.csv')"
   ]
  },
  {
   "cell_type": "code",
   "execution_count": null,
   "id": "a1a9b8b0",
   "metadata": {
    "id": "a1a9b8b0"
   },
   "outputs": [],
   "source": [
    "#Plot sentiment by day to check for date impact"
   ]
  },
  {
   "cell_type": "code",
   "execution_count": null,
   "id": "cd27a2c5",
   "metadata": {
    "ExecuteTime": {
     "end_time": "2022-03-30T09:23:19.992767Z",
     "start_time": "2022-03-30T09:23:19.962427Z"
    }
   },
   "outputs": [],
   "source": [
    "df_all=pd.read_csv(\"G:/My Drive/BSE/TextMining/all_tweets_sentiment_1.csv\")"
   ]
  },
  {
   "cell_type": "code",
   "execution_count": null,
   "id": "969aada3",
   "metadata": {
    "ExecuteTime": {
     "end_time": "2022-03-27T12:47:26.192712Z",
     "start_time": "2022-03-27T12:47:24.487607Z"
    }
   },
   "outputs": [],
   "source": [
    "df_all.info()"
   ]
  },
  {
   "cell_type": "code",
   "execution_count": null,
   "id": "8d27b51a",
   "metadata": {
    "ExecuteTime": {
     "end_time": "2022-03-27T21:10:42.929851Z",
     "start_time": "2022-03-27T21:10:42.864628Z"
    }
   },
   "outputs": [],
   "source": [
    "#create mapping table, 1 row per author_id\n",
    "map_table = df_all.drop_duplicates(subset=['author_id'])"
   ]
  },
  {
   "cell_type": "code",
   "execution_count": null,
   "id": "c38a6f93",
   "metadata": {
    "ExecuteTime": {
     "end_time": "2022-03-27T12:45:35.299957Z",
     "start_time": "2022-03-27T12:45:35.081165Z"
    }
   },
   "outputs": [],
   "source": [
    "df_all=df_all.rename(columns={\"Days since\":\"days_since\",\"Day Protest\":\"day_protest\"})"
   ]
  },
  {
   "cell_type": "code",
   "execution_count": null,
   "id": "0a68216d",
   "metadata": {
    "ExecuteTime": {
     "end_time": "2022-03-28T10:41:07.529118Z",
     "start_time": "2022-03-28T10:40:54.025966Z"
    }
   },
   "outputs": [],
   "source": [
    "sns.set_palette(\"icefire\")\n",
    "sns.set(rc={'figure.figsize':(10,7)})\n",
    "sent=sns.lineplot(data=df_all,x=\"days_since\",y=\"sentiment\",hue=\"Country\")\n",
    "\n",
    "sent.set_title( \"Sentiment comparison before, during and after the protest\")\n",
    "sent.set_xlabel( \"Timeline in Days (0: Start Protest)\")\n",
    "sent.set_ylabel( \"Sentiment Score (0: Negative, 1: Positive)\")"
   ]
  },
  {
   "cell_type": "code",
   "execution_count": null,
   "id": "83b86ed8",
   "metadata": {
    "ExecuteTime": {
     "end_time": "2022-03-27T12:52:10.391823Z",
     "start_time": "2022-03-27T12:51:53.220275Z"
    }
   },
   "outputs": [],
   "source": [
    "sns.set(rc={'figure.figsize':(15,10)})\n",
    "sns.lineplot(data=df_all,x=\"days_since\",y=\"sentiment\",hue=\"Country\",style=\"Categorie\")"
   ]
  },
  {
   "cell_type": "code",
   "execution_count": null,
   "id": "a2bcf0ae",
   "metadata": {
    "ExecuteTime": {
     "end_time": "2022-03-28T10:42:28.264808Z",
     "start_time": "2022-03-28T10:42:10.852582Z"
    }
   },
   "outputs": [],
   "source": [
    "sns.set()\n",
    "sns.set(rc={'figure.figsize':(15,7)})\n",
    "#define plotting region (1 row, 2 columns)\n",
    "fig, axes = plt.subplots(1, 2)\n",
    "\n",
    "#create boxplot in each subplot\n",
    "pl1=sns.lineplot(data=df_all[df_all[\"Country\"]==\"Chile\"],x=\"days_since\",y=\"sentiment\",hue=\"Categorie\",ax=axes[0])\n",
    "pl2=sns.lineplot(data=df_all[df_all[\"Country\"]==\"Colombia\"],x=\"days_since\",y=\"sentiment\",hue=\"Categorie\",ax=axes[1])\n",
    "\n",
    "pl1.set_title( \"Sentiment in Chile\")\n",
    "pl1.set_xlabel( \"Timeline in Days (0: Start Protest)\")\n",
    "pl1.set_ylabel( \"Sentiment Score (0: Negative, 1: Positive)\")\n",
    "pl2.set_title( \"Sentiment in Colombia\")\n",
    "pl2.set_xlabel( \"Timeline in Days (0: Start Protest)\")\n",
    "pl2.set_ylabel( \"Sentiment Score (0: Negative, 1: Positive)\")"
   ]
  },
  {
   "cell_type": "markdown",
   "id": "50d0de69",
   "metadata": {
    "ExecuteTime": {
     "end_time": "2022-03-27T13:33:50.402834Z",
     "start_time": "2022-03-27T13:33:50.389323Z"
    }
   },
   "source": [
    "**ANOVA**"
   ]
  },
  {
   "cell_type": "code",
   "execution_count": null,
   "id": "bea02d05",
   "metadata": {
    "ExecuteTime": {
     "end_time": "2022-03-28T10:43:38.072059Z",
     "start_time": "2022-03-28T10:43:37.874201Z"
    }
   },
   "outputs": [],
   "source": [
    "df=df_all[df_all[\"Country\"]==\"Chile\"]"
   ]
  },
  {
   "cell_type": "code",
   "execution_count": null,
   "id": "cee82d22",
   "metadata": {
    "ExecuteTime": {
     "end_time": "2022-03-28T10:43:46.125014Z",
     "start_time": "2022-03-28T10:43:45.399823Z"
    }
   },
   "outputs": [],
   "source": [
    "from scipy import stats\n",
    "\n",
    "keys = list(df.Time.unique())\n",
    "\n",
    "values = []\n",
    "for engine in keys:\n",
    "    values.append(list(df.loc[df['Time'] == engine, 'sentiment']))\n",
    "\n",
    "data = dict(zip(keys, values))\n",
    "\n",
    "# stats f_oneway functions takes the groups as input and returns F and P-value\n",
    "fvalue, pvalue = stats.f_oneway(data['Before'],\n",
    "                                data['During'], \n",
    "                                data['After'])\n",
    "\n",
    "print(f\"Results of ANOVA test:\\n The F-statistic is: {fvalue}\\n The p-value is: {pvalue}\")\n",
    "#Highly significant\n",
    "\n",
    "from statsmodels.stats.multicomp import pairwise_tukeyhsd\n",
    "\n",
    "# perform multiple pairwise comparison (Tukey HSD)\n",
    "m_comp = pairwise_tukeyhsd(endog=df['sentiment'], groups=df['Time'], alpha=0.05)\n",
    "print(m_comp)\n",
    "#All are different"
   ]
  },
  {
   "cell_type": "code",
   "execution_count": null,
   "id": "bf5d49d0",
   "metadata": {
    "ExecuteTime": {
     "end_time": "2022-03-28T10:43:54.628362Z",
     "start_time": "2022-03-28T10:43:53.979967Z"
    }
   },
   "outputs": [],
   "source": [
    "df=df_all[df_all[\"Country\"]==\"Colombia\"]\n",
    "\n",
    "from scipy import stats\n",
    "\n",
    "keys = list(df.Time.unique())\n",
    "\n",
    "values = []\n",
    "for engine in keys:\n",
    "    values.append(list(df.loc[df['Time'] == engine, 'sentiment']))\n",
    "\n",
    "data = dict(zip(keys, values))\n",
    "\n",
    "# stats f_oneway functions takes the groups as input and returns F and P-value\n",
    "fvalue, pvalue = stats.f_oneway(data['Before'],\n",
    "                                data['During'], \n",
    "                                data['After'])\n",
    "\n",
    "print(f\"Results of ANOVA test:\\n The F-statistic is: {round(fvalue,2)}\\n The p-value is: {round(pvalue,2)}\")\n",
    "#Highly significant\n",
    "\n",
    "from statsmodels.stats.multicomp import pairwise_tukeyhsd\n",
    "\n",
    "# perform multiple pairwise comparison (Tukey HSD)\n",
    "m_comp = pairwise_tukeyhsd(endog=df['sentiment'], groups=df['Time'], alpha=0.05)\n",
    "print(m_comp)\n",
    "#All are different"
   ]
  },
  {
   "cell_type": "markdown",
   "id": "4779bf1c",
   "metadata": {},
   "source": [
    "**Right vs. Left**"
   ]
  },
  {
   "cell_type": "code",
   "execution_count": null,
   "id": "e8d7c9e4",
   "metadata": {
    "ExecuteTime": {
     "end_time": "2022-03-27T13:35:39.344108Z",
     "start_time": "2022-03-27T13:35:39.251292Z"
    }
   },
   "outputs": [],
   "source": [
    "politicians=df_all[df_all[\"Categorie\"]==\"Politician\"]"
   ]
  },
  {
   "cell_type": "code",
   "execution_count": null,
   "id": "ff621535",
   "metadata": {
    "ExecuteTime": {
     "end_time": "2022-03-27T13:37:05.290230Z",
     "start_time": "2022-03-27T13:36:56.685267Z"
    }
   },
   "outputs": [],
   "source": [
    "sns.set()\n",
    "\n",
    "#define plotting region (1 row, 2 columns)\n",
    "fig, axes = plt.subplots(1, 2)\n",
    "\n",
    "#create boxplot in each subplot\n",
    "sns.lineplot(data=politicians[politicians[\"Country\"]==\"Colombia\"],x=\"days_since\",y=\"sentiment\",hue=\"Left/Right\",ax=axes[0])\n",
    "sns.lineplot(data=politicians[politicians[\"Country\"]==\"Chile\"],x=\"days_since\",y=\"sentiment\",hue=\"Left/Right\",ax=axes[1])"
   ]
  },
  {
   "cell_type": "code",
   "execution_count": null,
   "id": "fb00ec4b",
   "metadata": {
    "ExecuteTime": {
     "end_time": "2022-03-27T13:39:17.551116Z",
     "start_time": "2022-03-27T13:39:17.502258Z"
    }
   },
   "outputs": [],
   "source": [
    "politicians.groupby([\"Country\",\"Time\",\"Left/Right\"])[\"sentiment\"].mean()"
   ]
  },
  {
   "cell_type": "markdown",
   "id": "a5468e81",
   "metadata": {},
   "source": [
    "## Sentiment Analysis Method 2"
   ]
  },
  {
   "cell_type": "markdown",
   "id": "7673414b",
   "metadata": {
    "id": "7673414b"
   },
   "source": [
    "**Pysentimiento - Getting the Data**"
   ]
  },
  {
   "cell_type": "code",
   "execution_count": null,
   "id": "5c68cdf3",
   "metadata": {
    "ExecuteTime": {
     "end_time": "2022-03-24T13:31:08.888094Z",
     "start_time": "2022-03-24T13:30:42.383947Z"
    },
    "colab": {
     "base_uri": "https://localhost:8080/",
     "height": 1000
    },
    "executionInfo": {
     "elapsed": 16035,
     "status": "ok",
     "timestamp": 1648207301838,
     "user": {
      "displayName": "Marc Stefan Hoeller",
      "photoUrl": "https://lh3.googleusercontent.com/a/default-user=s64",
      "userId": "10826333547946704079"
     },
     "user_tz": -60
    },
    "id": "5c68cdf3",
    "outputId": "9d6df8f6-f701-4909-e284-817b963461b4"
   },
   "outputs": [],
   "source": [
    "!pip install pysentimiento"
   ]
  },
  {
   "cell_type": "code",
   "execution_count": null,
   "id": "FruoexUNz6at",
   "metadata": {
    "colab": {
     "base_uri": "https://localhost:8080/"
    },
    "executionInfo": {
     "elapsed": 18452,
     "status": "ok",
     "timestamp": 1648207399866,
     "user": {
      "displayName": "Marc Stefan Hoeller",
      "photoUrl": "https://lh3.googleusercontent.com/a/default-user=s64",
      "userId": "10826333547946704079"
     },
     "user_tz": -60
    },
    "id": "FruoexUNz6at",
    "outputId": "74a7144c-103f-4cc7-cd4a-82c96a1a0bcf"
   },
   "outputs": [],
   "source": [
    "df_1=pd.read_csv(\"all_tweets_sentiment_1.csv\")"
   ]
  },
  {
   "cell_type": "code",
   "execution_count": null,
   "id": "5mESnBJc0Cxy",
   "metadata": {
    "executionInfo": {
     "elapsed": 591,
     "status": "ok",
     "timestamp": 1648207579002,
     "user": {
      "displayName": "Marc Stefan Hoeller",
      "photoUrl": "https://lh3.googleusercontent.com/a/default-user=s64",
      "userId": "10826333547946704079"
     },
     "user_tz": -60
    },
    "id": "5mESnBJc0Cxy"
   },
   "outputs": [],
   "source": [
    "df_1['cleaned_text'] = df_1['cleaned_text'].astype(str)"
   ]
  },
  {
   "cell_type": "code",
   "execution_count": null,
   "id": "96d866a7",
   "metadata": {},
   "outputs": [],
   "source": [
    "df_1['text'] = df_1['text'].astype(str)"
   ]
  },
  {
   "cell_type": "code",
   "execution_count": null,
   "id": "c5062d80",
   "metadata": {},
   "outputs": [],
   "source": [
    "pd.set_option('display.max_rows', 100)"
   ]
  },
  {
   "cell_type": "code",
   "execution_count": null,
   "id": "942e1859",
   "metadata": {},
   "outputs": [],
   "source": [
    "print(df_1[\"Days since\"].value_counts()) #0,5,-5,195"
   ]
  },
  {
   "cell_type": "code",
   "execution_count": null,
   "id": "b7c25239",
   "metadata": {},
   "outputs": [],
   "source": [
    "#Filter on four days for analysis\n",
    "df_test=df_1[df_1[\"Days since\"].isin([-5,0,5,195])]"
   ]
  },
  {
   "cell_type": "code",
   "execution_count": null,
   "id": "a12f5462",
   "metadata": {},
   "outputs": [],
   "source": [
    "df_test[\"Days since\"].value_counts()"
   ]
  },
  {
   "cell_type": "code",
   "execution_count": null,
   "id": "b8e37836",
   "metadata": {
    "ExecuteTime": {
     "end_time": "2022-03-22T22:17:57.266040Z",
     "start_time": "2022-03-22T22:17:57.243176Z"
    },
    "executionInfo": {
     "elapsed": 9500,
     "status": "ok",
     "timestamp": 1648207444588,
     "user": {
      "displayName": "Marc Stefan Hoeller",
      "photoUrl": "https://lh3.googleusercontent.com/a/default-user=s64",
      "userId": "10826333547946704079"
     },
     "user_tz": -60
    },
    "id": "b8e37836"
   },
   "outputs": [],
   "source": [
    "from pysentimiento import create_analyzer\n",
    "from pysentimiento.preprocessing import preprocess_tweet"
   ]
  },
  {
   "cell_type": "code",
   "execution_count": null,
   "id": "VaILmHdww1tA",
   "metadata": {
    "executionInfo": {
     "elapsed": 227,
     "status": "ok",
     "timestamp": 1648207445892,
     "user": {
      "displayName": "Marc Stefan Hoeller",
      "photoUrl": "https://lh3.googleusercontent.com/a/default-user=s64",
      "userId": "10826333547946704079"
     },
     "user_tz": -60
    },
    "id": "VaILmHdww1tA"
   },
   "outputs": [],
   "source": [
    "import time"
   ]
  },
  {
   "cell_type": "code",
   "execution_count": null,
   "id": "soY5508qv7G7",
   "metadata": {
    "executionInfo": {
     "elapsed": 5,
     "status": "ok",
     "timestamp": 1648207461601,
     "user": {
      "displayName": "Marc Stefan Hoeller",
      "photoUrl": "https://lh3.googleusercontent.com/a/default-user=s64",
      "userId": "10826333547946704079"
     },
     "user_tz": -60
    },
    "id": "soY5508qv7G7"
   },
   "outputs": [],
   "source": [
    "#Without preprocessing\n",
    "def get_sentiment_np(data,column):\n",
    "    start_time = time.time()\n",
    "    negative=[]\n",
    "    analyzer = create_analyzer(task=\"sentiment\", lang=\"es\")\n",
    "    for index, row in data.iterrows():\n",
    "        score=analyzer.predict(row[column])\n",
    "        neg=score.probas[\"NEG\"]\n",
    "        negative.append(neg)\n",
    "    data[\"sentiment_neg\"]=negative\n",
    "    print(\"--- %s seconds ---\" % (time.time() - start_time))\n",
    "    return data"
   ]
  },
  {
   "cell_type": "code",
   "execution_count": null,
   "id": "OJeahG_K0gE5",
   "metadata": {
    "colab": {
     "base_uri": "https://localhost:8080/"
    },
    "executionInfo": {
     "elapsed": 155576,
     "status": "ok",
     "timestamp": 1648207744876,
     "user": {
      "displayName": "Marc Stefan Hoeller",
      "photoUrl": "https://lh3.googleusercontent.com/a/default-user=s64",
      "userId": "10826333547946704079"
     },
     "user_tz": -60
    },
    "id": "OJeahG_K0gE5",
    "outputId": "611c2f8f-b04a-4a2a-ad5e-10c08f75fd0c"
   },
   "outputs": [],
   "source": [
    "df_test=get_sentiment_np(df_test,\"cleaned_text\")"
   ]
  },
  {
   "cell_type": "code",
   "execution_count": null,
   "id": "031b0ede",
   "metadata": {},
   "outputs": [],
   "source": [
    "df_test.to_csv('subset_sentiment.csv')"
   ]
  },
  {
   "cell_type": "code",
   "execution_count": null,
   "id": "39544665",
   "metadata": {},
   "outputs": [],
   "source": [
    "df_test.groupby([\"Country\",\"Categorie\",\"Days since\"])[\"sentiment_neg\"].mean()"
   ]
  },
  {
   "cell_type": "code",
   "execution_count": null,
   "id": "sS8C0q24SCaU",
   "metadata": {
    "executionInfo": {
     "elapsed": 261,
     "status": "ok",
     "timestamp": 1648131326501,
     "user": {
      "displayName": "Marc Stefan Hoeller",
      "photoUrl": "https://lh3.googleusercontent.com/a/default-user=s64",
      "userId": "10826333547946704079"
     },
     "user_tz": -60
    },
    "id": "sS8C0q24SCaU"
   },
   "outputs": [],
   "source": [
    "pd.options.display.max_colwidth = 500"
   ]
  },
  {
   "cell_type": "code",
   "execution_count": null,
   "id": "gM1iO-pHRZwk",
   "metadata": {
    "colab": {
     "base_uri": "https://localhost:8080/"
    },
    "executionInfo": {
     "elapsed": 270,
     "status": "ok",
     "timestamp": 1648131429786,
     "user": {
      "displayName": "Marc Stefan Hoeller",
      "photoUrl": "https://lh3.googleusercontent.com/a/default-user=s64",
      "userId": "10826333547946704079"
     },
     "user_tz": -60
    },
    "id": "gM1iO-pHRZwk",
    "outputId": "6e7d0f1d-1843-40f1-eefc-3b6b96898177"
   },
   "outputs": [],
   "source": [
    "df_2[df_2[\"sentiment_neg\"]<0.05][\"text\"]"
   ]
  },
  {
   "cell_type": "code",
   "execution_count": null,
   "id": "4d40e7e2",
   "metadata": {
    "ExecuteTime": {
     "end_time": "2022-03-22T22:30:38.867289Z",
     "start_time": "2022-03-22T22:30:33.554558Z"
    },
    "colab": {
     "base_uri": "https://localhost:8080/",
     "height": 1000,
     "referenced_widgets": [
      "86af6c41527a49d186afe708eaecc678",
      "5457f7b8aaa84fe3998b44d2c9779ae7",
      "53eb2996f5924544808becfaa1d6abca",
      "cf6258ca4f97487b9e038932764c8838",
      "d54a98a5332c40f7bca76bd5aa2f7a34",
      "710364f3e86246a89de6c7292d0de757",
      "d38e2256929649128ee8261f4744e9bc",
      "4a6f696eab5e4fdeabe03259009b8d89",
      "43d55824213d49089881be1a8c29f4c0",
      "1e3862e4f4e249a4ac63ed44e6fa8989",
      "707ea2b6a31742c8b2153b31f2834ecb",
      "ef0ec57a89e54bde894168154bf454db",
      "1c6be7cb43704d45b73f0820957327a2",
      "2dec7fe49b1c4dd29d026ffaa6f7e09b",
      "d9cf5ac7010242349377dd56e21fd5ec",
      "db883acf1cbf41838aba7f1fe86da646",
      "c3f564a1037c4728a3c4b470d0c5f11e",
      "07b903962b3842f9a80e40d1830319ee",
      "37d753c3d2484573ae74edcbbee7d2f0",
      "be52f107a2c747cf8c7ff2f6f0b3dae4",
      "87d79029ac674fab96f473b58f85b0ef",
      "79384f897a644dd8a99cf434f7e7f693",
      "9f5778eb9e3647edbd2f4773b32226b9",
      "12ac3cefa79142c2ac9e95809f281dce",
      "052039456dec4db2bf7b7c2b9ff47ea3",
      "61253b2ea4744c44bd201097fed52ef5",
      "e2a145c584be42fc88bac0a56aeec67b",
      "f7e6eca23dd44083b12aca805ded00af",
      "5cee158d3bc14f7aa30f26b182942e2d",
      "c29cee75567b4e799bd74baebcae3cc7",
      "022fd36b79684371886e06504fa8c27f",
      "89800bab0d93408293412419fc6937f1",
      "9c33c69afeb548d8b8f35ecc1bac83f1",
      "4da9d41b4f0a4ec98da3db4cef77f4cb",
      "b51ef4dd65d842b784476016a41aa2aa",
      "f46dc71ec67244ec8b96604b7dc700a6",
      "ef2b5e68407240cd8d6077fabbec773b",
      "0d8f2381f3e644a1a6d26f604c920dd6",
      "f0a783aaaabf45bebc2227c6f12842cc",
      "f624495fa162456d90a7a7c0364906c7",
      "f7a546919d3749db874f280009baa95f",
      "a43085af4a084539a5ce32166aa0838f",
      "1c1503c5b01349aea40f243186e8a119",
      "2da511cb9bed4f5b96e5c614e4effa7f",
      "3fd4455c524a42f59b57bb3d50cf1cd7",
      "f3d72b4b136549e99d133169e6042798",
      "26f94194e29047c6a0a67e559987f06b",
      "3ce87a8078144d7c9c05743961b570a8",
      "567f58b9928f44d888164f4e0feda655",
      "aa4d53117fb34aaaa793e9d2cb5db53b",
      "11b83e18f0dc40c7a9d2fcedd795c9f1",
      "e094ba200afb41a1a355b83e56ea1e9c",
      "8a322d90c5544a1a9fe7440688295ffc",
      "90883ec988d64addaaa236ae3a03022f",
      "f96f3cfe6291493aa2dab1874a2590c0"
     ]
    },
    "executionInfo": {
     "elapsed": 116715,
     "status": "error",
     "timestamp": 1648149821842,
     "user": {
      "displayName": "Marc Stefan Hoeller",
      "photoUrl": "https://lh3.googleusercontent.com/a/default-user=s64",
      "userId": "10826333547946704079"
     },
     "user_tz": -60
    },
    "id": "0380c8cb",
    "outputId": "28c6c3af-7ae1-4773-9bae-b4d8fea8419f"
   },
   "outputs": [],
   "source": [
    "def get_hate_speech(data,column):\n",
    "    hate=[]\n",
    "    hate_speech_analyzer = create_analyzer(task=\"hate_speech\", lang=\"es\")\n",
    "    for index, row in data.iterrows():\n",
    "        text=preprocess_tweet(row[column])\n",
    "        score=hate_speech_analyzer.predict(text)\n",
    "        ha_score=(score.probas[\"hateful\"]+score.probas[\"aggressive\"])/2\n",
    "        hate.append(ha_score)\n",
    "    data[\"hate_speech\"]=hate\n",
    "    return data"
   ]
  },
  {
   "cell_type": "code",
   "execution_count": null,
   "id": "0380c8cb",
   "metadata": {
    "ExecuteTime": {
     "end_time": "2022-03-22T22:30:38.867289Z",
     "start_time": "2022-03-22T22:30:33.554558Z"
    },
    "colab": {
     "base_uri": "https://localhost:8080/",
     "height": 1000,
     "referenced_widgets": [
      "86af6c41527a49d186afe708eaecc678",
      "5457f7b8aaa84fe3998b44d2c9779ae7",
      "53eb2996f5924544808becfaa1d6abca",
      "cf6258ca4f97487b9e038932764c8838",
      "d54a98a5332c40f7bca76bd5aa2f7a34",
      "710364f3e86246a89de6c7292d0de757",
      "d38e2256929649128ee8261f4744e9bc",
      "4a6f696eab5e4fdeabe03259009b8d89",
      "43d55824213d49089881be1a8c29f4c0",
      "1e3862e4f4e249a4ac63ed44e6fa8989",
      "707ea2b6a31742c8b2153b31f2834ecb",
      "ef0ec57a89e54bde894168154bf454db",
      "1c6be7cb43704d45b73f0820957327a2",
      "2dec7fe49b1c4dd29d026ffaa6f7e09b",
      "d9cf5ac7010242349377dd56e21fd5ec",
      "db883acf1cbf41838aba7f1fe86da646",
      "c3f564a1037c4728a3c4b470d0c5f11e",
      "07b903962b3842f9a80e40d1830319ee",
      "37d753c3d2484573ae74edcbbee7d2f0",
      "be52f107a2c747cf8c7ff2f6f0b3dae4",
      "87d79029ac674fab96f473b58f85b0ef",
      "79384f897a644dd8a99cf434f7e7f693",
      "9f5778eb9e3647edbd2f4773b32226b9",
      "12ac3cefa79142c2ac9e95809f281dce",
      "052039456dec4db2bf7b7c2b9ff47ea3",
      "61253b2ea4744c44bd201097fed52ef5",
      "e2a145c584be42fc88bac0a56aeec67b",
      "f7e6eca23dd44083b12aca805ded00af",
      "5cee158d3bc14f7aa30f26b182942e2d",
      "c29cee75567b4e799bd74baebcae3cc7",
      "022fd36b79684371886e06504fa8c27f",
      "89800bab0d93408293412419fc6937f1",
      "9c33c69afeb548d8b8f35ecc1bac83f1",
      "4da9d41b4f0a4ec98da3db4cef77f4cb",
      "b51ef4dd65d842b784476016a41aa2aa",
      "f46dc71ec67244ec8b96604b7dc700a6",
      "ef2b5e68407240cd8d6077fabbec773b",
      "0d8f2381f3e644a1a6d26f604c920dd6",
      "f0a783aaaabf45bebc2227c6f12842cc",
      "f624495fa162456d90a7a7c0364906c7",
      "f7a546919d3749db874f280009baa95f",
      "a43085af4a084539a5ce32166aa0838f",
      "1c1503c5b01349aea40f243186e8a119",
      "2da511cb9bed4f5b96e5c614e4effa7f",
      "3fd4455c524a42f59b57bb3d50cf1cd7",
      "f3d72b4b136549e99d133169e6042798",
      "26f94194e29047c6a0a67e559987f06b",
      "3ce87a8078144d7c9c05743961b570a8",
      "567f58b9928f44d888164f4e0feda655",
      "aa4d53117fb34aaaa793e9d2cb5db53b",
      "11b83e18f0dc40c7a9d2fcedd795c9f1",
      "e094ba200afb41a1a355b83e56ea1e9c",
      "8a322d90c5544a1a9fe7440688295ffc",
      "90883ec988d64addaaa236ae3a03022f",
      "f96f3cfe6291493aa2dab1874a2590c0"
     ]
    },
    "executionInfo": {
     "elapsed": 116715,
     "status": "error",
     "timestamp": 1648149821842,
     "user": {
      "displayName": "Marc Stefan Hoeller",
      "photoUrl": "https://lh3.googleusercontent.com/a/default-user=s64",
      "userId": "10826333547946704079"
     },
     "user_tz": -60
    },
    "id": "0380c8cb",
    "outputId": "28c6c3af-7ae1-4773-9bae-b4d8fea8419f"
   },
   "outputs": [],
   "source": [
    "df_test=get_hate_speech(df_test,\"text\")\n",
    "df_test.to_csv('subset_sentiment.csv')"
   ]
  },
  {
   "cell_type": "code",
   "execution_count": null,
   "id": "4a64a9ac",
   "metadata": {},
   "outputs": [],
   "source": [
    "df_test.groupby([\"Country\",\"Categorie\",\"Days since\"])[\"hate_speech\"].mean()"
   ]
  },
  {
   "cell_type": "code",
   "execution_count": null,
   "id": "a31b3083",
   "metadata": {},
   "outputs": [],
   "source": [
    "df_test[\"hate_speech\"]"
   ]
  },
  {
   "cell_type": "code",
   "execution_count": null,
   "id": "dc853097",
   "metadata": {
    "id": "39578364"
   },
   "outputs": [],
   "source": [
    "def get_emotions(data,column):\n",
    "    \n",
    "    emotions=[\"fear\",\"surprise\",\"joy\",\"disgust\",\"sadness\",\"anger\",\"others\"]\n",
    "    fear=[]\n",
    "    surprise=[]\n",
    "    joy=[]\n",
    "    disgust=[]\n",
    "    sadness=[]\n",
    "    anger=[]\n",
    "    others=[]\n",
    "    \n",
    "    emotion_analyzer = create_analyzer(task=\"emotion\", lang=\"en\")\n",
    "    for index, row in data.iterrows():\n",
    "        text=preprocess_tweet(row[column])\n",
    "        score=emotion_analyzer.predict(text)\n",
    "        fear.append(score.probas[\"fear\"])\n",
    "        surprise.append(score.probas[\"surprise\"])\n",
    "        joy.append(score.probas[\"joy\"])\n",
    "        disgust.append(score.probas[\"disgust\"])\n",
    "        sadness.append(score.probas[\"sadness\"])\n",
    "        anger.append(score.probas[\"anger\"])\n",
    "        others.append(score.probas[\"others\"])\n",
    "        \n",
    "    data['fear']=fear\n",
    "    data['surprise']=surprise\n",
    "    data['joy']=joy\n",
    "    data['disgust']=disgust\n",
    "    data['sadness']=sadness\n",
    "    data['anger']=anger\n",
    "    data['others']=others\n",
    "    \n",
    "    return data"
   ]
  },
  {
   "cell_type": "code",
   "execution_count": null,
   "id": "39578364",
   "metadata": {
    "id": "39578364"
   },
   "outputs": [],
   "source": [
    "df_test=get_emotions(df_test,\"text\")\n",
    "df_test.to_csv('subset_sentiment.csv')"
   ]
  },
  {
   "cell_type": "code",
   "execution_count": null,
   "id": "31b80b27",
   "metadata": {},
   "outputs": [],
   "source": [
    "df_test.groupby([\"Country\",\"Categorie\",\"Days since\"])[[\"sadness\",\"joy\",\"fear\",\"disgust\",\"anger\",\"surprise\",\"others\"]].mean()"
   ]
  },
  {
   "cell_type": "markdown",
   "id": "d18d1b78",
   "metadata": {},
   "source": [
    "**Analyze Data**"
   ]
  },
  {
   "cell_type": "code",
   "execution_count": null,
   "id": "dc797124",
   "metadata": {
    "ExecuteTime": {
     "end_time": "2022-03-27T13:43:15.017421Z",
     "start_time": "2022-03-27T13:43:14.119550Z"
    }
   },
   "outputs": [],
   "source": [
    "sentiment=pd.read_csv(\"C:/Users/Stefan Hoeller/Documents/BSE/TextMining/FinalProjectTextMining/Data/subset_sentiment.csv\")"
   ]
  },
  {
   "cell_type": "code",
   "execution_count": null,
   "id": "cd1ffb3b",
   "metadata": {
    "ExecuteTime": {
     "end_time": "2022-03-27T13:43:22.807147Z",
     "start_time": "2022-03-27T13:43:22.697966Z"
    }
   },
   "outputs": [],
   "source": [
    "sentiment.info()"
   ]
  },
  {
   "cell_type": "code",
   "execution_count": null,
   "id": "3226d08c",
   "metadata": {
    "ExecuteTime": {
     "end_time": "2022-03-27T14:38:41.767896Z",
     "start_time": "2022-03-27T14:38:41.756885Z"
    }
   },
   "outputs": [],
   "source": [
    "sns.color_palette(\"icefire\", as_cmap=True)\n",
    "sns.set_palette(\"icefire\")"
   ]
  },
  {
   "cell_type": "code",
   "execution_count": null,
   "id": "7f88f3bc",
   "metadata": {
    "ExecuteTime": {
     "end_time": "2022-03-27T14:38:45.199980Z",
     "start_time": "2022-03-27T14:38:44.340475Z"
    }
   },
   "outputs": [],
   "source": [
    "# set as Categorical and Categories as strings\n",
    "sentiment.sort_values('Days since', inplace=True, ascending=True)\n",
    "sentiment[\"Timeline\"] = sentiment[\"Days since\"].astype(str)\n",
    "\n",
    "\n",
    "# plot\n",
    "fig, ax = plt.subplots(figsize = (16,8))\n",
    "p1 = sns.lineplot(ax=ax, x='Timeline', y='sentiment_neg', data=sentiment, hue='Country')"
   ]
  },
  {
   "cell_type": "code",
   "execution_count": null,
   "id": "4ee5bab8",
   "metadata": {
    "ExecuteTime": {
     "end_time": "2022-03-27T14:38:50.229713Z",
     "start_time": "2022-03-27T14:38:49.186140Z"
    }
   },
   "outputs": [],
   "source": [
    "# plot\n",
    "fig, ax = plt.subplots(figsize = (16,8))\n",
    "p1 = sns.lineplot(ax=ax, x='Timeline', y='sentiment_neg', data=sentiment, hue='Country',style=\"Categorie\")"
   ]
  },
  {
   "cell_type": "code",
   "execution_count": null,
   "id": "98f421a8",
   "metadata": {
    "ExecuteTime": {
     "end_time": "2022-03-27T14:38:53.640496Z",
     "start_time": "2022-03-27T14:38:52.915498Z"
    }
   },
   "outputs": [],
   "source": [
    "# plot\n",
    "fig, ax = plt.subplots(figsize = (16,8))\n",
    "p1 = sns.lineplot(ax=ax, x='Timeline', y='sentiment_neg', data=sentiment, hue='Country',style=\"Left/Right\")"
   ]
  },
  {
   "cell_type": "code",
   "execution_count": null,
   "id": "56dcae64",
   "metadata": {
    "ExecuteTime": {
     "end_time": "2022-03-28T11:26:28.855749Z",
     "start_time": "2022-03-28T11:26:27.907463Z"
    }
   },
   "outputs": [],
   "source": [
    "plot = sns.factorplot(x='Country', y='sentiment_neg', hue='Timeline', data=sentiment, kind='bar')\n",
    "#plot.set_ylabel( \"Negativity of the Tweet\")\n",
    "plot.set(xlabel='Country', ylabel='Negativity of the Tweet')"
   ]
  },
  {
   "cell_type": "code",
   "execution_count": null,
   "id": "f9abe997",
   "metadata": {
    "ExecuteTime": {
     "end_time": "2022-03-27T14:39:02.217455Z",
     "start_time": "2022-03-27T14:39:00.382219Z"
    }
   },
   "outputs": [],
   "source": [
    "g = sns.FacetGrid(sentiment, row=\"Country\", col=\"Categorie\", hue=\"Timeline\", height=5,aspect=1)\n",
    "g.map(sns.barplot, \"Timeline\", \"sentiment_neg\",order=[\"-5\", \"0\",\"5\",\"195\"])\n",
    "g.add_legend()"
   ]
  },
  {
   "cell_type": "markdown",
   "id": "6a1226d0",
   "metadata": {},
   "source": [
    "**Hatespeech**"
   ]
  },
  {
   "cell_type": "code",
   "execution_count": null,
   "id": "298ce060",
   "metadata": {
    "ExecuteTime": {
     "end_time": "2022-03-27T14:39:05.836229Z",
     "start_time": "2022-03-27T14:39:04.966508Z"
    }
   },
   "outputs": [],
   "source": [
    "# plot disgust, anger, sadness, joy\n",
    "fig, ax = plt.subplots(figsize = (16,8))\n",
    "p1 = sns.lineplot(ax=ax, x='Timeline', y='disgust', data=sentiment, hue='Country')"
   ]
  },
  {
   "cell_type": "code",
   "execution_count": null,
   "id": "1377b621",
   "metadata": {
    "ExecuteTime": {
     "end_time": "2022-03-28T11:32:58.471676Z",
     "start_time": "2022-03-28T11:32:57.455770Z"
    }
   },
   "outputs": [],
   "source": [
    "# plot\n",
    "fig, ax = plt.subplots(figsize = (10,5))\n",
    "p1 = sns.lineplot(ax=ax, x='Timeline', y='hate_speech', data=sentiment, hue='Country',style=\"Categorie\")\n",
    "p1.set_ylabel(\"% of Tweets that contain Hate Speech\")"
   ]
  },
  {
   "cell_type": "code",
   "execution_count": null,
   "id": "33a52e5c",
   "metadata": {
    "ExecuteTime": {
     "end_time": "2022-03-27T14:39:13.089989Z",
     "start_time": "2022-03-27T14:39:12.384491Z"
    }
   },
   "outputs": [],
   "source": [
    "# plot\n",
    "fig, ax = plt.subplots(figsize = (16,8))\n",
    "p1 = sns.lineplot(ax=ax, x='Timeline', y='hate_speech', data=sentiment, hue='Country',style=\"Left/Right\")"
   ]
  },
  {
   "cell_type": "markdown",
   "id": "43137528",
   "metadata": {},
   "source": [
    "**Emotions**"
   ]
  },
  {
   "cell_type": "code",
   "execution_count": null,
   "id": "8b5d77d1",
   "metadata": {
    "ExecuteTime": {
     "end_time": "2022-03-27T14:12:47.416407Z",
     "start_time": "2022-03-27T14:12:47.360129Z"
    }
   },
   "outputs": [],
   "source": [
    "chile_sent=sentiment[sentiment[\"Country\"]==\"Chile\"]\n",
    "col_sent=sentiment[sentiment[\"Country\"]==\"Colombia\"]"
   ]
  },
  {
   "cell_type": "code",
   "execution_count": null,
   "id": "35da3a4e",
   "metadata": {},
   "outputs": [],
   "source": [
    "plot = sns.factorplot(x='Country', y='sentiment_neg', hue='Timeline', data=chile_sent, kind='bar')\n",
    "#plot.set_ylabel( \"Negativity of the Tweet\")\n",
    "plot.set(xlabel='Country', ylabel='Negativity of the Tweet')"
   ]
  },
  {
   "cell_type": "code",
   "execution_count": null,
   "id": "e6a3d018",
   "metadata": {},
   "outputs": [],
   "source": [
    "g = sns.FacetGrid(sentiment, row=\"Country\", col=\"Categorie\", hue=\"Timeline\", height=5,aspect=1)\n",
    "g.map(sns.barplot, \"Timeline\", \"sentiment_neg\",order=[\"-5\", \"0\",\"5\",\"195\"])\n",
    "g.add_legend()"
   ]
  },
  {
   "cell_type": "code",
   "execution_count": null,
   "id": "db440a25",
   "metadata": {
    "ExecuteTime": {
     "end_time": "2022-03-27T14:40:08.514777Z",
     "start_time": "2022-03-27T14:40:08.498952Z"
    }
   },
   "outputs": [],
   "source": [
    "# plot\n",
    "fig, ax = plt.subplots(figsize = (16,8))\n",
    "p1 = sns.lineplot(ax=ax, x='Timeline', y='disgust', data=chile_sent, color='red')\n",
    "p1 = sns.lineplot(ax=ax, x='Timeline', y='anger', data=chile_sent, color='blue')\n",
    "p1 = sns.lineplot(ax=ax, x='Timeline', y='sadness', data=chile_sent, color='green\")\n",
    "p1 = sns.lineplot(ax=ax, x='Timeline', y='joy', data=chile_sent, color='black')"
   ]
  },
  {
   "cell_type": "code",
   "execution_count": null,
   "id": "d1b9df0e",
   "metadata": {
    "ExecuteTime": {
     "end_time": "2022-03-27T14:39:24.307249Z",
     "start_time": "2022-03-27T14:39:22.935997Z"
    }
   },
   "outputs": [],
   "source": [
    "# plot\n",
    "fig, ax = plt.subplots(figsize = (16,8))\n",
    "p1 = sns.lineplot(ax=ax, x='Timeline', y='disgust', data=col_sent, color='red')\n",
    "p1 = sns.lineplot(ax=ax, x='Timeline', y='anger', data=col_sent, color='blue')\n",
    "p1 = sns.lineplot(ax=ax, x='Timeline', y='sadness', data=col_sent, color='green')\n",
    "p1 = sns.lineplot(ax=ax, x='Timeline', y='joy', data=col_sent, color='black')"
   ]
  },
  {
   "cell_type": "code",
   "execution_count": null,
   "id": "feb81055",
   "metadata": {
    "ExecuteTime": {
     "end_time": "2022-03-27T14:19:36.304504Z",
     "start_time": "2022-03-27T14:19:35.214539Z"
    }
   },
   "outputs": [],
   "source": [
    "# plot\n",
    "fig, ax = plt.subplots(figsize = (16,8))\n",
    "p1 = sns.lineplot(ax=ax, x='Timeline', y='disgust', data=col_sent, color='red',style=\"Left/Right\")\n",
    "p1 = sns.lineplot(ax=ax, x='Timeline', y='anger', data=col_sent, color='blue',style=\"Left/Right\")\n",
    "p1 = sns.lineplot(ax=ax, x='Timeline', y='sadness', data=col_sent, color='green',style=\"Left/Right\")\n",
    "p1 = sns.lineplot(ax=ax, x='Timeline', y='joy', data=col_sent, color='black',style=\"Left/Right\")"
   ]
  },
  {
   "cell_type": "code",
   "execution_count": null,
   "id": "acb96786",
   "metadata": {
    "ExecuteTime": {
     "end_time": "2022-03-27T14:20:48.914941Z",
     "start_time": "2022-03-27T14:20:47.783336Z"
    }
   },
   "outputs": [],
   "source": [
    "fig, ax = plt.subplots(figsize = (16,8))\n",
    "p1 = sns.lineplot(ax=ax, x='Timeline', y='disgust', data=chile_sent, color='red',style=\"Left/Right\")\n",
    "p1 = sns.lineplot(ax=ax, x='Timeline', y='anger', data=chile_sent, color='blue',style=\"Left/Right\")\n",
    "p1 = sns.lineplot(ax=ax, x='Timeline', y='sadness', data=chile_sent, color='green',style=\"Left/Right\")\n",
    "p1 = sns.lineplot(ax=ax, x='Timeline', y='joy', data=chile_sent, color='black',style=\"Left/Right\")"
   ]
  },
  {
   "cell_type": "code",
   "execution_count": null,
   "id": "200ebdb8",
   "metadata": {
    "ExecuteTime": {
     "end_time": "2022-03-28T11:51:58.471332Z",
     "start_time": "2022-03-28T11:51:56.674656Z"
    }
   },
   "outputs": [],
   "source": [
    "# plot\n",
    "fig, ax = plt.subplots(figsize = (16,8))\n",
    "p1 = sns.lineplot(ax=ax, x='Timeline', y='disgust', data=col_sent, color='red',style=\"Categorie\")\n",
    "p1 = sns.lineplot(ax=ax, x='Timeline', y='anger', data=col_sent, color='blue',style=\"Categorie\")\n",
    "p1 = sns.lineplot(ax=ax, x='Timeline', y='sadness', data=col_sent, color='green',style=\"Categorie\")\n",
    "p1 = sns.lineplot(ax=ax, x='Timeline', y='joy', data=col_sent, color='black',style=\"Categorie\")"
   ]
  },
  {
   "cell_type": "code",
   "execution_count": null,
   "id": "e644e53d",
   "metadata": {
    "ExecuteTime": {
     "end_time": "2022-03-28T11:52:43.404220Z",
     "start_time": "2022-03-28T11:52:39.342956Z"
    }
   },
   "outputs": [],
   "source": [
    "# plot\n",
    "fig, ax = plt.subplots(figsize = (16,8))\n",
    "p1 = sns.lineplot(ax=ax, x='Timeline', y='disgust', data=chile_sent, color='red',style=\"Categorie\")\n",
    "p1 = sns.lineplot(ax=ax, x='Timeline', y='anger', data=chile_sent, color='blue',style=\"Categorie\")\n",
    "p1 = sns.lineplot(ax=ax, x='Timeline', y='sadness', data=chile_sent, color='green',style=\"Categorie\")\n",
    "p1 = sns.lineplot(ax=ax, x='Timeline', y='joy', data=chile_sent, color='black',style=\"Categorie\")"
   ]
  },
  {
   "cell_type": "markdown",
   "id": "5ebdbf46",
   "metadata": {
    "id": "5ebdbf46"
   },
   "source": [
    "## LDA"
   ]
  },
  {
   "cell_type": "markdown",
   "id": "2228cdba",
   "metadata": {},
   "source": [
    "### Unguided LDA"
   ]
  },
  {
   "cell_type": "code",
   "execution_count": null,
   "id": "628f91cf",
   "metadata": {
    "ExecuteTime": {
     "end_time": "2022-03-27T19:11:15.368874Z",
     "start_time": "2022-03-27T19:11:13.775498Z"
    },
    "executionInfo": {
     "elapsed": 244,
     "status": "ok",
     "timestamp": 1648149827722,
     "user": {
      "displayName": "Marc Stefan Hoeller",
      "photoUrl": "https://lh3.googleusercontent.com/a/default-user=s64",
      "userId": "10826333547946704079"
     },
     "user_tz": -60
    },
    "id": "628f91cf"
   },
   "outputs": [],
   "source": [
    "#Split Data\n",
    "chile=df_all[df_all[\"Country\"]==\"Chile\"]\n",
    "colombia=df_all[df_all[\"Country\"]==\"Colombia\"]"
   ]
  },
  {
   "cell_type": "code",
   "execution_count": null,
   "id": "3e7edbab",
   "metadata": {
    "ExecuteTime": {
     "end_time": "2022-03-27T19:11:39.257979Z",
     "start_time": "2022-03-27T19:11:39.239006Z"
    },
    "executionInfo": {
     "elapsed": 306,
     "status": "ok",
     "timestamp": 1648149844261,
     "user": {
      "displayName": "Marc Stefan Hoeller",
      "photoUrl": "https://lh3.googleusercontent.com/a/default-user=s64",
      "userId": "10826333547946704079"
     },
     "user_tz": -60
    },
    "id": "3e7edbab"
   },
   "outputs": [],
   "source": [
    "# reproducibility\n",
    "seed = 42\n",
    "# python RNG\n",
    "import random\n",
    "random.seed(seed)\n",
    "# numpy RNG\n",
    "import numpy as np\n",
    "np.random.seed(seed)"
   ]
  },
  {
   "cell_type": "code",
   "execution_count": null,
   "id": "3ed70366",
   "metadata": {
    "ExecuteTime": {
     "end_time": "2022-03-27T19:12:25.166460Z",
     "start_time": "2022-03-27T19:12:25.148227Z"
    },
    "executionInfo": {
     "elapsed": 380,
     "status": "ok",
     "timestamp": 1648150420594,
     "user": {
      "displayName": "Marc Stefan Hoeller",
      "photoUrl": "https://lh3.googleusercontent.com/a/default-user=s64",
      "userId": "10826333547946704079"
     },
     "user_tz": -60
    },
    "id": "3ed70366"
   },
   "outputs": [],
   "source": [
    "def agg(df):\n",
    "    # concatenate the string\n",
    "    df['cleaned_text'] = df['cleaned_text'].astype(str)\n",
    "    subset=df[['author_id','Time','cleaned_text']]\n",
    "\n",
    "    #subset.groupby(['author_id',\"Time\"]).agg({'cleaned_text': ' '.join})\n",
    "    df_agg=subset.groupby(['author_id',\"Time\"]).agg({'cleaned_text': ['. '.join, 'count']})\n",
    "    df_agg.columns = df_agg.columns.droplevel(0)\n",
    "    df_agg.columns=[\"joined_text\",\"count_tweets\"]\n",
    "    return df_agg"
   ]
  },
  {
   "cell_type": "markdown",
   "id": "04af4654",
   "metadata": {},
   "source": [
    "**Chile Unguided**"
   ]
  },
  {
   "cell_type": "code",
   "execution_count": null,
   "id": "ebf9b630",
   "metadata": {
    "ExecuteTime": {
     "end_time": "2022-03-27T19:12:32.525294Z",
     "start_time": "2022-03-27T19:12:31.779884Z"
    },
    "executionInfo": {
     "elapsed": 767,
     "status": "ok",
     "timestamp": 1648150424270,
     "user": {
      "displayName": "Marc Stefan Hoeller",
      "photoUrl": "https://lh3.googleusercontent.com/a/default-user=s64",
      "userId": "10826333547946704079"
     },
     "user_tz": -60
    },
    "id": "ebf9b630"
   },
   "outputs": [],
   "source": [
    "chile_agg=agg(chile)"
   ]
  },
  {
   "cell_type": "code",
   "execution_count": null,
   "id": "ab361f93",
   "metadata": {
    "ExecuteTime": {
     "end_time": "2022-03-27T19:12:40.261225Z",
     "start_time": "2022-03-27T19:12:40.238405Z"
    },
    "colab": {
     "base_uri": "https://localhost:8080/",
     "height": 455
    },
    "executionInfo": {
     "elapsed": 245,
     "status": "ok",
     "timestamp": 1648150426186,
     "user": {
      "displayName": "Marc Stefan Hoeller",
      "photoUrl": "https://lh3.googleusercontent.com/a/default-user=s64",
      "userId": "10826333547946704079"
     },
     "user_tz": -60
    },
    "id": "ab361f93",
    "outputId": "2e00f7ed-959a-4b4d-d6e6-1a2c1cd5cdca"
   },
   "outputs": [],
   "source": [
    "chile_agg"
   ]
  },
  {
   "cell_type": "code",
   "execution_count": null,
   "id": "bfb2502e",
   "metadata": {
    "ExecuteTime": {
     "end_time": "2022-03-27T19:12:44.505490Z",
     "start_time": "2022-03-27T19:12:43.992272Z"
    },
    "executionInfo": {
     "elapsed": 1631,
     "status": "ok",
     "timestamp": 1648149864269,
     "user": {
      "displayName": "Marc Stefan Hoeller",
      "photoUrl": "https://lh3.googleusercontent.com/a/default-user=s64",
      "userId": "10826333547946704079"
     },
     "user_tz": -60
    },
    "id": "bfb2502e"
   },
   "outputs": [],
   "source": [
    "import gensim\n",
    "from gensim import models\n",
    "from gensim import corpora\n",
    "from gensim.utils import simple_preprocess\n",
    "from collections import defaultdict"
   ]
  },
  {
   "cell_type": "code",
   "execution_count": null,
   "id": "43020121",
   "metadata": {
    "ExecuteTime": {
     "end_time": "2022-03-27T19:30:26.554282Z",
     "start_time": "2022-03-27T19:30:26.538324Z"
    },
    "executionInfo": {
     "elapsed": 307,
     "status": "ok",
     "timestamp": 1648150438169,
     "user": {
      "displayName": "Marc Stefan Hoeller",
      "photoUrl": "https://lh3.googleusercontent.com/a/default-user=s64",
      "userId": "10826333547946704079"
     },
     "user_tz": -60
    },
    "id": "43020121"
   },
   "outputs": [],
   "source": [
    "text=chile_agg['joined_text']"
   ]
  },
  {
   "cell_type": "code",
   "execution_count": null,
   "id": "041eadb6",
   "metadata": {
    "ExecuteTime": {
     "end_time": "2022-03-27T19:14:06.787550Z",
     "start_time": "2022-03-27T19:14:06.764613Z"
    },
    "colab": {
     "base_uri": "https://localhost:8080/",
     "height": 1000
    },
    "executionInfo": {
     "elapsed": 1672,
     "status": "error",
     "timestamp": 1648163281417,
     "user": {
      "displayName": "Marc Stefan Hoeller",
      "photoUrl": "https://lh3.googleusercontent.com/a/default-user=s64",
      "userId": "10826333547946704079"
     },
     "user_tz": -60
    },
    "id": "041eadb6",
    "outputId": "4b20c3bd-f32e-4306-9ef2-c27196027efd"
   },
   "outputs": [],
   "source": [
    "from termcolor import colored, cprint\n",
    "from nltk.stem import SnowballStemmer   \n",
    "from nltk.stem.wordnet import WordNetLemmatizer\n",
    "from nltk.corpus import stopwords\n",
    "\n",
    "porter=SnowballStemmer(\"spanish\")\n",
    "lmtzr = WordNetLemmatizer()\n",
    "\n",
    "stop_words = set(stopwords.words('spanish'))\n",
    "\n",
    "\n",
    "def abbr_or_lower(word):\n",
    "    if re.match('([A-Z]+[a-z]*){2,}', word):\n",
    "        return word\n",
    "    else:\n",
    "        return word.lower()\n",
    "\n",
    "def tokenize(words, modulation):\n",
    "    tokens = re.split(r'\\W+', words)\n",
    "    stems = []\n",
    "    # filter out any tokens not containing letters (e.g., numeric tokens, raw punctuation)\n",
    "    for token in tokens:\n",
    "        lowers=abbr_or_lower(token)\n",
    "        if lowers not in stop_words:\n",
    "            if re.search('[a-zA-Z]', lowers):\n",
    "                if modulation==1:\n",
    "                    stems.append(porter.stem(lowers))\n",
    "                if modulation==2:\n",
    "                    stems.append(lmtzr.lemmatize(lowers))\n",
    "                if modulation==0:\n",
    "                    stems.append(lowers)\n",
    "                #stems.append(\" \")\n",
    "    return stems"
   ]
  },
  {
   "cell_type": "code",
   "execution_count": null,
   "id": "f1050a16",
   "metadata": {
    "ExecuteTime": {
     "end_time": "2022-03-27T19:30:47.910095Z",
     "start_time": "2022-03-27T19:30:29.980954Z"
    },
    "executionInfo": {
     "elapsed": 22701,
     "status": "ok",
     "timestamp": 1648150468545,
     "user": {
      "displayName": "Marc Stefan Hoeller",
      "photoUrl": "https://lh3.googleusercontent.com/a/default-user=s64",
      "userId": "10826333547946704079"
     },
     "user_tz": -60
    },
    "id": "f1050a16"
   },
   "outputs": [],
   "source": [
    "texts=[tokenize(document,0) for document in text]"
   ]
  },
  {
   "cell_type": "code",
   "execution_count": null,
   "id": "bdad8df4",
   "metadata": {
    "ExecuteTime": {
     "end_time": "2022-03-27T19:34:18.397318Z",
     "start_time": "2022-03-27T19:33:34.527973Z"
    },
    "executionInfo": {
     "elapsed": 155046,
     "status": "ok",
     "timestamp": 1648150623581,
     "user": {
      "displayName": "Marc Stefan Hoeller",
      "photoUrl": "https://lh3.googleusercontent.com/a/default-user=s64",
      "userId": "10826333547946704079"
     },
     "user_tz": -60
    },
    "id": "bdad8df4"
   },
   "outputs": [],
   "source": [
    "#making bigrams and trigrams\n",
    "bigram = gensim.models.Phrases(texts, min_count=1, threshold=1)\n",
    "trigram = gensim.models.Phrases(bigram[texts], threshold=1)  \n",
    "\n",
    "bigram_mod = gensim.models.phrases.Phraser(bigram)\n",
    "trigram_mod = gensim.models.phrases.Phraser(trigram)\n",
    "\n",
    "texts_bigrams = [bigram_mod[doc] for doc in texts]\n",
    "texts_trigrams = [trigram_mod[doc] for doc in texts]"
   ]
  },
  {
   "cell_type": "code",
   "execution_count": null,
   "id": "5e5f8b72",
   "metadata": {
    "ExecuteTime": {
     "end_time": "2022-03-27T19:37:42.366916Z",
     "start_time": "2022-03-27T19:37:31.591459Z"
    },
    "colab": {
     "base_uri": "https://localhost:8080/"
    },
    "executionInfo": {
     "elapsed": 12791,
     "status": "ok",
     "timestamp": 1648154509361,
     "user": {
      "displayName": "Marc Stefan Hoeller",
      "photoUrl": "https://lh3.googleusercontent.com/a/default-user=s64",
      "userId": "10826333547946704079"
     },
     "user_tz": -60
    },
    "id": "5e5f8b72",
    "outputId": "2260a29a-4aee-48d9-b3d0-e1656a24cf4b"
   },
   "outputs": [],
   "source": [
    "texts=texts_trigrams\n",
    "\n",
    "\n",
    "frequency = defaultdict(int)\n",
    "for text in texts:\n",
    "    for token in text:\n",
    "        frequency[token] += 1\n",
    "\n",
    "texts = [\n",
    "    [token for token in text if frequency[token] > 1]\n",
    "    for text in texts\n",
    "]\n",
    "\n",
    "#pprint(texts)\n",
    "\n",
    "dictionary = corpora.Dictionary(texts)\n",
    "print(dictionary)\n",
    "\n",
    "dictionary.filter_extremes(no_below = 20, no_above=0.25)\n",
    "# we are getting rid of things like \"said\" with the no_above threshold (depending on stemming more will be thrown out)\n",
    "print(dictionary)\n",
    "\n",
    "corpus = [dictionary.doc2bow(text) for text in texts]"
   ]
  },
  {
   "cell_type": "code",
   "execution_count": null,
   "id": "9ad2d3a7",
   "metadata": {
    "ExecuteTime": {
     "end_time": "2022-03-27T19:38:12.266269Z",
     "start_time": "2022-03-27T19:38:07.353362Z"
    },
    "colab": {
     "base_uri": "https://localhost:8080/"
    },
    "executionInfo": {
     "elapsed": 5425,
     "status": "ok",
     "timestamp": 1648154514770,
     "user": {
      "displayName": "Marc Stefan Hoeller",
      "photoUrl": "https://lh3.googleusercontent.com/a/default-user=s64",
      "userId": "10826333547946704079"
     },
     "user_tz": -60
    },
    "id": "9ad2d3a7",
    "outputId": "664ec85e-8b65-4289-93c5-7f97b2e7186c"
   },
   "outputs": [],
   "source": [
    "#estimate the lda model with two topics\n",
    "topicnumber=8\n",
    "\n",
    "# Tuning: alpha='symmetric', eta=None\n",
    "\n",
    "#alpha default is ’symmetric’: Uses a fixed symmetric prior of 1.0 / num_topics. In our case that is 0.1.\n",
    "#Change alpha if wanted\n",
    "lda=models.LdaModel(corpus, id2word=dictionary, num_topics=topicnumber, random_state=42,eta=0.001)\n",
    "\n",
    "lda.print_topics(topicnumber,20)"
   ]
  },
  {
   "cell_type": "code",
   "execution_count": null,
   "id": "c6912729",
   "metadata": {
    "ExecuteTime": {
     "end_time": "2022-03-23T23:07:13.246015Z",
     "start_time": "2022-03-23T23:07:04.055205Z"
    },
    "id": "c6912729",
    "outputId": "da9eaf23-9a30-4e96-f992-5ca8d9c355e0"
   },
   "outputs": [],
   "source": [
    "get_document_topics = [lda.get_document_topics(item, minimum_probability=0.000000001) for item in corpus]\n",
    "\n",
    "#note you could also use this vector = [lda[item] for item in corpus] but it would take into account the prior\n",
    "\n",
    "vector = [lda[item] for item in corpus]\n",
    "\n",
    "#this produces a lits of tuples\n",
    "print(get_document_topics[0:1])\n",
    "print(vector[0:1])"
   ]
  },
  {
   "cell_type": "markdown",
   "id": "ac9ecb6a",
   "metadata": {},
   "source": [
    "**Colombia Unguided**"
   ]
  },
  {
   "cell_type": "code",
   "execution_count": null,
   "id": "1d31554a",
   "metadata": {
    "ExecuteTime": {
     "end_time": "2022-03-27T19:43:28.280646Z",
     "start_time": "2022-03-27T19:43:27.769869Z"
    }
   },
   "outputs": [],
   "source": [
    "col_agg=agg(colombia)"
   ]
  },
  {
   "cell_type": "code",
   "execution_count": null,
   "id": "ce050171",
   "metadata": {
    "ExecuteTime": {
     "end_time": "2022-03-27T19:44:03.974347Z",
     "start_time": "2022-03-27T19:44:03.961288Z"
    }
   },
   "outputs": [],
   "source": [
    "text=col_agg['joined_text']"
   ]
  },
  {
   "cell_type": "code",
   "execution_count": null,
   "id": "4ae13cda",
   "metadata": {
    "ExecuteTime": {
     "end_time": "2022-03-27T19:44:35.036761Z",
     "start_time": "2022-03-27T19:44:18.599965Z"
    }
   },
   "outputs": [],
   "source": [
    "texts=[tokenize(document,0) for document in text]"
   ]
  },
  {
   "cell_type": "code",
   "execution_count": null,
   "id": "78a49d39",
   "metadata": {
    "ExecuteTime": {
     "end_time": "2022-03-27T19:45:31.081678Z",
     "start_time": "2022-03-27T19:44:53.045003Z"
    }
   },
   "outputs": [],
   "source": [
    "#making bigrams and trigrams\n",
    "bigram = gensim.models.Phrases(texts, min_count=1, threshold=1)\n",
    "trigram = gensim.models.Phrases(bigram[texts], threshold=1)  \n",
    "\n",
    "bigram_mod = gensim.models.phrases.Phraser(bigram)\n",
    "trigram_mod = gensim.models.phrases.Phraser(trigram)\n",
    "\n",
    "texts_bigrams = [bigram_mod[doc] for doc in texts]\n",
    "texts_trigrams = [trigram_mod[doc] for doc in texts]"
   ]
  },
  {
   "cell_type": "code",
   "execution_count": null,
   "id": "8b38613b",
   "metadata": {
    "ExecuteTime": {
     "end_time": "2022-03-27T19:50:55.415956Z",
     "start_time": "2022-03-27T19:50:47.969891Z"
    }
   },
   "outputs": [],
   "source": [
    "texts=texts_trigrams\n",
    "\n",
    "frequency = defaultdict(int)\n",
    "for text in texts:\n",
    "    for token in text:\n",
    "        frequency[token] += 1\n",
    "\n",
    "texts = [\n",
    "    [token for token in text if frequency[token] > 1]\n",
    "    for text in texts\n",
    "]\n",
    "\n",
    "#pprint(texts)\n",
    "\n",
    "dictionary = corpora.Dictionary(texts)\n",
    "print(dictionary)\n",
    "\n",
    "dictionary.filter_extremes(no_below = 20, no_above=0.25)\n",
    "# we are getting rid of things like \"said\" with the no_above threshold (depending on stemming more will be thrown out)\n",
    "print(dictionary)\n",
    "\n",
    "corpus = [dictionary.doc2bow(text) for text in texts]"
   ]
  },
  {
   "cell_type": "code",
   "execution_count": null,
   "id": "c2f8c811",
   "metadata": {
    "ExecuteTime": {
     "end_time": "2022-03-27T19:51:12.666702Z",
     "start_time": "2022-03-27T19:51:02.701572Z"
    }
   },
   "outputs": [],
   "source": [
    "#estimate the lda model with two topics\n",
    "topicnumber=8\n",
    "\n",
    "# Tuning: alpha='symmetric', eta=None\n",
    "\n",
    "#alpha default is ’symmetric’: Uses a fixed symmetric prior of 1.0 / num_topics. In our case that is 0.1.\n",
    "#Change alpha if wanted\n",
    "lda=models.LdaModel(corpus, id2word=dictionary, num_topics=topicnumber, random_state=42,eta=0.001)\n",
    "\n",
    "lda.print_topics(topicnumber,20)"
   ]
  },
  {
   "cell_type": "markdown",
   "id": "4bc2c5dc",
   "metadata": {},
   "source": [
    "Unguided LDA is not working well"
   ]
  },
  {
   "cell_type": "code",
   "execution_count": null,
   "id": "22960e1e",
   "metadata": {},
   "outputs": [],
   "source": []
  },
  {
   "cell_type": "markdown",
   "id": "61af1c39",
   "metadata": {},
   "source": [
    "### Guided LDA"
   ]
  },
  {
   "cell_type": "markdown",
   "id": "e3d4711a",
   "metadata": {
    "id": "500f9e38"
   },
   "source": [
    "**Chile**"
   ]
  },
  {
   "cell_type": "code",
   "execution_count": null,
   "id": "46474621",
   "metadata": {
    "ExecuteTime": {
     "end_time": "2022-03-27T20:25:37.734644Z",
     "start_time": "2022-03-27T20:25:37.723690Z"
    }
   },
   "outputs": [],
   "source": [
    "text=chile_agg['joined_text']"
   ]
  },
  {
   "cell_type": "code",
   "execution_count": null,
   "id": "6d273e44",
   "metadata": {
    "ExecuteTime": {
     "end_time": "2022-03-27T20:28:10.133364Z",
     "start_time": "2022-03-27T20:25:45.085252Z"
    }
   },
   "outputs": [],
   "source": [
    "texts=[tokenize(document,1) for document in text]"
   ]
  },
  {
   "cell_type": "code",
   "execution_count": null,
   "id": "86e25124",
   "metadata": {
    "ExecuteTime": {
     "end_time": "2022-03-27T20:28:58.043237Z",
     "start_time": "2022-03-27T20:28:17.769892Z"
    }
   },
   "outputs": [],
   "source": [
    "#making bigrams and trigrams\n",
    "bigram = gensim.models.Phrases(texts, min_count=1, threshold=1)\n",
    "trigram = gensim.models.Phrases(bigram[texts], threshold=1)  \n",
    "\n",
    "bigram_mod = gensim.models.phrases.Phraser(bigram)\n",
    "trigram_mod = gensim.models.phrases.Phraser(trigram)\n",
    "\n",
    "texts_bigrams = [bigram_mod[doc] for doc in texts]\n",
    "texts_trigrams = [trigram_mod[doc] for doc in texts]"
   ]
  },
  {
   "cell_type": "code",
   "execution_count": null,
   "id": "dda10579",
   "metadata": {
    "ExecuteTime": {
     "end_time": "2022-03-27T20:29:15.458971Z",
     "start_time": "2022-03-27T20:29:06.150214Z"
    }
   },
   "outputs": [],
   "source": [
    "texts=texts_trigrams\n",
    "\n",
    "\n",
    "frequency = defaultdict(int)\n",
    "for text in texts:\n",
    "    for token in text:\n",
    "        frequency[token] += 1\n",
    "\n",
    "texts = [\n",
    "    [token for token in text if frequency[token] > 1]\n",
    "    for text in texts\n",
    "]\n",
    "\n",
    "#pprint(texts)\n",
    "\n",
    "dictionary = corpora.Dictionary(texts)\n",
    "print(dictionary)\n",
    "\n",
    "dictionary.filter_extremes(no_below = 20, no_above=0.25)\n",
    "# we are getting rid of things like \"said\" with the no_above threshold (depending on stemming more will be thrown out)\n",
    "print(dictionary)\n",
    "\n",
    "corpus = [dictionary.doc2bow(text) for text in texts]"
   ]
  },
  {
   "cell_type": "code",
   "execution_count": null,
   "id": "d2045e3e",
   "metadata": {
    "ExecuteTime": {
     "end_time": "2022-03-27T20:30:58.745284Z",
     "start_time": "2022-03-27T20:30:58.723344Z"
    },
    "id": "d2045e3e"
   },
   "outputs": [],
   "source": [
    "def create_eta(priors, etadict, ntopics):\n",
    "    eta = np.full(shape=(ntopics, len(etadict)), fill_value=0.0001) # create a (ntopics, nterms) matrix and fill with low number\n",
    "    for word, topic in priors.items(): # for each word in the list of priors\n",
    "        keyindex = [index for index,term in etadict.items() if term==word] # look up the word in the dictionary\n",
    "        if (len(keyindex)>0): # if it's in the dictionary\n",
    "            eta[topic,keyindex[0]] = 500  # put a large number in there\n",
    "    return eta"
   ]
  },
  {
   "cell_type": "code",
   "execution_count": null,
   "id": "c35a4625",
   "metadata": {
    "ExecuteTime": {
     "end_time": "2022-03-27T20:20:07.553964Z",
     "start_time": "2022-03-27T20:20:07.537924Z"
    },
    "executionInfo": {
     "elapsed": 258,
     "status": "ok",
     "timestamp": 1648163107259,
     "user": {
      "displayName": "Marc Stefan Hoeller",
      "photoUrl": "https://lh3.googleusercontent.com/a/default-user=s64",
      "userId": "10826333547946704079"
     },
     "user_tz": -60
    },
    "id": "c35a4625"
   },
   "outputs": [],
   "source": [
    "#Input for ETA\n",
    "apriori_original = {\n",
    "    \"policia\":0,\"carabinero\":0,\"violencia\":0,\"humanos\":0,\"protesta\":0,\"detención\":0,\"desaparecido\":0,\"paco\":0,\"quemar\":0,\"fuego\":0,\"barricada\":0,\"INDH\":0, \"represion\":0, \"lacrimogeno\":0,\n",
    "                                                 \"perdigones\":0, \"ojo\":0, \"ciego\":0, \"mutilado\":0,\"ddhh\":0,\"dd hh\":0, 'pensión':1,'AFP':1,'vejez':1,'salud':1,'fonasa':1,'consultorio':1,'hospital':1,'clínica':1,'isapre':1,'dignidad':1,'educación':1,'profesor':1,'liceo':1,'universidad':1,'gratuita':1,\n",
    "                                      'sociales':1,'vivienda':1,'campamentos':1, 'delincuencia':1,\n",
    "                     'corrupción':2,'soborno':2,'vendido':2,'nepotismo':2,'deshonesto':2,'ladrón':2,'robar':2,'mentir':2,\n",
    "                     'metro':3,'tren':3,'pasaje':3,'transporte':3,'evadir':3,'evasión':3,'micro':3,'transantiago':3,'Hutt':3,'alza':3,'tarifa':3\n",
    "}"
   ]
  },
  {
   "cell_type": "code",
   "execution_count": null,
   "id": "316995b2",
   "metadata": {
    "ExecuteTime": {
     "end_time": "2022-03-27T20:20:22.194871Z",
     "start_time": "2022-03-27T20:20:22.179737Z"
    }
   },
   "outputs": [],
   "source": [
    "porter=SnowballStemmer(\"spanish\")\n",
    "chile_dict_adj={}\n",
    "for key, value in apriori_original.items():\n",
    "    a=porter.stem(key.lower())\n",
    "    chile_dict_adj[a]= value"
   ]
  },
  {
   "cell_type": "code",
   "execution_count": null,
   "id": "dwHB7P1nLMq3",
   "metadata": {
    "ExecuteTime": {
     "end_time": "2022-03-27T20:31:07.295863Z",
     "start_time": "2022-03-27T20:31:06.681770Z"
    },
    "id": "dwHB7P1nLMq3"
   },
   "outputs": [],
   "source": [
    "eta = create_eta(chile_dict_adj, dictionary, 10)"
   ]
  },
  {
   "cell_type": "code",
   "execution_count": null,
   "id": "04bfbcd0",
   "metadata": {
    "ExecuteTime": {
     "end_time": "2022-03-27T20:31:20.559742Z",
     "start_time": "2022-03-27T20:31:14.928745Z"
    },
    "id": "04bfbcd0"
   },
   "outputs": [],
   "source": [
    "topicnumber=10\n",
    "\n",
    "#alpha default is ’symmetric’: Uses a fixed symmetric prior of 1.0 / num_topics. In our case that is 0.1.\n",
    "\n",
    "lda=models.LdaModel(corpus, id2word=dictionary, num_topics=topicnumber, \n",
    "                    random_state=42, eta=eta, alpha='symmetric')\n",
    "\n",
    "lda.print_topics(topicnumber,20)"
   ]
  },
  {
   "cell_type": "code",
   "execution_count": null,
   "id": "d9fc7e1c",
   "metadata": {
    "ExecuteTime": {
     "end_time": "2022-03-27T20:51:28.555154Z",
     "start_time": "2022-03-27T20:51:25.056275Z"
    },
    "id": "5b364a71"
   },
   "outputs": [],
   "source": [
    "topics_chile = [lda.get_document_topics(item, minimum_probability=0.00000001) for item in corpus]"
   ]
  },
  {
   "cell_type": "code",
   "execution_count": null,
   "id": "68f9e376",
   "metadata": {
    "ExecuteTime": {
     "end_time": "2022-03-27T20:51:53.523450Z",
     "start_time": "2022-03-27T20:51:50.172405Z"
    },
    "id": "5b364a71"
   },
   "outputs": [],
   "source": [
    "#note you could also use this vector = [lda[item] for item in corpus] but it would take into account the prior\n",
    "vector = [lda[item] for item in corpus]"
   ]
  },
  {
   "cell_type": "code",
   "execution_count": null,
   "id": "5b364a71",
   "metadata": {
    "id": "5b364a71"
   },
   "outputs": [],
   "source": [
    "#this produces a lits of tuples\n",
    "print(get_document_topics[0:1])\n",
    "print(vector[0:1])"
   ]
  },
  {
   "cell_type": "code",
   "execution_count": null,
   "id": "7cac6ff2",
   "metadata": {
    "ExecuteTime": {
     "end_time": "2022-03-27T20:53:40.193800Z",
     "start_time": "2022-03-27T20:53:40.163868Z"
    },
    "id": "7cac6ff2"
   },
   "outputs": [],
   "source": [
    "for topics in range(0,10):\n",
    "    chile_agg[\"topic_\"+str(topics)]=[x[topics][1] for x in topics_chile]"
   ]
  },
  {
   "cell_type": "code",
   "execution_count": null,
   "id": "2edfc9cb",
   "metadata": {
    "ExecuteTime": {
     "end_time": "2022-03-27T21:04:22.493450Z",
     "start_time": "2022-03-27T21:04:22.479465Z"
    }
   },
   "outputs": [],
   "source": [
    "chile_agg=chile_agg.reset_index(level=['author_id', 'Time'])"
   ]
  },
  {
   "cell_type": "code",
   "execution_count": null,
   "id": "2eefcae8",
   "metadata": {
    "ExecuteTime": {
     "end_time": "2022-03-27T21:15:38.771430Z",
     "start_time": "2022-03-27T21:15:38.750849Z"
    }
   },
   "outputs": [],
   "source": [
    "chile_agg=chile_agg.merge(map_table[[\"author_id\",\"Categorie\",\"Left/Right\",\"author.username\"]],how=\"left\",left_on=\"author_id\",right_on=\"author_id\")"
   ]
  },
  {
   "cell_type": "markdown",
   "id": "90ae2a87",
   "metadata": {},
   "source": [
    "**Human Rights are a huge deal, for the left more than the right, Social Issues are huge on politicians with the Right picking up**"
   ]
  },
  {
   "cell_type": "code",
   "execution_count": null,
   "id": "9bc52c94",
   "metadata": {
    "ExecuteTime": {
     "end_time": "2022-03-28T13:54:40.879264Z",
     "start_time": "2022-03-28T13:54:39.652310Z"
    }
   },
   "outputs": [],
   "source": [
    "sns.set()\n",
    "\n",
    "#define plotting region (1 row, 2 columns)\n",
    "fig, axes = plt.subplots(1, 4)\n",
    "\n",
    "#create boxplot in each subplot\n",
    "p1=sns.barplot(data=chile_agg,x=\"Time\",y=\"topic_0\",order=[\"Before\",\"During\",\"After\"],hue=\"Categorie\",ax=axes[0])\n",
    "p2=sns.barplot(data=chile_agg,x=\"Time\",y=\"topic_1\",order=[\"Before\",\"During\",\"After\"],hue=\"Categorie\",ax=axes[1])\n",
    "p3=sns.barplot(data=chile_agg,x=\"Time\",y=\"topic_2\",order=[\"Before\",\"During\",\"After\"],hue=\"Categorie\",ax=axes[2])\n",
    "p4=sns.barplot(data=chile_agg,x=\"Time\",y=\"topic_3\",order=[\"Before\",\"During\",\"After\"],hue=\"Categorie\",ax=axes[3])\n",
    "p1.set_ylabel(\"Share Human Rights Violation\")\n",
    "p2.set_ylabel(\"Share Social Issues\")\n",
    "p3.set_ylabel(\"Share Corruption\")\n",
    "p4.set_ylabel(\"Share Protest Starter\")\n",
    "p1.set_xlabel(\"Human Rights Violation\")\n",
    "p2.set_xlabel(\"Social Issues\")\n",
    "p3.set_xlabel(\"Corruption\")\n",
    "p4.set_xlabel(\"Protest Starter\")"
   ]
  },
  {
   "cell_type": "code",
   "execution_count": null,
   "id": "ec2547e4",
   "metadata": {
    "ExecuteTime": {
     "end_time": "2022-03-27T21:16:21.568521Z",
     "start_time": "2022-03-27T21:16:21.559530Z"
    }
   },
   "outputs": [],
   "source": [
    "chile_agg.groupby([\"Categorie\",\"Time\"])[\"topic_0\"].mean()"
   ]
  },
  {
   "cell_type": "code",
   "execution_count": null,
   "id": "0a99d3b2",
   "metadata": {
    "ExecuteTime": {
     "end_time": "2022-03-27T21:16:53.188812Z",
     "start_time": "2022-03-27T21:16:53.169834Z"
    }
   },
   "outputs": [],
   "source": [
    "chile_agg.groupby([\"Categorie\",\"Time\"])[\"topic_1\"].mean()"
   ]
  },
  {
   "cell_type": "code",
   "execution_count": null,
   "id": "6907990e",
   "metadata": {
    "ExecuteTime": {
     "end_time": "2022-03-27T21:17:10.396507Z",
     "start_time": "2022-03-27T21:17:10.376162Z"
    }
   },
   "outputs": [],
   "source": [
    "chile_agg.groupby([\"Categorie\",\"Time\"])[\"topic_2\"].mean()"
   ]
  },
  {
   "cell_type": "code",
   "execution_count": null,
   "id": "27421af3",
   "metadata": {
    "ExecuteTime": {
     "end_time": "2022-03-27T21:17:28.391762Z",
     "start_time": "2022-03-27T21:17:28.370579Z"
    }
   },
   "outputs": [],
   "source": [
    "chile_agg.groupby([\"Categorie\",\"Time\"])[\"topic_3\"].mean()"
   ]
  },
  {
   "cell_type": "code",
   "execution_count": null,
   "id": "15d5160e",
   "metadata": {
    "ExecuteTime": {
     "end_time": "2022-03-27T21:17:51.266324Z",
     "start_time": "2022-03-27T21:17:51.242440Z"
    }
   },
   "outputs": [],
   "source": [
    "chile_agg.groupby([\"Left/Right\",\"Time\"])[\"topic_0\"].mean()"
   ]
  },
  {
   "cell_type": "code",
   "execution_count": null,
   "id": "a27ca614",
   "metadata": {
    "ExecuteTime": {
     "end_time": "2022-03-27T21:18:04.967547Z",
     "start_time": "2022-03-27T21:18:04.954565Z"
    }
   },
   "outputs": [],
   "source": [
    "chile_agg.groupby([\"Left/Right\",\"Time\"])[\"topic_1\"].mean()"
   ]
  },
  {
   "cell_type": "code",
   "execution_count": null,
   "id": "a731c9dc",
   "metadata": {
    "ExecuteTime": {
     "end_time": "2022-03-27T21:18:12.661752Z",
     "start_time": "2022-03-27T21:18:12.646655Z"
    }
   },
   "outputs": [],
   "source": [
    "chile_agg.groupby([\"Left/Right\",\"Time\"])[\"topic_2\"].mean()"
   ]
  },
  {
   "cell_type": "code",
   "execution_count": null,
   "id": "ff3e0a90",
   "metadata": {
    "ExecuteTime": {
     "end_time": "2022-03-27T21:18:20.170126Z",
     "start_time": "2022-03-27T21:18:20.154576Z"
    }
   },
   "outputs": [],
   "source": [
    "chile_agg.groupby([\"Left/Right\",\"Time\"])[\"topic_3\"].mean()"
   ]
  },
  {
   "cell_type": "code",
   "execution_count": null,
   "id": "e863f8ec",
   "metadata": {},
   "outputs": [],
   "source": []
  },
  {
   "cell_type": "code",
   "execution_count": null,
   "id": "8704b1eb",
   "metadata": {},
   "outputs": [],
   "source": []
  },
  {
   "cell_type": "markdown",
   "id": "37c1dff1",
   "metadata": {},
   "source": [
    "**Colombia**"
   ]
  },
  {
   "cell_type": "code",
   "execution_count": null,
   "id": "5b70f362",
   "metadata": {
    "ExecuteTime": {
     "end_time": "2022-03-27T21:20:34.997060Z",
     "start_time": "2022-03-27T21:20:34.988042Z"
    }
   },
   "outputs": [],
   "source": [
    "text=col_agg['joined_text']"
   ]
  },
  {
   "cell_type": "code",
   "execution_count": null,
   "id": "271f9792",
   "metadata": {
    "ExecuteTime": {
     "end_time": "2022-03-27T21:23:56.743277Z",
     "start_time": "2022-03-27T21:22:00.370329Z"
    }
   },
   "outputs": [],
   "source": [
    "texts=[tokenize(document,1) for document in text]"
   ]
  },
  {
   "cell_type": "code",
   "execution_count": null,
   "id": "2230696f",
   "metadata": {
    "ExecuteTime": {
     "end_time": "2022-03-27T21:24:39.705283Z",
     "start_time": "2022-03-27T21:24:04.603694Z"
    }
   },
   "outputs": [],
   "source": [
    "#making bigrams and trigrams\n",
    "bigram = gensim.models.Phrases(texts, min_count=1, threshold=1)\n",
    "trigram = gensim.models.Phrases(bigram[texts], threshold=1)  \n",
    "\n",
    "bigram_mod = gensim.models.phrases.Phraser(bigram)\n",
    "trigram_mod = gensim.models.phrases.Phraser(trigram)\n",
    "\n",
    "texts_bigrams = [bigram_mod[doc] for doc in texts]\n",
    "texts_trigrams = [trigram_mod[doc] for doc in texts]"
   ]
  },
  {
   "cell_type": "code",
   "execution_count": null,
   "id": "42d725c9",
   "metadata": {
    "ExecuteTime": {
     "end_time": "2022-03-27T21:24:54.987118Z",
     "start_time": "2022-03-27T21:24:47.568998Z"
    }
   },
   "outputs": [],
   "source": [
    "texts=texts_trigrams\n",
    "\n",
    "\n",
    "frequency = defaultdict(int)\n",
    "for text in texts:\n",
    "    for token in text:\n",
    "        frequency[token] += 1\n",
    "\n",
    "texts = [\n",
    "    [token for token in text if frequency[token] > 1]\n",
    "    for text in texts\n",
    "]\n",
    "\n",
    "#pprint(texts)\n",
    "\n",
    "dictionary = corpora.Dictionary(texts)\n",
    "print(dictionary)\n",
    "\n",
    "dictionary.filter_extremes(no_below = 20, no_above=0.25)\n",
    "# we are getting rid of things like \"said\" with the no_above threshold (depending on stemming more will be thrown out)\n",
    "print(dictionary)\n",
    "\n",
    "corpus = [dictionary.doc2bow(text) for text in texts]"
   ]
  },
  {
   "cell_type": "code",
   "execution_count": null,
   "id": "ef4dfe8b",
   "metadata": {
    "ExecuteTime": {
     "end_time": "2022-03-27T20:30:58.745284Z",
     "start_time": "2022-03-27T20:30:58.723344Z"
    },
    "id": "d2045e3e"
   },
   "outputs": [],
   "source": [
    "def create_eta(priors, etadict, ntopics):\n",
    "    eta = np.full(shape=(ntopics, len(etadict)), fill_value=0.0001) # create a (ntopics, nterms) matrix and fill with low number\n",
    "    for word, topic in priors.items(): # for each word in the list of priors\n",
    "        keyindex = [index for index,term in etadict.items() if term==word] # look up the word in the dictionary\n",
    "        if (len(keyindex)>0): # if it's in the dictionary\n",
    "            eta[topic,keyindex[0]] = 500  # put a large number in there\n",
    "    return eta"
   ]
  },
  {
   "cell_type": "code",
   "execution_count": null,
   "id": "3d8e4ad0",
   "metadata": {
    "ExecuteTime": {
     "end_time": "2022-03-27T21:37:21.382220Z",
     "start_time": "2022-03-27T21:37:21.370210Z"
    }
   },
   "outputs": [],
   "source": [
    "apriori_col={\n",
    "    \"policia\":0,\"esmad\":0,\"violencia\":0,\"humanos\":0,\"protesta\":0,\"detención\":0,\"desaparecido\":0,\"victima\":0,\"pistola\":0,\"bomba\":0,\"gases\":0,\"lacrimogeno\":0, \"represion\":0, \"manifestacion\":0,  \"violacion\":0, \"lesion\":0, \"sangre\":0, \"motin\":0, \"proyectiles\":0, \"tanqueta\":0, \"orden\":0, \"perdigones\":0, \"ojo\":0, \"ciego\":0, \"piedra\":0, \"antidisturbio\":0, \"disturbio\":0,\"arma\":0, \"trauma\":0, \"fuerza\":0,'pension':1,'narcotrafico':1,'vejez':1,'salud':1,'drogas':1,'paramilitares':1,'paraco':1,'guerrilla':1,'farc':1,'educacion':1,'pobreza':1,'educacion':1, 'publica':1, 'gratuita':1,'sociales':1,'vivienda':1,'desigualdad':1, 'venezolanos':1, 'venezuela':1, 'conflicto':1, 'reclutamiento':1, 'desigualdad':1, 'alimentos':1, 'desempleo':1, \n",
    "                                         'delincuencia':1, 'crimen':1, 'bandas':1, 'terrorismo':1, 'robos':1, 'atracos':1, 'discriminacion':1, 'ilegal':1, 'populismo':1, 'transporte':1, 'trancon':1, 'movilidad':1, 'corrupcion':2, 'parapolitica':2,'vendido':2,'deshonesto':2,'ladrón':2,'robar':2,'mentir':2, 'recursos':2, 'contraloria':2, 'fiscalia':2, 'presupuesto':2, 'politicos':2, 'ratas':2, \n",
    "                                      'elecciones':2, 'escandalo':2, 'odebrecht':2, 'contratacion':2, 'mermelada':2, 'votos':2, 'sic':2, 'procuraduria':2, 'ñeñepolitica':2, 'carrusel':2, 'dinero':2,\"reforma\":3, \"impuestos\":3, \"pobreza\":3, \"canasta\":3, \"precio\":3, \"carrasquilla\":3, \"ipc\":3, \"estrato\":3,  \"tributaria\":3, \"solaridad\":3, \"sostenible\":3, \"ley\":3, \n",
    "                                           \"desempleo\":3, \"clase\":3, \"recaudo\":3, \"deuda\":3, \"renta\":3, \"iva\":3, \"servicios\":3, \"patrimonio\":3, \"finanzas\":3, \"inversion\":3, \"exenciones\":3, \"economia\":3, \"ahorro\":3, \"recursos\":3\n",
    "}"
   ]
  },
  {
   "cell_type": "code",
   "execution_count": null,
   "id": "1762f8dc",
   "metadata": {
    "ExecuteTime": {
     "end_time": "2022-03-27T21:37:42.551767Z",
     "start_time": "2022-03-27T21:37:42.538717Z"
    }
   },
   "outputs": [],
   "source": [
    "porter=SnowballStemmer(\"spanish\")\n",
    "col_dict_adj={}\n",
    "for key, value in apriori_col.items():\n",
    "    a=porter.stem(key.lower())\n",
    "    col_dict_adj[a]= value"
   ]
  },
  {
   "cell_type": "code",
   "execution_count": null,
   "id": "7518c216",
   "metadata": {
    "ExecuteTime": {
     "end_time": "2022-03-27T21:37:51.618365Z",
     "start_time": "2022-03-27T21:37:50.792582Z"
    },
    "id": "dwHB7P1nLMq3"
   },
   "outputs": [],
   "source": [
    "eta = create_eta(col_dict_adj, dictionary, 10)"
   ]
  },
  {
   "cell_type": "code",
   "execution_count": null,
   "id": "d5c94483",
   "metadata": {
    "ExecuteTime": {
     "end_time": "2022-03-27T21:38:08.717730Z",
     "start_time": "2022-03-27T21:37:58.902404Z"
    },
    "id": "04bfbcd0"
   },
   "outputs": [],
   "source": [
    "topicnumber=10\n",
    "\n",
    "#alpha default is ’symmetric’: Uses a fixed symmetric prior of 1.0 / num_topics. In our case that is 0.1.\n",
    "\n",
    "lda=models.LdaModel(corpus, id2word=dictionary, num_topics=topicnumber, \n",
    "                    random_state=42, eta=eta, alpha='symmetric')\n",
    "\n",
    "lda.print_topics(topicnumber,20)"
   ]
  },
  {
   "cell_type": "code",
   "execution_count": null,
   "id": "86eba7b1",
   "metadata": {
    "ExecuteTime": {
     "end_time": "2022-03-27T21:39:06.822155Z",
     "start_time": "2022-03-27T21:39:03.958033Z"
    },
    "id": "5b364a71"
   },
   "outputs": [],
   "source": [
    "topics_col = [lda.get_document_topics(item, minimum_probability=0.00000001) for item in corpus]"
   ]
  },
  {
   "cell_type": "code",
   "execution_count": null,
   "id": "62509420",
   "metadata": {
    "ExecuteTime": {
     "end_time": "2022-03-27T21:39:42.084755Z",
     "start_time": "2022-03-27T21:39:42.058818Z"
    },
    "id": "7cac6ff2"
   },
   "outputs": [],
   "source": [
    "for topics in range(0,10):\n",
    "    col_agg[\"topic_\"+str(topics)]=[x[topics][1] for x in topics_col]"
   ]
  },
  {
   "cell_type": "code",
   "execution_count": null,
   "id": "62731d15",
   "metadata": {
    "ExecuteTime": {
     "end_time": "2022-03-27T21:40:01.203484Z",
     "start_time": "2022-03-27T21:40:01.189522Z"
    }
   },
   "outputs": [],
   "source": [
    "col_agg=col_agg.reset_index(level=['author_id', 'Time'])"
   ]
  },
  {
   "cell_type": "code",
   "execution_count": null,
   "id": "a3f7f5df",
   "metadata": {
    "ExecuteTime": {
     "end_time": "2022-03-27T21:40:38.949782Z",
     "start_time": "2022-03-27T21:40:38.937814Z"
    }
   },
   "outputs": [],
   "source": [
    "col_agg=col_agg.merge(map_table[[\"author_id\",\"Categorie\",\"Left/Right\",\"author.username\"]],how=\"left\",left_on=\"author_id\",right_on=\"author_id\")"
   ]
  },
  {
   "cell_type": "code",
   "execution_count": null,
   "id": "86a71570",
   "metadata": {
    "ExecuteTime": {
     "end_time": "2022-03-28T13:53:26.346871Z",
     "start_time": "2022-03-28T13:53:25.170917Z"
    }
   },
   "outputs": [],
   "source": [
    "sns.set()\n",
    "\n",
    "#define plotting region (1 row, 2 columns)\n",
    "fig, axes = plt.subplots(1, 4)\n",
    "\n",
    "#create boxplot in each subplot\n",
    "p1=sns.barplot(data=col_agg,x=\"Time\",y=\"topic_0\",order=[\"Before\",\"During\",\"After\"],hue=\"Categorie\",ax=axes[0])\n",
    "p2=sns.barplot(data=col_agg,x=\"Time\",y=\"topic_1\",order=[\"Before\",\"During\",\"After\"],hue=\"Categorie\",ax=axes[1])\n",
    "p3=sns.barplot(data=col_agg,x=\"Time\",y=\"topic_2\",order=[\"Before\",\"During\",\"After\"],hue=\"Categorie\",ax=axes[2])\n",
    "p4=sns.barplot(data=col_agg,x=\"Time\",y=\"topic_3\",order=[\"Before\",\"During\",\"After\"],hue=\"Categorie\",ax=axes[3])\n",
    "p1.set_ylabel(\"Share Human Rights Violation\")\n",
    "p2.set_ylabel(\"Share Social Issues\")\n",
    "p3.set_ylabel(\"Share Corruption\")\n",
    "p4.set_ylabel(\"Share Protest Starter\")\n",
    "p1.set_xlabel(\"Human Rights Violation\")\n",
    "p2.set_xlabel(\"Social Issues\")\n",
    "p3.set_xlabel(\"Corruption\")\n",
    "p4.set_xlabel(\"Protest Starter\")"
   ]
  },
  {
   "cell_type": "code",
   "execution_count": null,
   "id": "4a662a77",
   "metadata": {
    "ExecuteTime": {
     "end_time": "2022-03-27T21:40:53.476470Z",
     "start_time": "2022-03-27T21:40:53.458876Z"
    }
   },
   "outputs": [],
   "source": [
    "col_agg.groupby([\"Categorie\",\"Time\"])[\"topic_0\"].mean()"
   ]
  },
  {
   "cell_type": "code",
   "execution_count": null,
   "id": "f5bbbd12",
   "metadata": {
    "ExecuteTime": {
     "end_time": "2022-03-27T21:41:00.860469Z",
     "start_time": "2022-03-27T21:41:00.833498Z"
    }
   },
   "outputs": [],
   "source": [
    "col_agg.groupby([\"Categorie\",\"Time\"])[\"topic_1\"].mean()"
   ]
  },
  {
   "cell_type": "code",
   "execution_count": null,
   "id": "8dad3e6a",
   "metadata": {
    "ExecuteTime": {
     "end_time": "2022-03-27T21:41:08.099952Z",
     "start_time": "2022-03-27T21:41:08.086015Z"
    }
   },
   "outputs": [],
   "source": [
    "col_agg.groupby([\"Categorie\",\"Time\"])[\"topic_2\"].mean()"
   ]
  },
  {
   "cell_type": "code",
   "execution_count": null,
   "id": "ebfec0a2",
   "metadata": {
    "ExecuteTime": {
     "end_time": "2022-03-27T21:41:15.697036Z",
     "start_time": "2022-03-27T21:41:15.677426Z"
    }
   },
   "outputs": [],
   "source": [
    "col_agg.groupby([\"Categorie\",\"Time\"])[\"topic_3\"].mean()"
   ]
  },
  {
   "cell_type": "code",
   "execution_count": null,
   "id": "e7b04dea",
   "metadata": {
    "ExecuteTime": {
     "end_time": "2022-03-27T21:41:26.101109Z",
     "start_time": "2022-03-27T21:41:26.081040Z"
    }
   },
   "outputs": [],
   "source": [
    "col_agg.groupby([\"Left/Right\",\"Time\"])[\"topic_0\"].mean()"
   ]
  },
  {
   "cell_type": "code",
   "execution_count": null,
   "id": "45b5c8fc",
   "metadata": {
    "ExecuteTime": {
     "end_time": "2022-03-27T21:42:04.214524Z",
     "start_time": "2022-03-27T21:42:04.190590Z"
    }
   },
   "outputs": [],
   "source": [
    "col_agg.groupby([\"Left/Right\",\"Time\"])[\"topic_1\"].mean()"
   ]
  },
  {
   "cell_type": "code",
   "execution_count": null,
   "id": "2ba9c21c",
   "metadata": {
    "ExecuteTime": {
     "end_time": "2022-03-27T21:42:13.447694Z",
     "start_time": "2022-03-27T21:42:13.434563Z"
    }
   },
   "outputs": [],
   "source": [
    "col_agg.groupby([\"Left/Right\",\"Time\"])[\"topic_2\"].mean()"
   ]
  },
  {
   "cell_type": "code",
   "execution_count": null,
   "id": "f633c885",
   "metadata": {
    "ExecuteTime": {
     "end_time": "2022-03-27T21:42:28.095567Z",
     "start_time": "2022-03-27T21:42:28.084463Z"
    }
   },
   "outputs": [],
   "source": [
    "col_agg.groupby([\"Left/Right\",\"Time\"])[\"topic_3\"].mean()"
   ]
  },
  {
   "cell_type": "markdown",
   "id": "96e5498b",
   "metadata": {},
   "source": [
    "**Topic Starters are big, Corruption is less important during protests, Social Issues also not, Human Rights became important**"
   ]
  },
  {
   "cell_type": "code",
   "execution_count": null,
   "id": "976e0eb8",
   "metadata": {},
   "outputs": [],
   "source": []
  },
  {
   "cell_type": "code",
   "execution_count": null,
   "id": "e11dc5c8",
   "metadata": {},
   "outputs": [],
   "source": []
  },
  {
   "cell_type": "markdown",
   "id": "IV1w7PPwl8CB",
   "metadata": {
    "id": "IV1w7PPwl8CB"
   },
   "source": [
    "## Dictionary"
   ]
  },
  {
   "cell_type": "code",
   "execution_count": null,
   "id": "LWPhI9LNmoOP",
   "metadata": {
    "ExecuteTime": {
     "end_time": "2022-03-27T22:29:46.483148Z",
     "start_time": "2022-03-27T22:29:46.469613Z"
    },
    "id": "LWPhI9LNmoOP"
   },
   "outputs": [],
   "source": [
    "from collections import Counter\n",
    "import re"
   ]
  },
  {
   "cell_type": "code",
   "execution_count": null,
   "id": "6a6471d4",
   "metadata": {
    "ExecuteTime": {
     "end_time": "2022-03-27T23:45:31.516143Z",
     "start_time": "2022-03-27T23:45:31.501183Z"
    }
   },
   "outputs": [],
   "source": [
    "#Chile\n",
    "Human_rights=[\"policia\",\"carabinero\",\"violencia\",\"humanos\",\"protesta\",\"detención\",\"desaparecido\",\"paco\",\"quemar\",\"fuego\",\"barricada\",\"INDH\", \"represion\", \"lacrimogeno\",\n",
    "                                                 \"perdigones\", \"ojo\", \"ciego\", \"mutilado\",\"ddhh\",\"dd hh\"]\n",
    "Social_issues=['pensión','AFP','vejez','salud','fonasa','consultorio','hospital','clínica','isapre','dignidad','educación','profesor','liceo','universidad','gratuita',\n",
    "                                      'sociales','vivienda','campamentos', 'delincuencia']\n",
    "Corruption=['corrupción','soborno','vendido','nepotismo','deshonesto','ladrón','robar','mentir']\n",
    "Protest_starter=['metro','tren','pasaje','transporte','evadir','evasión','micro','transantiago','Hutt','alza','tarifa']"
   ]
  },
  {
   "cell_type": "code",
   "execution_count": null,
   "id": "5f2bed4a",
   "metadata": {
    "ExecuteTime": {
     "end_time": "2022-03-27T23:45:38.794398Z",
     "start_time": "2022-03-27T23:45:38.780438Z"
    }
   },
   "outputs": [],
   "source": [
    "def stem_list(input_list):\n",
    "    porter=SnowballStemmer(\"spanish\")\n",
    "    output=[]\n",
    "    for i in input_list:\n",
    "        output.append(porter.stem(i.lower()))\n",
    "    return output"
   ]
  },
  {
   "cell_type": "code",
   "execution_count": null,
   "id": "4e4185ad",
   "metadata": {
    "ExecuteTime": {
     "end_time": "2022-03-27T23:48:19.094648Z",
     "start_time": "2022-03-27T23:48:19.080684Z"
    }
   },
   "outputs": [],
   "source": [
    "Human_rights=stem_list(Human_rights)\n",
    "Social_issues=stem_list(Social_issues)\n",
    "Corruption=stem_list(Corruption)\n",
    "Protest_starter=stem_list(Protest_starter)"
   ]
  },
  {
   "cell_type": "code",
   "execution_count": null,
   "id": "b4079f80",
   "metadata": {
    "ExecuteTime": {
     "end_time": "2022-03-27T23:48:26.565493Z",
     "start_time": "2022-03-27T23:48:26.552316Z"
    }
   },
   "outputs": [],
   "source": [
    "topic_list=[Human_rights,Social_issues,Corruption,Protest_starter]\n",
    "names=[\"Human_rights\",\"Social_issues\",\"Corruption\",\"Protest_starter\"]"
   ]
  },
  {
   "cell_type": "code",
   "execution_count": null,
   "id": "77d344eb",
   "metadata": {
    "ExecuteTime": {
     "end_time": "2022-03-27T23:46:27.732375Z",
     "start_time": "2022-03-27T23:46:27.722403Z"
    }
   },
   "outputs": [],
   "source": [
    "def dict_marker(df,dict_list,name_str):\n",
    "    output_list=[]\n",
    "    for s in df.stem_text:\n",
    "        r= re.compile(\"|\".join(r\"\\b%s\\b\" % w for w in dict_list))\n",
    "        wordcount = Counter(re.findall(r, str(s).lower()))\n",
    "        output_list.append(sum(wordcount.values()))\n",
    "    df[name_str]=output_list\n",
    "    df[name_str]=np.where(df[name_str]>0,1,0)\n",
    "    return df"
   ]
  },
  {
   "cell_type": "code",
   "execution_count": null,
   "id": "9c7578eb",
   "metadata": {
    "ExecuteTime": {
     "end_time": "2022-03-27T23:47:04.666642Z",
     "start_time": "2022-03-27T23:46:35.088884Z"
    }
   },
   "outputs": [],
   "source": [
    "#Chile\n",
    "for i in range(0,len(topic_list)):\n",
    "    chile=dict_marker(chile,topic_list[i],names[i])"
   ]
  },
  {
   "cell_type": "code",
   "execution_count": null,
   "id": "c91e80e6",
   "metadata": {
    "ExecuteTime": {
     "end_time": "2022-03-27T23:11:23.632093Z",
     "start_time": "2022-03-27T23:11:01.009860Z"
    }
   },
   "outputs": [],
   "source": [
    "chile=dict_marker(chile,Human_rights,\"Human_rights\")\n",
    "chile=dict_marker(chile,Social_issues,\"Social_issues\")\n",
    "chile=dict_marker(chile,Corruption,\"Corruption\")\n",
    "chile=dict_marker(chile,Protest_starter,\"Protest_starter\")"
   ]
  },
  {
   "cell_type": "code",
   "execution_count": null,
   "id": "e09054b0",
   "metadata": {},
   "outputs": [],
   "source": []
  },
  {
   "cell_type": "code",
   "execution_count": null,
   "id": "1ef5f278",
   "metadata": {
    "ExecuteTime": {
     "end_time": "2022-03-27T23:48:11.606385Z",
     "start_time": "2022-03-27T23:48:11.595407Z"
    }
   },
   "outputs": [],
   "source": [
    "#Colombia\n",
    "Human_rights=[\"policia\",\"esmad\",\"violencia\",\"humanos\",\"protesta\",\"detención\",\"desaparecido\",\"victima\",\"pistola\",\"bomba\",\"gases\",\"lacrimogeno\", \"represion\", \"manifestacion\", \n",
    "                                                   \"violacion\", \"lesion\", \"sangre\", \"motin\", \"proyectiles\", \"tanqueta\", \"orden\", \"perdigones\", \"ojo\", \"ciego\", \"piedra\", \"antidisturbio\", \"disturbio\",\n",
    "                                                   \"arma\", \"trauma\", \"fuerza\"]\n",
    "Social_issues=['pension','narcotrafico','vejez','salud','drogas','paramilitares','paraco','guerrilla','farc','educacion','pobreza','educacion', 'publica', \n",
    "                                         'gratuita','sociales','vivienda','desigualdad', 'venezolanos', 'venezuela', 'conflicto', 'reclutamiento', 'desigualdad', 'alimentos', 'desempleo', \n",
    "                                         'delincuencia', 'crimen', 'bandas', 'terrorismo', 'robos', 'atracos', 'discriminacion', 'ilegal', 'populismo', 'transporte', 'trancon', 'movilidad']\n",
    "                        \n",
    "Corruption=['corrupcion', 'parapolitica','vendido','deshonesto','ladrón','robar','mentir', 'recursos', 'contraloria', 'fiscalia', 'presupuesto', 'politicos', 'ratas', \n",
    "                                      'elecciones', 'escandalo', 'odebrecht', 'contratacion', 'mermelada', 'votos', 'sic', 'procuraduria', 'ñeñepolitica', 'carrusel', 'dinero']\n",
    "                        \n",
    "Protest_starter=[\"reforma\", \"impuestos\", \"pobreza\", \"canasta\", \"precio\", \"carrasquilla\", \"ipc\", \"estrato\",  \"tributaria\", \"solaridad\", \"sostenible\", \"ley\", \n",
    "                                           \"desempleo\", \"clase\", \"recaudo\", \"deuda\", \"renta\", \"iva\", \"servicios\", \"patrimonio\", \"finanzas\", \"inversion\", \"exenciones\", \"economia\", \"ahorro\", \n",
    "                                            \"recursos\"]"
   ]
  },
  {
   "cell_type": "code",
   "execution_count": null,
   "id": "a32f6576",
   "metadata": {
    "ExecuteTime": {
     "end_time": "2022-03-27T23:49:07.420860Z",
     "start_time": "2022-03-27T23:48:34.005844Z"
    }
   },
   "outputs": [],
   "source": [
    "#Colombia\n",
    "for i in range(0,len(topic_list)):\n",
    "    colombia=dict_marker(colombia,topic_list[i],names[i])"
   ]
  },
  {
   "cell_type": "code",
   "execution_count": null,
   "id": "a5dbf275",
   "metadata": {},
   "outputs": [],
   "source": []
  },
  {
   "cell_type": "code",
   "execution_count": null,
   "id": "29a6266e",
   "metadata": {},
   "outputs": [],
   "source": []
  },
  {
   "cell_type": "code",
   "execution_count": null,
   "id": "6751dd66",
   "metadata": {
    "ExecuteTime": {
     "end_time": "2022-03-27T23:23:43.379040Z",
     "start_time": "2022-03-27T23:23:43.296974Z"
    }
   },
   "outputs": [],
   "source": [
    "colombia.groupby([\"Left/Right\",\"Time\"])[\"Human_rights\"].mean()"
   ]
  },
  {
   "cell_type": "markdown",
   "id": "ee898f19",
   "metadata": {},
   "source": [
    "**Chile**"
   ]
  },
  {
   "cell_type": "code",
   "execution_count": null,
   "id": "33b994f4",
   "metadata": {
    "ExecuteTime": {
     "end_time": "2022-03-27T23:49:15.046137Z",
     "start_time": "2022-03-27T23:49:14.856609Z"
    }
   },
   "outputs": [],
   "source": [
    "fig, axs = plt.subplots(figsize=(20, 4))\n",
    "\n",
    "chile.groupby(chile['days_since'])[\"Human_rights\"].mean().plot(kind='line', rot=0, ax=axs)\n",
    "\n",
    "plt.xlabel(\"Time in Days (0=Protest Start)\")\n",
    "plt.ylabel(\"Share Human Rights Tweets (in %)\")"
   ]
  },
  {
   "cell_type": "code",
   "execution_count": null,
   "id": "20c08058",
   "metadata": {
    "ExecuteTime": {
     "end_time": "2022-03-27T23:49:36.831642Z",
     "start_time": "2022-03-27T23:49:36.662080Z"
    }
   },
   "outputs": [],
   "source": [
    "fig, axs = plt.subplots(figsize=(20, 4))\n",
    "\n",
    "chile.groupby(chile['days_since'])[\"Social_issues\"].mean().plot(kind='line', rot=0, ax=axs)\n",
    "\n",
    "plt.xlabel(\"Time in Days (0=Protest Start)\")\n",
    "plt.ylabel(\"Share Social Issues Tweets (in %)\")"
   ]
  },
  {
   "cell_type": "code",
   "execution_count": null,
   "id": "b7d2e604",
   "metadata": {
    "ExecuteTime": {
     "end_time": "2022-03-27T23:49:44.580703Z",
     "start_time": "2022-03-27T23:49:44.378038Z"
    }
   },
   "outputs": [],
   "source": [
    "fig, axs = plt.subplots(figsize=(20, 4))\n",
    "\n",
    "chile.groupby(chile['days_since'])[\"Corruption\"].mean().plot(kind='line', rot=0, ax=axs)\n",
    "\n",
    "plt.xlabel(\"Time in Days (0=Protest Start)\")\n",
    "plt.ylabel(\"Share Corruption Tweets (in %)\")"
   ]
  },
  {
   "cell_type": "code",
   "execution_count": null,
   "id": "f8dbaeb5",
   "metadata": {
    "ExecuteTime": {
     "end_time": "2022-03-27T23:50:00.208375Z",
     "start_time": "2022-03-27T23:50:00.006913Z"
    }
   },
   "outputs": [],
   "source": [
    "fig, axs = plt.subplots(figsize=(20, 4))\n",
    "\n",
    "chile.groupby(chile['days_since'])[\"Protest_starter\"].mean().plot(kind='line', rot=0, ax=axs)\n",
    "\n",
    "plt.xlabel(\"Time in Days (0=Protest Start)\")\n",
    "plt.ylabel(\"Share Protest Starter Tweets (in %)\")"
   ]
  },
  {
   "cell_type": "markdown",
   "id": "c5348b26",
   "metadata": {},
   "source": [
    "**Colombia**"
   ]
  },
  {
   "cell_type": "code",
   "execution_count": null,
   "id": "ba9b32d7",
   "metadata": {
    "ExecuteTime": {
     "end_time": "2022-03-27T23:50:10.039099Z",
     "start_time": "2022-03-27T23:50:09.860970Z"
    }
   },
   "outputs": [],
   "source": [
    "fig, axs = plt.subplots(figsize=(20, 4))\n",
    "\n",
    "colombia.groupby(colombia['days_since'])[\"Human_rights\"].mean().plot(kind='line', rot=0, ax=axs)\n",
    "\n",
    "plt.xlabel(\"Time in Days (0=Protest Start)\")\n",
    "plt.ylabel(\"Share Human Rights Tweets (in %)\")"
   ]
  },
  {
   "cell_type": "code",
   "execution_count": null,
   "id": "d11ddd55",
   "metadata": {
    "ExecuteTime": {
     "end_time": "2022-03-27T23:50:30.083097Z",
     "start_time": "2022-03-27T23:50:29.917498Z"
    }
   },
   "outputs": [],
   "source": [
    "fig, axs = plt.subplots(figsize=(20, 4))\n",
    "\n",
    "colombia.groupby(colombia['days_since'])[\"Social_issues\"].mean().plot(kind='line', rot=0, ax=axs)\n",
    "\n",
    "plt.xlabel(\"Time in Days (0=Protest Start)\")\n",
    "plt.ylabel(\"Share Social Issues Tweets (in %)\")"
   ]
  },
  {
   "cell_type": "code",
   "execution_count": null,
   "id": "7129a979",
   "metadata": {
    "ExecuteTime": {
     "end_time": "2022-03-27T23:50:39.916769Z",
     "start_time": "2022-03-27T23:50:39.725128Z"
    }
   },
   "outputs": [],
   "source": [
    "fig, axs = plt.subplots(figsize=(20, 4))\n",
    "\n",
    "colombia.groupby(colombia['days_since'])[\"Corruption\"].mean().plot(kind='line', rot=0, ax=axs)\n",
    "\n",
    "plt.xlabel(\"Time in Days (0=Protest Start)\")\n",
    "plt.ylabel(\"Share Corruption Tweets (in %)\")"
   ]
  },
  {
   "cell_type": "code",
   "execution_count": null,
   "id": "a9b8ff4c",
   "metadata": {
    "ExecuteTime": {
     "end_time": "2022-03-27T23:50:55.709812Z",
     "start_time": "2022-03-27T23:50:55.530006Z"
    }
   },
   "outputs": [],
   "source": [
    "fig, axs = plt.subplots(figsize=(20, 4))\n",
    "\n",
    "colombia.groupby(colombia['days_since'])[\"Protest_starter\"].mean().plot(kind='line', rot=0, ax=axs)\n",
    "\n",
    "plt.xlabel(\"Time in Days (0=Protest Start)\")\n",
    "plt.ylabel(\"Share Protest Starter Tweets (in %)\")"
   ]
  },
  {
   "cell_type": "markdown",
   "id": "8cc659ed",
   "metadata": {
    "id": "c6_6IRpBmPJr"
   },
   "source": [
    "**Seaborn**"
   ]
  },
  {
   "cell_type": "code",
   "execution_count": null,
   "id": "c491ab64",
   "metadata": {
    "ExecuteTime": {
     "end_time": "2022-03-28T00:02:15.512535Z",
     "start_time": "2022-03-28T00:02:06.237194Z"
    }
   },
   "outputs": [],
   "source": [
    "fig, ax = plt.subplots(figsize = (10,6))\n",
    "p1 = sns.lineplot(ax=ax, x='days_since', y=\"Human_rights\", data=chile, hue='Categorie')\n",
    "p1.set_title( \"Share of Human Rights Tweets\")\n",
    "p1.set_xlabel( \"Timeline in Days (0: Start Protest)\")\n",
    "p1.set_ylabel( \"Share of Human Rights Tweets\")"
   ]
  },
  {
   "cell_type": "code",
   "execution_count": null,
   "id": "4e33e358",
   "metadata": {
    "ExecuteTime": {
     "end_time": "2022-03-28T00:02:33.501224Z",
     "start_time": "2022-03-28T00:02:23.700483Z"
    }
   },
   "outputs": [],
   "source": [
    "fig, ax = plt.subplots(figsize = (10,6))\n",
    "p1 = sns.lineplot(ax=ax, x='days_since', y=\"Social_issues\", data=chile, hue='Categorie')\n",
    "p1.set_title( \"Share of Social Issues Tweets\")\n",
    "p1.set_xlabel( \"Timeline in Days (0: Start Protest)\")\n",
    "p1.set_ylabel( \"Share of Social Issues Tweets\")"
   ]
  },
  {
   "cell_type": "code",
   "execution_count": null,
   "id": "49a2cf5b",
   "metadata": {
    "ExecuteTime": {
     "end_time": "2022-03-28T00:02:51.408511Z",
     "start_time": "2022-03-28T00:02:41.304874Z"
    }
   },
   "outputs": [],
   "source": [
    "fig, ax = plt.subplots(figsize = (10,6))\n",
    "p1 = sns.lineplot(ax=ax, x='days_since', y=\"Corruption\", data=chile, hue='Categorie')\n",
    "p1.set_title( \"Share of Corruption Tweets\")\n",
    "p1.set_xlabel( \"Timeline in Days (0: Start Protest)\")\n",
    "p1.set_ylabel( \"Share of Corruption Tweets\")"
   ]
  },
  {
   "cell_type": "code",
   "execution_count": null,
   "id": "07ce6fe6",
   "metadata": {
    "ExecuteTime": {
     "end_time": "2022-03-28T00:03:13.880643Z",
     "start_time": "2022-03-28T00:03:04.204945Z"
    }
   },
   "outputs": [],
   "source": [
    "fig, ax = plt.subplots(figsize = (10,6))\n",
    "p1 = sns.lineplot(ax=ax, x='days_since', y=\"Protest_starter\", data=chile, hue='Categorie')\n",
    "p1.set_title( \"Share of Protest Starter Tweets\")\n",
    "p1.set_xlabel( \"Timeline in Days (0: Start Protest)\")\n",
    "p1.set_ylabel( \"Share of Protest Starter Tweets\")"
   ]
  },
  {
   "cell_type": "code",
   "execution_count": null,
   "id": "f9f33d77",
   "metadata": {},
   "outputs": [],
   "source": []
  },
  {
   "cell_type": "code",
   "execution_count": null,
   "id": "ba44ec6f",
   "metadata": {
    "ExecuteTime": {
     "end_time": "2022-03-28T00:05:32.656193Z",
     "start_time": "2022-03-28T00:05:24.310085Z"
    }
   },
   "outputs": [],
   "source": [
    "fig, ax = plt.subplots(figsize = (10,6))\n",
    "p1 = sns.lineplot(ax=ax, x='days_since', y=\"Human_rights\", data=colombia, hue='Categorie')\n",
    "p1.set_title( \"Share of Human Rights Tweets\")\n",
    "p1.set_xlabel( \"Timeline in Days (0: Start Protest)\")\n",
    "p1.set_ylabel( \"Share of Human Rights Tweets\")"
   ]
  },
  {
   "cell_type": "code",
   "execution_count": null,
   "id": "8e36df45",
   "metadata": {
    "ExecuteTime": {
     "end_time": "2022-03-28T00:06:15.144967Z",
     "start_time": "2022-03-28T00:06:06.812231Z"
    }
   },
   "outputs": [],
   "source": [
    "fig, ax = plt.subplots(figsize = (10,6))\n",
    "p1 = sns.lineplot(ax=ax, x='days_since', y=\"Social_issues\", data=colombia, hue='Categorie')\n",
    "p1.set_title( \"Share of Social Issues Tweets\")\n",
    "p1.set_xlabel( \"Timeline in Days (0: Start Protest)\")\n",
    "p1.set_ylabel( \"Share of Social Issues Tweets\")"
   ]
  },
  {
   "cell_type": "code",
   "execution_count": null,
   "id": "ade14a60",
   "metadata": {
    "ExecuteTime": {
     "end_time": "2022-03-28T00:06:29.363009Z",
     "start_time": "2022-03-28T00:06:23.363892Z"
    }
   },
   "outputs": [],
   "source": [
    "fig, ax = plt.subplots(figsize = (10,6))\n",
    "p1 = sns.lineplot(ax=ax, x='days_since', y=\"Social_issues\", data=colombia, hue='Left/Right')\n",
    "p1.set_title( \"Share of Social Issues Tweets\")\n",
    "p1.set_xlabel( \"Timeline in Days (0: Start Protest)\")\n",
    "p1.set_ylabel( \"Share of Social Issues Tweets\")"
   ]
  },
  {
   "cell_type": "code",
   "execution_count": null,
   "id": "26a92ed8",
   "metadata": {
    "ExecuteTime": {
     "end_time": "2022-03-28T12:59:12.515544Z",
     "start_time": "2022-03-28T12:59:12.001074Z"
    }
   },
   "outputs": [],
   "source": [
    "colombia[colombia[\"Social_issues\"]==1].groupby([\"Left/Right\",\"Time\"])[\"sentiment\"].mean()"
   ]
  },
  {
   "cell_type": "code",
   "execution_count": null,
   "id": "f15d60d9",
   "metadata": {
    "ExecuteTime": {
     "end_time": "2022-03-28T00:07:11.383546Z",
     "start_time": "2022-03-28T00:07:02.659961Z"
    }
   },
   "outputs": [],
   "source": [
    "fig, ax = plt.subplots(figsize = (10,6))\n",
    "p1 = sns.lineplot(ax=ax, x='days_since', y=\"Corruption\", data=colombia, hue='Categorie')\n",
    "p1.set_title( \"Share of Corruption Tweets\")\n",
    "p1.set_xlabel( \"Timeline in Days (0: Start Protest)\")\n",
    "p1.set_ylabel( \"Share of Corruption Tweets\")"
   ]
  },
  {
   "cell_type": "code",
   "execution_count": null,
   "id": "686045be",
   "metadata": {
    "ExecuteTime": {
     "end_time": "2022-03-28T00:08:04.111593Z",
     "start_time": "2022-03-28T00:07:53.904608Z"
    }
   },
   "outputs": [],
   "source": [
    "fig, ax = plt.subplots(figsize = (10,6))\n",
    "p1 = sns.lineplot(ax=ax, x='days_since', y=\"Protest_starter\", data=colombia, hue='Categorie')\n",
    "p1.set_title( \"Share of Protest Starter Tweets\")\n",
    "p1.set_xlabel( \"Timeline in Days (0: Start Protest)\")\n",
    "p1.set_ylabel( \"Share of Protest Starter Tweets\")"
   ]
  },
  {
   "cell_type": "code",
   "execution_count": null,
   "id": "2357c2b0",
   "metadata": {},
   "outputs": [],
   "source": []
  },
  {
   "cell_type": "markdown",
   "id": "6110c1b9",
   "metadata": {
    "id": "6110c1b9"
   },
   "source": [
    "## Unused"
   ]
  },
  {
   "cell_type": "code",
   "execution_count": null,
   "id": "PCyS3Lq7uUPd",
   "metadata": {
    "id": "PCyS3Lq7uUPd"
   },
   "outputs": [],
   "source": [
    "colombian_dictionaries={'Violence_HumanRights':[\"policia\",\"esmad\",\"violencia\",\"humanos\",\"protesta\",\"detención\",\"desaparecido\",\"victima\",\"pistola\",\"bomba\",\"gases\",\"lacrimogeno\", \"represion\", \"manifestacion\", \n",
    "                                                   \"violacion\", \"lesion\", \"sangre\", \"motin\", \"proyectiles\", \"tanqueta\", \"orden\", \"perdigones\", \"ojo\", \"ciego\", \"piedra\", \"antidisturbio\", \"disturbio\",\n",
    "                                                   \"arma\", \"trauma\", \"fuerza\"],\n",
    "                        'Social_Issues':['pension','narcotrafico','vejez','salud','drogas','paramilitares','paraco','guerrilla','farc','educacion','pobreza','educacion', 'publica', \n",
    "                                         'gratuita','sociales','vivienda','desigualdad', 'venezolanos', 'venezuela', 'conflicto', 'reclutamiento', 'desigualdad', 'alimentos', 'desempleo', \n",
    "                                         'delincuencia', 'crimen', 'bandas', 'terrorismo', 'robos', 'atracos', 'discriminacion', 'ilegal', 'populismo', 'transporte', 'trancon', 'movilidad'],\n",
    "                        \n",
    "                        'Corruption':['corrupcion', 'parapolitica','vendido','deshonesto','ladrón','robar','mentir', 'recursos', 'contraloria', 'fiscalia', 'presupuesto', 'politicos', 'ratas', \n",
    "                                      'elecciones', 'escandalo', 'odebrecht', 'contratacion', 'mermelada', 'votos', 'sic', 'procuraduria', 'ñeñepolitica', 'carrusel', 'dinero'],\n",
    "                        \n",
    "                        'Protest _Starter':[\"reforma\", \"impuestos\", \"pobreza\", \"canasta\", \"precio\", \"carrasquilla\", \"ipc\", \"estrato\",  \"tributaria\", \"solaridad\", \"sostenible\", \"ley\", \n",
    "                                           \"desempleo\", \"clase\", \"recaudo\", \"deuda\", \"renta\", \"iva\", \"servicios\", \"patrimonio\", \"finanzas\", \"inversion\", \"exenciones\", \"economia\", \"ahorro\", \n",
    "                                            \"recursos\"] }"
   ]
  },
  {
   "cell_type": "code",
   "execution_count": null,
   "id": "bjmaW8v0uaJ3",
   "metadata": {
    "id": "bjmaW8v0uaJ3"
   },
   "outputs": [],
   "source": [
    "chilean_dictionaries={'Violence_HumanRights':[\"policia\",\"carabinero\",\"violencia\",\"humanos\",\"protesta\",\"detención\",\"desaparecido\",\"paco\",\"quemar\",\"fuego\",\"barricada\",\"INDH\", \"represion\", \"lacrimogeno\",\n",
    "                                                 \"perdigones\", \"ojo\", \"ciego\", \"mutilado\",\"ddhh\",\"dd hh\"],\n",
    "                     'Social_Issues':['pensión','AFP','vejez','salud','fonasa','consultorio','hospital','clínica','isapre','dignidad','educación','profesor','liceo','universidad','gratuita',\n",
    "                                      'sociales','vivienda','campamentos', 'delincuencia'],\n",
    "                     'Corruption':['corrupción','soborno','vendido','nepotismo','deshonesto','ladrón','robar','mentir'],\n",
    "                     'Protest_Starter':['metro','tren','pasaje','transporte','evadir','evasión','micro','transantiago','Hutt','alza','tarifa'] }"
   ]
  },
  {
   "cell_type": "code",
   "execution_count": null,
   "id": "460cae6a",
   "metadata": {
    "ExecuteTime": {
     "end_time": "2022-03-22T11:41:23.293149Z",
     "start_time": "2022-03-22T11:41:23.216343Z"
    },
    "id": "460cae6a",
    "outputId": "41171d33-06b2-4f50-bca8-b21f45392004"
   },
   "outputs": [],
   "source": [
    "df.Categorie.value_counts()"
   ]
  },
  {
   "cell_type": "code",
   "execution_count": null,
   "id": "35536626",
   "metadata": {
    "ExecuteTime": {
     "end_time": "2022-03-22T13:26:28.092156Z",
     "start_time": "2022-03-22T12:23:10.525028Z"
    },
    "id": "35536626"
   },
   "outputs": [],
   "source": [
    "#getting emotion score for each term\n",
    "import text2emotion as te\n",
    "import nltk\n",
    "nltk.download('omw-1.4')\n",
    "\n",
    "output = pd.DataFrame()\n",
    "for index, row in ch_pol_agg.iterrows():\n",
    "    emotion=te.get_emotion(row[\"joined_text\"])\n",
    "    output = output.append(emotion, ignore_index=True)"
   ]
  },
  {
   "cell_type": "code",
   "execution_count": null,
   "id": "4b241d74",
   "metadata": {
    "ExecuteTime": {
     "end_time": "2022-03-22T23:41:31.822412Z",
     "start_time": "2022-03-22T23:41:18.953044Z"
    },
    "id": "4b241d74"
   },
   "outputs": [],
   "source": [
    "# Define matrix,currently not needed!\n",
    "from sklearn.feature_extraction.text import CountVectorizer\n",
    "tf_vect = CountVectorizer(\n",
    "    max_df=0.6, \n",
    "    min_df=20,\n",
    "    max_features=10000\n",
    ")\n",
    "tf = tf_vect.fit_transform(text)"
   ]
  },
  {
   "cell_type": "code",
   "execution_count": null,
   "id": "xBMqTwe93QBe",
   "metadata": {
    "id": "xBMqTwe93QBe"
   },
   "outputs": [],
   "source": []
  },
  {
   "cell_type": "code",
   "execution_count": null,
   "id": "7miG4XFmzle1",
   "metadata": {
    "id": "7miG4XFmzle1"
   },
   "outputs": [],
   "source": []
  }
 ],
 "metadata": {
  "colab": {
   "collapsed_sections": [],
   "name": "Sentiment_Analysis.ipynb",
   "provenance": []
  },
  "kernelspec": {
   "display_name": "textmining",
   "language": "python",
   "name": "textmining"
  },
  "language_info": {
   "codemirror_mode": {
    "name": "ipython",
    "version": 3
   },
   "file_extension": ".py",
   "mimetype": "text/x-python",
   "name": "python",
   "nbconvert_exporter": "python",
   "pygments_lexer": "ipython3",
   "version": "3.8.12"
  },
  "toc": {
   "base_numbering": 1,
   "nav_menu": {},
   "number_sections": true,
   "sideBar": true,
   "skip_h1_title": false,
   "title_cell": "Table of Contents",
   "title_sidebar": "Contents",
   "toc_cell": false,
   "toc_position": {},
   "toc_section_display": true,
   "toc_window_display": false
  },
  "varInspector": {
   "cols": {
    "lenName": 16,
    "lenType": 16,
    "lenVar": 40
   },
   "kernels_config": {
    "python": {
     "delete_cmd_postfix": "",
     "delete_cmd_prefix": "del ",
     "library": "var_list.py",
     "varRefreshCmd": "print(var_dic_list())"
    },
    "r": {
     "delete_cmd_postfix": ") ",
     "delete_cmd_prefix": "rm(",
     "library": "var_list.r",
     "varRefreshCmd": "cat(var_dic_list()) "
    }
   },
   "types_to_exclude": [
    "module",
    "function",
    "builtin_function_or_method",
    "instance",
    "_Feature"
   ],
   "window_display": false
  },
  "widgets": {
   "application/vnd.jupyter.widget-state+json": {
    "022fd36b79684371886e06504fa8c27f": {
     "model_module": "@jupyter-widgets/controls",
     "model_module_version": "1.5.0",
     "model_name": "ProgressStyleModel",
     "state": {
      "_model_module": "@jupyter-widgets/controls",
      "_model_module_version": "1.5.0",
      "_model_name": "ProgressStyleModel",
      "_view_count": null,
      "_view_module": "@jupyter-widgets/base",
      "_view_module_version": "1.2.0",
      "_view_name": "StyleView",
      "bar_color": null,
      "description_width": ""
     }
    },
    "052039456dec4db2bf7b7c2b9ff47ea3": {
     "model_module": "@jupyter-widgets/controls",
     "model_module_version": "1.5.0",
     "model_name": "FloatProgressModel",
     "state": {
      "_dom_classes": [],
      "_model_module": "@jupyter-widgets/controls",
      "_model_module_version": "1.5.0",
      "_model_name": "FloatProgressModel",
      "_view_count": null,
      "_view_module": "@jupyter-widgets/controls",
      "_view_module_version": "1.5.0",
      "_view_name": "ProgressView",
      "bar_style": "success",
      "description": "",
      "description_tooltip": null,
      "layout": "IPY_MODEL_c29cee75567b4e799bd74baebcae3cc7",
      "max": 150,
      "min": 0,
      "orientation": "horizontal",
      "style": "IPY_MODEL_022fd36b79684371886e06504fa8c27f",
      "value": 150
     }
    },
    "07b903962b3842f9a80e40d1830319ee": {
     "model_module": "@jupyter-widgets/base",
     "model_module_version": "1.2.0",
     "model_name": "LayoutModel",
     "state": {
      "_model_module": "@jupyter-widgets/base",
      "_model_module_version": "1.2.0",
      "_model_name": "LayoutModel",
      "_view_count": null,
      "_view_module": "@jupyter-widgets/base",
      "_view_module_version": "1.2.0",
      "_view_name": "LayoutView",
      "align_content": null,
      "align_items": null,
      "align_self": null,
      "border": null,
      "bottom": null,
      "display": null,
      "flex": null,
      "flex_flow": null,
      "grid_area": null,
      "grid_auto_columns": null,
      "grid_auto_flow": null,
      "grid_auto_rows": null,
      "grid_column": null,
      "grid_gap": null,
      "grid_row": null,
      "grid_template_areas": null,
      "grid_template_columns": null,
      "grid_template_rows": null,
      "height": null,
      "justify_content": null,
      "justify_items": null,
      "left": null,
      "margin": null,
      "max_height": null,
      "max_width": null,
      "min_height": null,
      "min_width": null,
      "object_fit": null,
      "object_position": null,
      "order": null,
      "overflow": null,
      "overflow_x": null,
      "overflow_y": null,
      "padding": null,
      "right": null,
      "top": null,
      "visibility": null,
      "width": null
     }
    },
    "0d8f2381f3e644a1a6d26f604c920dd6": {
     "model_module": "@jupyter-widgets/base",
     "model_module_version": "1.2.0",
     "model_name": "LayoutModel",
     "state": {
      "_model_module": "@jupyter-widgets/base",
      "_model_module_version": "1.2.0",
      "_model_name": "LayoutModel",
      "_view_count": null,
      "_view_module": "@jupyter-widgets/base",
      "_view_module_version": "1.2.0",
      "_view_name": "LayoutView",
      "align_content": null,
      "align_items": null,
      "align_self": null,
      "border": null,
      "bottom": null,
      "display": null,
      "flex": null,
      "flex_flow": null,
      "grid_area": null,
      "grid_auto_columns": null,
      "grid_auto_flow": null,
      "grid_auto_rows": null,
      "grid_column": null,
      "grid_gap": null,
      "grid_row": null,
      "grid_template_areas": null,
      "grid_template_columns": null,
      "grid_template_rows": null,
      "height": null,
      "justify_content": null,
      "justify_items": null,
      "left": null,
      "margin": null,
      "max_height": null,
      "max_width": null,
      "min_height": null,
      "min_width": null,
      "object_fit": null,
      "object_position": null,
      "order": null,
      "overflow": null,
      "overflow_x": null,
      "overflow_y": null,
      "padding": null,
      "right": null,
      "top": null,
      "visibility": null,
      "width": null
     }
    },
    "11b83e18f0dc40c7a9d2fcedd795c9f1": {
     "model_module": "@jupyter-widgets/controls",
     "model_module_version": "1.5.0",
     "model_name": "DescriptionStyleModel",
     "state": {
      "_model_module": "@jupyter-widgets/controls",
      "_model_module_version": "1.5.0",
      "_model_name": "DescriptionStyleModel",
      "_view_count": null,
      "_view_module": "@jupyter-widgets/base",
      "_view_module_version": "1.2.0",
      "_view_name": "StyleView",
      "description_width": ""
     }
    },
    "12ac3cefa79142c2ac9e95809f281dce": {
     "model_module": "@jupyter-widgets/controls",
     "model_module_version": "1.5.0",
     "model_name": "HTMLModel",
     "state": {
      "_dom_classes": [],
      "_model_module": "@jupyter-widgets/controls",
      "_model_module_version": "1.5.0",
      "_model_name": "HTMLModel",
      "_view_count": null,
      "_view_module": "@jupyter-widgets/controls",
      "_view_module_version": "1.5.0",
      "_view_name": "HTMLView",
      "description": "",
      "description_tooltip": null,
      "layout": "IPY_MODEL_f7e6eca23dd44083b12aca805ded00af",
      "placeholder": "​",
      "style": "IPY_MODEL_5cee158d3bc14f7aa30f26b182942e2d",
      "value": "Downloading: 100%"
     }
    },
    "1c1503c5b01349aea40f243186e8a119": {
     "model_module": "@jupyter-widgets/base",
     "model_module_version": "1.2.0",
     "model_name": "LayoutModel",
     "state": {
      "_model_module": "@jupyter-widgets/base",
      "_model_module_version": "1.2.0",
      "_model_name": "LayoutModel",
      "_view_count": null,
      "_view_module": "@jupyter-widgets/base",
      "_view_module_version": "1.2.0",
      "_view_name": "LayoutView",
      "align_content": null,
      "align_items": null,
      "align_self": null,
      "border": null,
      "bottom": null,
      "display": null,
      "flex": null,
      "flex_flow": null,
      "grid_area": null,
      "grid_auto_columns": null,
      "grid_auto_flow": null,
      "grid_auto_rows": null,
      "grid_column": null,
      "grid_gap": null,
      "grid_row": null,
      "grid_template_areas": null,
      "grid_template_columns": null,
      "grid_template_rows": null,
      "height": null,
      "justify_content": null,
      "justify_items": null,
      "left": null,
      "margin": null,
      "max_height": null,
      "max_width": null,
      "min_height": null,
      "min_width": null,
      "object_fit": null,
      "object_position": null,
      "order": null,
      "overflow": null,
      "overflow_x": null,
      "overflow_y": null,
      "padding": null,
      "right": null,
      "top": null,
      "visibility": null,
      "width": null
     }
    },
    "1c6be7cb43704d45b73f0820957327a2": {
     "model_module": "@jupyter-widgets/controls",
     "model_module_version": "1.5.0",
     "model_name": "DescriptionStyleModel",
     "state": {
      "_model_module": "@jupyter-widgets/controls",
      "_model_module_version": "1.5.0",
      "_model_name": "DescriptionStyleModel",
      "_view_count": null,
      "_view_module": "@jupyter-widgets/base",
      "_view_module_version": "1.2.0",
      "_view_name": "StyleView",
      "description_width": ""
     }
    },
    "1e3862e4f4e249a4ac63ed44e6fa8989": {
     "model_module": "@jupyter-widgets/base",
     "model_module_version": "1.2.0",
     "model_name": "LayoutModel",
     "state": {
      "_model_module": "@jupyter-widgets/base",
      "_model_module_version": "1.2.0",
      "_model_name": "LayoutModel",
      "_view_count": null,
      "_view_module": "@jupyter-widgets/base",
      "_view_module_version": "1.2.0",
      "_view_name": "LayoutView",
      "align_content": null,
      "align_items": null,
      "align_self": null,
      "border": null,
      "bottom": null,
      "display": null,
      "flex": null,
      "flex_flow": null,
      "grid_area": null,
      "grid_auto_columns": null,
      "grid_auto_flow": null,
      "grid_auto_rows": null,
      "grid_column": null,
      "grid_gap": null,
      "grid_row": null,
      "grid_template_areas": null,
      "grid_template_columns": null,
      "grid_template_rows": null,
      "height": null,
      "justify_content": null,
      "justify_items": null,
      "left": null,
      "margin": null,
      "max_height": null,
      "max_width": null,
      "min_height": null,
      "min_width": null,
      "object_fit": null,
      "object_position": null,
      "order": null,
      "overflow": null,
      "overflow_x": null,
      "overflow_y": null,
      "padding": null,
      "right": null,
      "top": null,
      "visibility": null,
      "width": null
     }
    },
    "26f94194e29047c6a0a67e559987f06b": {
     "model_module": "@jupyter-widgets/controls",
     "model_module_version": "1.5.0",
     "model_name": "FloatProgressModel",
     "state": {
      "_dom_classes": [],
      "_model_module": "@jupyter-widgets/controls",
      "_model_module_version": "1.5.0",
      "_model_name": "FloatProgressModel",
      "_view_count": null,
      "_view_module": "@jupyter-widgets/controls",
      "_view_module_version": "1.5.0",
      "_view_name": "ProgressView",
      "bar_style": "success",
      "description": "",
      "description_tooltip": null,
      "layout": "IPY_MODEL_e094ba200afb41a1a355b83e56ea1e9c",
      "max": 435246509,
      "min": 0,
      "orientation": "horizontal",
      "style": "IPY_MODEL_8a322d90c5544a1a9fe7440688295ffc",
      "value": 435246509
     }
    },
    "2da511cb9bed4f5b96e5c614e4effa7f": {
     "model_module": "@jupyter-widgets/controls",
     "model_module_version": "1.5.0",
     "model_name": "DescriptionStyleModel",
     "state": {
      "_model_module": "@jupyter-widgets/controls",
      "_model_module_version": "1.5.0",
      "_model_name": "DescriptionStyleModel",
      "_view_count": null,
      "_view_module": "@jupyter-widgets/base",
      "_view_module_version": "1.2.0",
      "_view_name": "StyleView",
      "description_width": ""
     }
    },
    "2dec7fe49b1c4dd29d026ffaa6f7e09b": {
     "model_module": "@jupyter-widgets/controls",
     "model_module_version": "1.5.0",
     "model_name": "HTMLModel",
     "state": {
      "_dom_classes": [],
      "_model_module": "@jupyter-widgets/controls",
      "_model_module_version": "1.5.0",
      "_model_name": "HTMLModel",
      "_view_count": null,
      "_view_module": "@jupyter-widgets/controls",
      "_view_module_version": "1.5.0",
      "_view_name": "HTMLView",
      "description": "",
      "description_tooltip": null,
      "layout": "IPY_MODEL_07b903962b3842f9a80e40d1830319ee",
      "placeholder": "​",
      "style": "IPY_MODEL_37d753c3d2484573ae74edcbbee7d2f0",
      "value": "Downloading: 100%"
     }
    },
    "37d753c3d2484573ae74edcbbee7d2f0": {
     "model_module": "@jupyter-widgets/controls",
     "model_module_version": "1.5.0",
     "model_name": "DescriptionStyleModel",
     "state": {
      "_model_module": "@jupyter-widgets/controls",
      "_model_module_version": "1.5.0",
      "_model_name": "DescriptionStyleModel",
      "_view_count": null,
      "_view_module": "@jupyter-widgets/base",
      "_view_module_version": "1.2.0",
      "_view_name": "StyleView",
      "description_width": ""
     }
    },
    "3ce87a8078144d7c9c05743961b570a8": {
     "model_module": "@jupyter-widgets/controls",
     "model_module_version": "1.5.0",
     "model_name": "HTMLModel",
     "state": {
      "_dom_classes": [],
      "_model_module": "@jupyter-widgets/controls",
      "_model_module_version": "1.5.0",
      "_model_name": "HTMLModel",
      "_view_count": null,
      "_view_module": "@jupyter-widgets/controls",
      "_view_module_version": "1.5.0",
      "_view_name": "HTMLView",
      "description": "",
      "description_tooltip": null,
      "layout": "IPY_MODEL_90883ec988d64addaaa236ae3a03022f",
      "placeholder": "​",
      "style": "IPY_MODEL_f96f3cfe6291493aa2dab1874a2590c0",
      "value": " 415M/415M [00:24&lt;00:00, 19.1MB/s]"
     }
    },
    "3fd4455c524a42f59b57bb3d50cf1cd7": {
     "model_module": "@jupyter-widgets/controls",
     "model_module_version": "1.5.0",
     "model_name": "HBoxModel",
     "state": {
      "_dom_classes": [],
      "_model_module": "@jupyter-widgets/controls",
      "_model_module_version": "1.5.0",
      "_model_name": "HBoxModel",
      "_view_count": null,
      "_view_module": "@jupyter-widgets/controls",
      "_view_module_version": "1.5.0",
      "_view_name": "HBoxView",
      "box_style": "",
      "children": [
       "IPY_MODEL_f3d72b4b136549e99d133169e6042798",
       "IPY_MODEL_26f94194e29047c6a0a67e559987f06b",
       "IPY_MODEL_3ce87a8078144d7c9c05743961b570a8"
      ],
      "layout": "IPY_MODEL_567f58b9928f44d888164f4e0feda655"
     }
    },
    "43d55824213d49089881be1a8c29f4c0": {
     "model_module": "@jupyter-widgets/controls",
     "model_module_version": "1.5.0",
     "model_name": "DescriptionStyleModel",
     "state": {
      "_model_module": "@jupyter-widgets/controls",
      "_model_module_version": "1.5.0",
      "_model_name": "DescriptionStyleModel",
      "_view_count": null,
      "_view_module": "@jupyter-widgets/base",
      "_view_module_version": "1.2.0",
      "_view_name": "StyleView",
      "description_width": ""
     }
    },
    "4a6f696eab5e4fdeabe03259009b8d89": {
     "model_module": "@jupyter-widgets/base",
     "model_module_version": "1.2.0",
     "model_name": "LayoutModel",
     "state": {
      "_model_module": "@jupyter-widgets/base",
      "_model_module_version": "1.2.0",
      "_model_name": "LayoutModel",
      "_view_count": null,
      "_view_module": "@jupyter-widgets/base",
      "_view_module_version": "1.2.0",
      "_view_name": "LayoutView",
      "align_content": null,
      "align_items": null,
      "align_self": null,
      "border": null,
      "bottom": null,
      "display": null,
      "flex": null,
      "flex_flow": null,
      "grid_area": null,
      "grid_auto_columns": null,
      "grid_auto_flow": null,
      "grid_auto_rows": null,
      "grid_column": null,
      "grid_gap": null,
      "grid_row": null,
      "grid_template_areas": null,
      "grid_template_columns": null,
      "grid_template_rows": null,
      "height": null,
      "justify_content": null,
      "justify_items": null,
      "left": null,
      "margin": null,
      "max_height": null,
      "max_width": null,
      "min_height": null,
      "min_width": null,
      "object_fit": null,
      "object_position": null,
      "order": null,
      "overflow": null,
      "overflow_x": null,
      "overflow_y": null,
      "padding": null,
      "right": null,
      "top": null,
      "visibility": null,
      "width": null
     }
    },
    "4da9d41b4f0a4ec98da3db4cef77f4cb": {
     "model_module": "@jupyter-widgets/controls",
     "model_module_version": "1.5.0",
     "model_name": "HBoxModel",
     "state": {
      "_dom_classes": [],
      "_model_module": "@jupyter-widgets/controls",
      "_model_module_version": "1.5.0",
      "_model_name": "HBoxModel",
      "_view_count": null,
      "_view_module": "@jupyter-widgets/controls",
      "_view_module_version": "1.5.0",
      "_view_name": "HBoxView",
      "box_style": "",
      "children": [
       "IPY_MODEL_b51ef4dd65d842b784476016a41aa2aa",
       "IPY_MODEL_f46dc71ec67244ec8b96604b7dc700a6",
       "IPY_MODEL_ef2b5e68407240cd8d6077fabbec773b"
      ],
      "layout": "IPY_MODEL_0d8f2381f3e644a1a6d26f604c920dd6"
     }
    },
    "53eb2996f5924544808becfaa1d6abca": {
     "model_module": "@jupyter-widgets/controls",
     "model_module_version": "1.5.0",
     "model_name": "HBoxModel",
     "state": {
      "_dom_classes": [],
      "_model_module": "@jupyter-widgets/controls",
      "_model_module_version": "1.5.0",
      "_model_name": "HBoxModel",
      "_view_count": null,
      "_view_module": "@jupyter-widgets/controls",
      "_view_module_version": "1.5.0",
      "_view_name": "HBoxView",
      "box_style": "",
      "children": [
       "IPY_MODEL_12ac3cefa79142c2ac9e95809f281dce",
       "IPY_MODEL_052039456dec4db2bf7b7c2b9ff47ea3",
       "IPY_MODEL_61253b2ea4744c44bd201097fed52ef5"
      ],
      "layout": "IPY_MODEL_e2a145c584be42fc88bac0a56aeec67b"
     }
    },
    "5457f7b8aaa84fe3998b44d2c9779ae7": {
     "model_module": "@jupyter-widgets/controls",
     "model_module_version": "1.5.0",
     "model_name": "HBoxModel",
     "state": {
      "_dom_classes": [],
      "_model_module": "@jupyter-widgets/controls",
      "_model_module_version": "1.5.0",
      "_model_name": "HBoxModel",
      "_view_count": null,
      "_view_module": "@jupyter-widgets/controls",
      "_view_module_version": "1.5.0",
      "_view_name": "HBoxView",
      "box_style": "",
      "children": [
       "IPY_MODEL_2dec7fe49b1c4dd29d026ffaa6f7e09b",
       "IPY_MODEL_d9cf5ac7010242349377dd56e21fd5ec",
       "IPY_MODEL_db883acf1cbf41838aba7f1fe86da646"
      ],
      "layout": "IPY_MODEL_c3f564a1037c4728a3c4b470d0c5f11e"
     }
    },
    "567f58b9928f44d888164f4e0feda655": {
     "model_module": "@jupyter-widgets/base",
     "model_module_version": "1.2.0",
     "model_name": "LayoutModel",
     "state": {
      "_model_module": "@jupyter-widgets/base",
      "_model_module_version": "1.2.0",
      "_model_name": "LayoutModel",
      "_view_count": null,
      "_view_module": "@jupyter-widgets/base",
      "_view_module_version": "1.2.0",
      "_view_name": "LayoutView",
      "align_content": null,
      "align_items": null,
      "align_self": null,
      "border": null,
      "bottom": null,
      "display": null,
      "flex": null,
      "flex_flow": null,
      "grid_area": null,
      "grid_auto_columns": null,
      "grid_auto_flow": null,
      "grid_auto_rows": null,
      "grid_column": null,
      "grid_gap": null,
      "grid_row": null,
      "grid_template_areas": null,
      "grid_template_columns": null,
      "grid_template_rows": null,
      "height": null,
      "justify_content": null,
      "justify_items": null,
      "left": null,
      "margin": null,
      "max_height": null,
      "max_width": null,
      "min_height": null,
      "min_width": null,
      "object_fit": null,
      "object_position": null,
      "order": null,
      "overflow": null,
      "overflow_x": null,
      "overflow_y": null,
      "padding": null,
      "right": null,
      "top": null,
      "visibility": null,
      "width": null
     }
    },
    "5cee158d3bc14f7aa30f26b182942e2d": {
     "model_module": "@jupyter-widgets/controls",
     "model_module_version": "1.5.0",
     "model_name": "DescriptionStyleModel",
     "state": {
      "_model_module": "@jupyter-widgets/controls",
      "_model_module_version": "1.5.0",
      "_model_name": "DescriptionStyleModel",
      "_view_count": null,
      "_view_module": "@jupyter-widgets/base",
      "_view_module_version": "1.2.0",
      "_view_name": "StyleView",
      "description_width": ""
     }
    },
    "61253b2ea4744c44bd201097fed52ef5": {
     "model_module": "@jupyter-widgets/controls",
     "model_module_version": "1.5.0",
     "model_name": "HTMLModel",
     "state": {
      "_dom_classes": [],
      "_model_module": "@jupyter-widgets/controls",
      "_model_module_version": "1.5.0",
      "_model_name": "HTMLModel",
      "_view_count": null,
      "_view_module": "@jupyter-widgets/controls",
      "_view_module_version": "1.5.0",
      "_view_name": "HTMLView",
      "description": "",
      "description_tooltip": null,
      "layout": "IPY_MODEL_89800bab0d93408293412419fc6937f1",
      "placeholder": "​",
      "style": "IPY_MODEL_9c33c69afeb548d8b8f35ecc1bac83f1",
      "value": " 150/150 [00:00&lt;00:00, 3.92kB/s]"
     }
    },
    "707ea2b6a31742c8b2153b31f2834ecb": {
     "model_module": "@jupyter-widgets/controls",
     "model_module_version": "1.5.0",
     "model_name": "ProgressStyleModel",
     "state": {
      "_model_module": "@jupyter-widgets/controls",
      "_model_module_version": "1.5.0",
      "_model_name": "ProgressStyleModel",
      "_view_count": null,
      "_view_module": "@jupyter-widgets/base",
      "_view_module_version": "1.2.0",
      "_view_name": "StyleView",
      "bar_color": null,
      "description_width": ""
     }
    },
    "710364f3e86246a89de6c7292d0de757": {
     "model_module": "@jupyter-widgets/controls",
     "model_module_version": "1.5.0",
     "model_name": "HTMLModel",
     "state": {
      "_dom_classes": [],
      "_model_module": "@jupyter-widgets/controls",
      "_model_module_version": "1.5.0",
      "_model_name": "HTMLModel",
      "_view_count": null,
      "_view_module": "@jupyter-widgets/controls",
      "_view_module_version": "1.5.0",
      "_view_name": "HTMLView",
      "description": "",
      "description_tooltip": null,
      "layout": "IPY_MODEL_ef0ec57a89e54bde894168154bf454db",
      "placeholder": "​",
      "style": "IPY_MODEL_1c6be7cb43704d45b73f0820957327a2",
      "value": " 334/334 [00:00&lt;00:00, 6.72kB/s]"
     }
    },
    "79384f897a644dd8a99cf434f7e7f693": {
     "model_module": "@jupyter-widgets/base",
     "model_module_version": "1.2.0",
     "model_name": "LayoutModel",
     "state": {
      "_model_module": "@jupyter-widgets/base",
      "_model_module_version": "1.2.0",
      "_model_name": "LayoutModel",
      "_view_count": null,
      "_view_module": "@jupyter-widgets/base",
      "_view_module_version": "1.2.0",
      "_view_name": "LayoutView",
      "align_content": null,
      "align_items": null,
      "align_self": null,
      "border": null,
      "bottom": null,
      "display": null,
      "flex": null,
      "flex_flow": null,
      "grid_area": null,
      "grid_auto_columns": null,
      "grid_auto_flow": null,
      "grid_auto_rows": null,
      "grid_column": null,
      "grid_gap": null,
      "grid_row": null,
      "grid_template_areas": null,
      "grid_template_columns": null,
      "grid_template_rows": null,
      "height": null,
      "justify_content": null,
      "justify_items": null,
      "left": null,
      "margin": null,
      "max_height": null,
      "max_width": null,
      "min_height": null,
      "min_width": null,
      "object_fit": null,
      "object_position": null,
      "order": null,
      "overflow": null,
      "overflow_x": null,
      "overflow_y": null,
      "padding": null,
      "right": null,
      "top": null,
      "visibility": null,
      "width": null
     }
    },
    "86af6c41527a49d186afe708eaecc678": {
     "model_module": "@jupyter-widgets/controls",
     "model_module_version": "1.5.0",
     "model_name": "HBoxModel",
     "state": {
      "_dom_classes": [],
      "_model_module": "@jupyter-widgets/controls",
      "_model_module_version": "1.5.0",
      "_model_name": "HBoxModel",
      "_view_count": null,
      "_view_module": "@jupyter-widgets/controls",
      "_view_module_version": "1.5.0",
      "_view_name": "HBoxView",
      "box_style": "",
      "children": [
       "IPY_MODEL_cf6258ca4f97487b9e038932764c8838",
       "IPY_MODEL_d54a98a5332c40f7bca76bd5aa2f7a34",
       "IPY_MODEL_710364f3e86246a89de6c7292d0de757"
      ],
      "layout": "IPY_MODEL_d38e2256929649128ee8261f4744e9bc"
     }
    },
    "87d79029ac674fab96f473b58f85b0ef": {
     "model_module": "@jupyter-widgets/controls",
     "model_module_version": "1.5.0",
     "model_name": "ProgressStyleModel",
     "state": {
      "_model_module": "@jupyter-widgets/controls",
      "_model_module_version": "1.5.0",
      "_model_name": "ProgressStyleModel",
      "_view_count": null,
      "_view_module": "@jupyter-widgets/base",
      "_view_module_version": "1.2.0",
      "_view_name": "StyleView",
      "bar_color": null,
      "description_width": ""
     }
    },
    "89800bab0d93408293412419fc6937f1": {
     "model_module": "@jupyter-widgets/base",
     "model_module_version": "1.2.0",
     "model_name": "LayoutModel",
     "state": {
      "_model_module": "@jupyter-widgets/base",
      "_model_module_version": "1.2.0",
      "_model_name": "LayoutModel",
      "_view_count": null,
      "_view_module": "@jupyter-widgets/base",
      "_view_module_version": "1.2.0",
      "_view_name": "LayoutView",
      "align_content": null,
      "align_items": null,
      "align_self": null,
      "border": null,
      "bottom": null,
      "display": null,
      "flex": null,
      "flex_flow": null,
      "grid_area": null,
      "grid_auto_columns": null,
      "grid_auto_flow": null,
      "grid_auto_rows": null,
      "grid_column": null,
      "grid_gap": null,
      "grid_row": null,
      "grid_template_areas": null,
      "grid_template_columns": null,
      "grid_template_rows": null,
      "height": null,
      "justify_content": null,
      "justify_items": null,
      "left": null,
      "margin": null,
      "max_height": null,
      "max_width": null,
      "min_height": null,
      "min_width": null,
      "object_fit": null,
      "object_position": null,
      "order": null,
      "overflow": null,
      "overflow_x": null,
      "overflow_y": null,
      "padding": null,
      "right": null,
      "top": null,
      "visibility": null,
      "width": null
     }
    },
    "8a322d90c5544a1a9fe7440688295ffc": {
     "model_module": "@jupyter-widgets/controls",
     "model_module_version": "1.5.0",
     "model_name": "ProgressStyleModel",
     "state": {
      "_model_module": "@jupyter-widgets/controls",
      "_model_module_version": "1.5.0",
      "_model_name": "ProgressStyleModel",
      "_view_count": null,
      "_view_module": "@jupyter-widgets/base",
      "_view_module_version": "1.2.0",
      "_view_name": "StyleView",
      "bar_color": null,
      "description_width": ""
     }
    },
    "90883ec988d64addaaa236ae3a03022f": {
     "model_module": "@jupyter-widgets/base",
     "model_module_version": "1.2.0",
     "model_name": "LayoutModel",
     "state": {
      "_model_module": "@jupyter-widgets/base",
      "_model_module_version": "1.2.0",
      "_model_name": "LayoutModel",
      "_view_count": null,
      "_view_module": "@jupyter-widgets/base",
      "_view_module_version": "1.2.0",
      "_view_name": "LayoutView",
      "align_content": null,
      "align_items": null,
      "align_self": null,
      "border": null,
      "bottom": null,
      "display": null,
      "flex": null,
      "flex_flow": null,
      "grid_area": null,
      "grid_auto_columns": null,
      "grid_auto_flow": null,
      "grid_auto_rows": null,
      "grid_column": null,
      "grid_gap": null,
      "grid_row": null,
      "grid_template_areas": null,
      "grid_template_columns": null,
      "grid_template_rows": null,
      "height": null,
      "justify_content": null,
      "justify_items": null,
      "left": null,
      "margin": null,
      "max_height": null,
      "max_width": null,
      "min_height": null,
      "min_width": null,
      "object_fit": null,
      "object_position": null,
      "order": null,
      "overflow": null,
      "overflow_x": null,
      "overflow_y": null,
      "padding": null,
      "right": null,
      "top": null,
      "visibility": null,
      "width": null
     }
    },
    "9c33c69afeb548d8b8f35ecc1bac83f1": {
     "model_module": "@jupyter-widgets/controls",
     "model_module_version": "1.5.0",
     "model_name": "DescriptionStyleModel",
     "state": {
      "_model_module": "@jupyter-widgets/controls",
      "_model_module_version": "1.5.0",
      "_model_name": "DescriptionStyleModel",
      "_view_count": null,
      "_view_module": "@jupyter-widgets/base",
      "_view_module_version": "1.2.0",
      "_view_name": "StyleView",
      "description_width": ""
     }
    },
    "9f5778eb9e3647edbd2f4773b32226b9": {
     "model_module": "@jupyter-widgets/controls",
     "model_module_version": "1.5.0",
     "model_name": "DescriptionStyleModel",
     "state": {
      "_model_module": "@jupyter-widgets/controls",
      "_model_module_version": "1.5.0",
      "_model_name": "DescriptionStyleModel",
      "_view_count": null,
      "_view_module": "@jupyter-widgets/base",
      "_view_module_version": "1.2.0",
      "_view_name": "StyleView",
      "description_width": ""
     }
    },
    "a43085af4a084539a5ce32166aa0838f": {
     "model_module": "@jupyter-widgets/controls",
     "model_module_version": "1.5.0",
     "model_name": "ProgressStyleModel",
     "state": {
      "_model_module": "@jupyter-widgets/controls",
      "_model_module_version": "1.5.0",
      "_model_name": "ProgressStyleModel",
      "_view_count": null,
      "_view_module": "@jupyter-widgets/base",
      "_view_module_version": "1.2.0",
      "_view_name": "StyleView",
      "bar_color": null,
      "description_width": ""
     }
    },
    "aa4d53117fb34aaaa793e9d2cb5db53b": {
     "model_module": "@jupyter-widgets/base",
     "model_module_version": "1.2.0",
     "model_name": "LayoutModel",
     "state": {
      "_model_module": "@jupyter-widgets/base",
      "_model_module_version": "1.2.0",
      "_model_name": "LayoutModel",
      "_view_count": null,
      "_view_module": "@jupyter-widgets/base",
      "_view_module_version": "1.2.0",
      "_view_name": "LayoutView",
      "align_content": null,
      "align_items": null,
      "align_self": null,
      "border": null,
      "bottom": null,
      "display": null,
      "flex": null,
      "flex_flow": null,
      "grid_area": null,
      "grid_auto_columns": null,
      "grid_auto_flow": null,
      "grid_auto_rows": null,
      "grid_column": null,
      "grid_gap": null,
      "grid_row": null,
      "grid_template_areas": null,
      "grid_template_columns": null,
      "grid_template_rows": null,
      "height": null,
      "justify_content": null,
      "justify_items": null,
      "left": null,
      "margin": null,
      "max_height": null,
      "max_width": null,
      "min_height": null,
      "min_width": null,
      "object_fit": null,
      "object_position": null,
      "order": null,
      "overflow": null,
      "overflow_x": null,
      "overflow_y": null,
      "padding": null,
      "right": null,
      "top": null,
      "visibility": null,
      "width": null
     }
    },
    "b51ef4dd65d842b784476016a41aa2aa": {
     "model_module": "@jupyter-widgets/controls",
     "model_module_version": "1.5.0",
     "model_name": "HTMLModel",
     "state": {
      "_dom_classes": [],
      "_model_module": "@jupyter-widgets/controls",
      "_model_module_version": "1.5.0",
      "_model_name": "HTMLModel",
      "_view_count": null,
      "_view_module": "@jupyter-widgets/controls",
      "_view_module_version": "1.5.0",
      "_view_name": "HTMLView",
      "description": "",
      "description_tooltip": null,
      "layout": "IPY_MODEL_f0a783aaaabf45bebc2227c6f12842cc",
      "placeholder": "​",
      "style": "IPY_MODEL_f624495fa162456d90a7a7c0364906c7",
      "value": "Downloading: 100%"
     }
    },
    "be52f107a2c747cf8c7ff2f6f0b3dae4": {
     "model_module": "@jupyter-widgets/base",
     "model_module_version": "1.2.0",
     "model_name": "LayoutModel",
     "state": {
      "_model_module": "@jupyter-widgets/base",
      "_model_module_version": "1.2.0",
      "_model_name": "LayoutModel",
      "_view_count": null,
      "_view_module": "@jupyter-widgets/base",
      "_view_module_version": "1.2.0",
      "_view_name": "LayoutView",
      "align_content": null,
      "align_items": null,
      "align_self": null,
      "border": null,
      "bottom": null,
      "display": null,
      "flex": null,
      "flex_flow": null,
      "grid_area": null,
      "grid_auto_columns": null,
      "grid_auto_flow": null,
      "grid_auto_rows": null,
      "grid_column": null,
      "grid_gap": null,
      "grid_row": null,
      "grid_template_areas": null,
      "grid_template_columns": null,
      "grid_template_rows": null,
      "height": null,
      "justify_content": null,
      "justify_items": null,
      "left": null,
      "margin": null,
      "max_height": null,
      "max_width": null,
      "min_height": null,
      "min_width": null,
      "object_fit": null,
      "object_position": null,
      "order": null,
      "overflow": null,
      "overflow_x": null,
      "overflow_y": null,
      "padding": null,
      "right": null,
      "top": null,
      "visibility": null,
      "width": null
     }
    },
    "c29cee75567b4e799bd74baebcae3cc7": {
     "model_module": "@jupyter-widgets/base",
     "model_module_version": "1.2.0",
     "model_name": "LayoutModel",
     "state": {
      "_model_module": "@jupyter-widgets/base",
      "_model_module_version": "1.2.0",
      "_model_name": "LayoutModel",
      "_view_count": null,
      "_view_module": "@jupyter-widgets/base",
      "_view_module_version": "1.2.0",
      "_view_name": "LayoutView",
      "align_content": null,
      "align_items": null,
      "align_self": null,
      "border": null,
      "bottom": null,
      "display": null,
      "flex": null,
      "flex_flow": null,
      "grid_area": null,
      "grid_auto_columns": null,
      "grid_auto_flow": null,
      "grid_auto_rows": null,
      "grid_column": null,
      "grid_gap": null,
      "grid_row": null,
      "grid_template_areas": null,
      "grid_template_columns": null,
      "grid_template_rows": null,
      "height": null,
      "justify_content": null,
      "justify_items": null,
      "left": null,
      "margin": null,
      "max_height": null,
      "max_width": null,
      "min_height": null,
      "min_width": null,
      "object_fit": null,
      "object_position": null,
      "order": null,
      "overflow": null,
      "overflow_x": null,
      "overflow_y": null,
      "padding": null,
      "right": null,
      "top": null,
      "visibility": null,
      "width": null
     }
    },
    "c3f564a1037c4728a3c4b470d0c5f11e": {
     "model_module": "@jupyter-widgets/base",
     "model_module_version": "1.2.0",
     "model_name": "LayoutModel",
     "state": {
      "_model_module": "@jupyter-widgets/base",
      "_model_module_version": "1.2.0",
      "_model_name": "LayoutModel",
      "_view_count": null,
      "_view_module": "@jupyter-widgets/base",
      "_view_module_version": "1.2.0",
      "_view_name": "LayoutView",
      "align_content": null,
      "align_items": null,
      "align_self": null,
      "border": null,
      "bottom": null,
      "display": null,
      "flex": null,
      "flex_flow": null,
      "grid_area": null,
      "grid_auto_columns": null,
      "grid_auto_flow": null,
      "grid_auto_rows": null,
      "grid_column": null,
      "grid_gap": null,
      "grid_row": null,
      "grid_template_areas": null,
      "grid_template_columns": null,
      "grid_template_rows": null,
      "height": null,
      "justify_content": null,
      "justify_items": null,
      "left": null,
      "margin": null,
      "max_height": null,
      "max_width": null,
      "min_height": null,
      "min_width": null,
      "object_fit": null,
      "object_position": null,
      "order": null,
      "overflow": null,
      "overflow_x": null,
      "overflow_y": null,
      "padding": null,
      "right": null,
      "top": null,
      "visibility": null,
      "width": null
     }
    },
    "cf6258ca4f97487b9e038932764c8838": {
     "model_module": "@jupyter-widgets/controls",
     "model_module_version": "1.5.0",
     "model_name": "HTMLModel",
     "state": {
      "_dom_classes": [],
      "_model_module": "@jupyter-widgets/controls",
      "_model_module_version": "1.5.0",
      "_model_name": "HTMLModel",
      "_view_count": null,
      "_view_module": "@jupyter-widgets/controls",
      "_view_module_version": "1.5.0",
      "_view_name": "HTMLView",
      "description": "",
      "description_tooltip": null,
      "layout": "IPY_MODEL_4a6f696eab5e4fdeabe03259009b8d89",
      "placeholder": "​",
      "style": "IPY_MODEL_43d55824213d49089881be1a8c29f4c0",
      "value": "Downloading: 100%"
     }
    },
    "d38e2256929649128ee8261f4744e9bc": {
     "model_module": "@jupyter-widgets/base",
     "model_module_version": "1.2.0",
     "model_name": "LayoutModel",
     "state": {
      "_model_module": "@jupyter-widgets/base",
      "_model_module_version": "1.2.0",
      "_model_name": "LayoutModel",
      "_view_count": null,
      "_view_module": "@jupyter-widgets/base",
      "_view_module_version": "1.2.0",
      "_view_name": "LayoutView",
      "align_content": null,
      "align_items": null,
      "align_self": null,
      "border": null,
      "bottom": null,
      "display": null,
      "flex": null,
      "flex_flow": null,
      "grid_area": null,
      "grid_auto_columns": null,
      "grid_auto_flow": null,
      "grid_auto_rows": null,
      "grid_column": null,
      "grid_gap": null,
      "grid_row": null,
      "grid_template_areas": null,
      "grid_template_columns": null,
      "grid_template_rows": null,
      "height": null,
      "justify_content": null,
      "justify_items": null,
      "left": null,
      "margin": null,
      "max_height": null,
      "max_width": null,
      "min_height": null,
      "min_width": null,
      "object_fit": null,
      "object_position": null,
      "order": null,
      "overflow": null,
      "overflow_x": null,
      "overflow_y": null,
      "padding": null,
      "right": null,
      "top": null,
      "visibility": null,
      "width": null
     }
    },
    "d54a98a5332c40f7bca76bd5aa2f7a34": {
     "model_module": "@jupyter-widgets/controls",
     "model_module_version": "1.5.0",
     "model_name": "FloatProgressModel",
     "state": {
      "_dom_classes": [],
      "_model_module": "@jupyter-widgets/controls",
      "_model_module_version": "1.5.0",
      "_model_name": "FloatProgressModel",
      "_view_count": null,
      "_view_module": "@jupyter-widgets/controls",
      "_view_module_version": "1.5.0",
      "_view_name": "ProgressView",
      "bar_style": "success",
      "description": "",
      "description_tooltip": null,
      "layout": "IPY_MODEL_1e3862e4f4e249a4ac63ed44e6fa8989",
      "max": 334,
      "min": 0,
      "orientation": "horizontal",
      "style": "IPY_MODEL_707ea2b6a31742c8b2153b31f2834ecb",
      "value": 334
     }
    },
    "d9cf5ac7010242349377dd56e21fd5ec": {
     "model_module": "@jupyter-widgets/controls",
     "model_module_version": "1.5.0",
     "model_name": "FloatProgressModel",
     "state": {
      "_dom_classes": [],
      "_model_module": "@jupyter-widgets/controls",
      "_model_module_version": "1.5.0",
      "_model_name": "FloatProgressModel",
      "_view_count": null,
      "_view_module": "@jupyter-widgets/controls",
      "_view_module_version": "1.5.0",
      "_view_name": "ProgressView",
      "bar_style": "success",
      "description": "",
      "description_tooltip": null,
      "layout": "IPY_MODEL_be52f107a2c747cf8c7ff2f6f0b3dae4",
      "max": 858415,
      "min": 0,
      "orientation": "horizontal",
      "style": "IPY_MODEL_87d79029ac674fab96f473b58f85b0ef",
      "value": 858415
     }
    },
    "db883acf1cbf41838aba7f1fe86da646": {
     "model_module": "@jupyter-widgets/controls",
     "model_module_version": "1.5.0",
     "model_name": "HTMLModel",
     "state": {
      "_dom_classes": [],
      "_model_module": "@jupyter-widgets/controls",
      "_model_module_version": "1.5.0",
      "_model_name": "HTMLModel",
      "_view_count": null,
      "_view_module": "@jupyter-widgets/controls",
      "_view_module_version": "1.5.0",
      "_view_name": "HTMLView",
      "description": "",
      "description_tooltip": null,
      "layout": "IPY_MODEL_79384f897a644dd8a99cf434f7e7f693",
      "placeholder": "​",
      "style": "IPY_MODEL_9f5778eb9e3647edbd2f4773b32226b9",
      "value": " 838k/838k [00:00&lt;00:00, 1.12MB/s]"
     }
    },
    "e094ba200afb41a1a355b83e56ea1e9c": {
     "model_module": "@jupyter-widgets/base",
     "model_module_version": "1.2.0",
     "model_name": "LayoutModel",
     "state": {
      "_model_module": "@jupyter-widgets/base",
      "_model_module_version": "1.2.0",
      "_model_name": "LayoutModel",
      "_view_count": null,
      "_view_module": "@jupyter-widgets/base",
      "_view_module_version": "1.2.0",
      "_view_name": "LayoutView",
      "align_content": null,
      "align_items": null,
      "align_self": null,
      "border": null,
      "bottom": null,
      "display": null,
      "flex": null,
      "flex_flow": null,
      "grid_area": null,
      "grid_auto_columns": null,
      "grid_auto_flow": null,
      "grid_auto_rows": null,
      "grid_column": null,
      "grid_gap": null,
      "grid_row": null,
      "grid_template_areas": null,
      "grid_template_columns": null,
      "grid_template_rows": null,
      "height": null,
      "justify_content": null,
      "justify_items": null,
      "left": null,
      "margin": null,
      "max_height": null,
      "max_width": null,
      "min_height": null,
      "min_width": null,
      "object_fit": null,
      "object_position": null,
      "order": null,
      "overflow": null,
      "overflow_x": null,
      "overflow_y": null,
      "padding": null,
      "right": null,
      "top": null,
      "visibility": null,
      "width": null
     }
    },
    "e2a145c584be42fc88bac0a56aeec67b": {
     "model_module": "@jupyter-widgets/base",
     "model_module_version": "1.2.0",
     "model_name": "LayoutModel",
     "state": {
      "_model_module": "@jupyter-widgets/base",
      "_model_module_version": "1.2.0",
      "_model_name": "LayoutModel",
      "_view_count": null,
      "_view_module": "@jupyter-widgets/base",
      "_view_module_version": "1.2.0",
      "_view_name": "LayoutView",
      "align_content": null,
      "align_items": null,
      "align_self": null,
      "border": null,
      "bottom": null,
      "display": null,
      "flex": null,
      "flex_flow": null,
      "grid_area": null,
      "grid_auto_columns": null,
      "grid_auto_flow": null,
      "grid_auto_rows": null,
      "grid_column": null,
      "grid_gap": null,
      "grid_row": null,
      "grid_template_areas": null,
      "grid_template_columns": null,
      "grid_template_rows": null,
      "height": null,
      "justify_content": null,
      "justify_items": null,
      "left": null,
      "margin": null,
      "max_height": null,
      "max_width": null,
      "min_height": null,
      "min_width": null,
      "object_fit": null,
      "object_position": null,
      "order": null,
      "overflow": null,
      "overflow_x": null,
      "overflow_y": null,
      "padding": null,
      "right": null,
      "top": null,
      "visibility": null,
      "width": null
     }
    },
    "ef0ec57a89e54bde894168154bf454db": {
     "model_module": "@jupyter-widgets/base",
     "model_module_version": "1.2.0",
     "model_name": "LayoutModel",
     "state": {
      "_model_module": "@jupyter-widgets/base",
      "_model_module_version": "1.2.0",
      "_model_name": "LayoutModel",
      "_view_count": null,
      "_view_module": "@jupyter-widgets/base",
      "_view_module_version": "1.2.0",
      "_view_name": "LayoutView",
      "align_content": null,
      "align_items": null,
      "align_self": null,
      "border": null,
      "bottom": null,
      "display": null,
      "flex": null,
      "flex_flow": null,
      "grid_area": null,
      "grid_auto_columns": null,
      "grid_auto_flow": null,
      "grid_auto_rows": null,
      "grid_column": null,
      "grid_gap": null,
      "grid_row": null,
      "grid_template_areas": null,
      "grid_template_columns": null,
      "grid_template_rows": null,
      "height": null,
      "justify_content": null,
      "justify_items": null,
      "left": null,
      "margin": null,
      "max_height": null,
      "max_width": null,
      "min_height": null,
      "min_width": null,
      "object_fit": null,
      "object_position": null,
      "order": null,
      "overflow": null,
      "overflow_x": null,
      "overflow_y": null,
      "padding": null,
      "right": null,
      "top": null,
      "visibility": null,
      "width": null
     }
    },
    "ef2b5e68407240cd8d6077fabbec773b": {
     "model_module": "@jupyter-widgets/controls",
     "model_module_version": "1.5.0",
     "model_name": "HTMLModel",
     "state": {
      "_dom_classes": [],
      "_model_module": "@jupyter-widgets/controls",
      "_model_module_version": "1.5.0",
      "_model_name": "HTMLModel",
      "_view_count": null,
      "_view_module": "@jupyter-widgets/controls",
      "_view_module_version": "1.5.0",
      "_view_name": "HTMLView",
      "description": "",
      "description_tooltip": null,
      "layout": "IPY_MODEL_1c1503c5b01349aea40f243186e8a119",
      "placeholder": "​",
      "style": "IPY_MODEL_2da511cb9bed4f5b96e5c614e4effa7f",
      "value": " 956/956 [00:00&lt;00:00, 13.6kB/s]"
     }
    },
    "f0a783aaaabf45bebc2227c6f12842cc": {
     "model_module": "@jupyter-widgets/base",
     "model_module_version": "1.2.0",
     "model_name": "LayoutModel",
     "state": {
      "_model_module": "@jupyter-widgets/base",
      "_model_module_version": "1.2.0",
      "_model_name": "LayoutModel",
      "_view_count": null,
      "_view_module": "@jupyter-widgets/base",
      "_view_module_version": "1.2.0",
      "_view_name": "LayoutView",
      "align_content": null,
      "align_items": null,
      "align_self": null,
      "border": null,
      "bottom": null,
      "display": null,
      "flex": null,
      "flex_flow": null,
      "grid_area": null,
      "grid_auto_columns": null,
      "grid_auto_flow": null,
      "grid_auto_rows": null,
      "grid_column": null,
      "grid_gap": null,
      "grid_row": null,
      "grid_template_areas": null,
      "grid_template_columns": null,
      "grid_template_rows": null,
      "height": null,
      "justify_content": null,
      "justify_items": null,
      "left": null,
      "margin": null,
      "max_height": null,
      "max_width": null,
      "min_height": null,
      "min_width": null,
      "object_fit": null,
      "object_position": null,
      "order": null,
      "overflow": null,
      "overflow_x": null,
      "overflow_y": null,
      "padding": null,
      "right": null,
      "top": null,
      "visibility": null,
      "width": null
     }
    },
    "f3d72b4b136549e99d133169e6042798": {
     "model_module": "@jupyter-widgets/controls",
     "model_module_version": "1.5.0",
     "model_name": "HTMLModel",
     "state": {
      "_dom_classes": [],
      "_model_module": "@jupyter-widgets/controls",
      "_model_module_version": "1.5.0",
      "_model_name": "HTMLModel",
      "_view_count": null,
      "_view_module": "@jupyter-widgets/controls",
      "_view_module_version": "1.5.0",
      "_view_name": "HTMLView",
      "description": "",
      "description_tooltip": null,
      "layout": "IPY_MODEL_aa4d53117fb34aaaa793e9d2cb5db53b",
      "placeholder": "​",
      "style": "IPY_MODEL_11b83e18f0dc40c7a9d2fcedd795c9f1",
      "value": "Downloading: 100%"
     }
    },
    "f46dc71ec67244ec8b96604b7dc700a6": {
     "model_module": "@jupyter-widgets/controls",
     "model_module_version": "1.5.0",
     "model_name": "FloatProgressModel",
     "state": {
      "_dom_classes": [],
      "_model_module": "@jupyter-widgets/controls",
      "_model_module_version": "1.5.0",
      "_model_name": "FloatProgressModel",
      "_view_count": null,
      "_view_module": "@jupyter-widgets/controls",
      "_view_module_version": "1.5.0",
      "_view_name": "ProgressView",
      "bar_style": "success",
      "description": "",
      "description_tooltip": null,
      "layout": "IPY_MODEL_f7a546919d3749db874f280009baa95f",
      "max": 956,
      "min": 0,
      "orientation": "horizontal",
      "style": "IPY_MODEL_a43085af4a084539a5ce32166aa0838f",
      "value": 956
     }
    },
    "f624495fa162456d90a7a7c0364906c7": {
     "model_module": "@jupyter-widgets/controls",
     "model_module_version": "1.5.0",
     "model_name": "DescriptionStyleModel",
     "state": {
      "_model_module": "@jupyter-widgets/controls",
      "_model_module_version": "1.5.0",
      "_model_name": "DescriptionStyleModel",
      "_view_count": null,
      "_view_module": "@jupyter-widgets/base",
      "_view_module_version": "1.2.0",
      "_view_name": "StyleView",
      "description_width": ""
     }
    },
    "f7a546919d3749db874f280009baa95f": {
     "model_module": "@jupyter-widgets/base",
     "model_module_version": "1.2.0",
     "model_name": "LayoutModel",
     "state": {
      "_model_module": "@jupyter-widgets/base",
      "_model_module_version": "1.2.0",
      "_model_name": "LayoutModel",
      "_view_count": null,
      "_view_module": "@jupyter-widgets/base",
      "_view_module_version": "1.2.0",
      "_view_name": "LayoutView",
      "align_content": null,
      "align_items": null,
      "align_self": null,
      "border": null,
      "bottom": null,
      "display": null,
      "flex": null,
      "flex_flow": null,
      "grid_area": null,
      "grid_auto_columns": null,
      "grid_auto_flow": null,
      "grid_auto_rows": null,
      "grid_column": null,
      "grid_gap": null,
      "grid_row": null,
      "grid_template_areas": null,
      "grid_template_columns": null,
      "grid_template_rows": null,
      "height": null,
      "justify_content": null,
      "justify_items": null,
      "left": null,
      "margin": null,
      "max_height": null,
      "max_width": null,
      "min_height": null,
      "min_width": null,
      "object_fit": null,
      "object_position": null,
      "order": null,
      "overflow": null,
      "overflow_x": null,
      "overflow_y": null,
      "padding": null,
      "right": null,
      "top": null,
      "visibility": null,
      "width": null
     }
    },
    "f7e6eca23dd44083b12aca805ded00af": {
     "model_module": "@jupyter-widgets/base",
     "model_module_version": "1.2.0",
     "model_name": "LayoutModel",
     "state": {
      "_model_module": "@jupyter-widgets/base",
      "_model_module_version": "1.2.0",
      "_model_name": "LayoutModel",
      "_view_count": null,
      "_view_module": "@jupyter-widgets/base",
      "_view_module_version": "1.2.0",
      "_view_name": "LayoutView",
      "align_content": null,
      "align_items": null,
      "align_self": null,
      "border": null,
      "bottom": null,
      "display": null,
      "flex": null,
      "flex_flow": null,
      "grid_area": null,
      "grid_auto_columns": null,
      "grid_auto_flow": null,
      "grid_auto_rows": null,
      "grid_column": null,
      "grid_gap": null,
      "grid_row": null,
      "grid_template_areas": null,
      "grid_template_columns": null,
      "grid_template_rows": null,
      "height": null,
      "justify_content": null,
      "justify_items": null,
      "left": null,
      "margin": null,
      "max_height": null,
      "max_width": null,
      "min_height": null,
      "min_width": null,
      "object_fit": null,
      "object_position": null,
      "order": null,
      "overflow": null,
      "overflow_x": null,
      "overflow_y": null,
      "padding": null,
      "right": null,
      "top": null,
      "visibility": null,
      "width": null
     }
    },
    "f96f3cfe6291493aa2dab1874a2590c0": {
     "model_module": "@jupyter-widgets/controls",
     "model_module_version": "1.5.0",
     "model_name": "DescriptionStyleModel",
     "state": {
      "_model_module": "@jupyter-widgets/controls",
      "_model_module_version": "1.5.0",
      "_model_name": "DescriptionStyleModel",
      "_view_count": null,
      "_view_module": "@jupyter-widgets/base",
      "_view_module_version": "1.2.0",
      "_view_name": "StyleView",
      "description_width": ""
     }
    }
   }
  }
 },
 "nbformat": 4,
 "nbformat_minor": 5
}
