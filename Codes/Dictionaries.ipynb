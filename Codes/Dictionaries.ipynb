{
  "cells": [
    {
      "cell_type": "code",
      "execution_count": 2,
      "id": "b3e2054e",
      "metadata": {
        "id": "b3e2054e"
      },
      "outputs": [],
      "source": [
        "chilean_dictionaries={'Violence & Human Rights':[\"policia\",\"carabinero\",\"violencia\",\"humanos\",\"protesta\",\"detención\",\"desaparecido\",\"paco\",\"quemar\",\"fuego\",\"barricada\",\"INDH\", \"represion\", \"lacrimogeno\",\n",
        "                                                 \"perdigones\", \"ojo\", \"ciego\", \"mutilado\"],\n",
        "                     'Social Issues':['pensión','AFP','vejez','salud','fonasa','consultorio','hospital','clínica','isapre','dignidad','educación','profesor','liceo','universidad','gratuita',\n",
        "                                      'sociales','vivienda','campamentos', 'delincuencia'],\n",
        "                     'Corruption':['corrupción','soborno','vendido','nepotismo','deshonesto','ladrón','robar','mentir'],\n",
        "                     'Protest Starter':['metro','tren','pasaje','transporte','evadir','evasión','micro','transantiago','Hutt','alza','tarifa'] }"
      ]
    },
    {
      "cell_type": "code",
      "source": [
        "colombian_dictionaries={'Violence & Human Rights':[\"policia\",\"esmad\",\"violencia\",\"humanos\",\"protesta\",\"detención\",\"desaparecido\",\"victima\",\"pistola\",\"bomba\",\"gases\",\"lacrimogeno\", \"represion\", \"manifestacion\", \n",
        "                                                   \"violacion\", \"lesion\", \"sangre\", \"motin\", \"proyectiles\", \"tanqueta\", \"orden\", \"perdigones\", \"ojo\", \"ciego\", \"piedra\", \"antidisturbio\", \"disturbio\",\n",
        "                                                   \"arma\", \"trauma\", \"fuerza\"],\n",
        "                        'Social Issues':['pension','narcotrafico','vejez','salud','drogas','paramilitares','paraco','guerrilla','farc','educacion','pobreza','educacion', 'publica', \n",
        "                                         'gratuita','sociales','vivienda','desigualdad', 'venezolanos', 'venezuela', 'conflicto', 'reclutamiento', 'desigualdad', 'alimentos', 'desempleo', \n",
        "                                         'delincuencia', 'crimen', 'bandas', 'terrorismo', 'robos', 'atracos', 'discriminacion', 'ilegal', 'populismo', 'transporte', 'trancon', 'movilidad'],\n",
        "                        \n",
        "                        'Corruption':['corrupcion', 'parapolitica','vendido','deshonesto','ladrón','robar','mentir', 'recursos', 'contraloria', 'fiscalia', 'presupuesto', 'politicos', 'ratas', \n",
        "                                      'elecciones', 'escandalo', 'odebrecht', 'contratacion', 'mermelada', 'votos', 'sic', 'procuraduria', 'ñeñepolitica', 'carrusel', 'dinero'],\n",
        "                        \n",
        "                        'Protest Starter':[\"reforma\", \"impuestos\", \"pobreza\", \"canasta\", \"precio\", \"carrasquilla\", \"ipc\", \"estrato\",  \"tributaria\", \"solaridad\", \"sostenible\", \"ley\", \n",
        "                                           \"desempleo\", \"clase\", \"recaudo\", \"deuda\", \"renta\", \"iva\", \"servicios\", \"patrimonio\", \"finanzas\", \"inversion\", \"exenciones\", \"economia\", \"ahorro\", \n",
        "                                            \"recursos\"] }"
      ],
      "metadata": {
        "id": "4KBYvmE9GNzG"
      },
      "id": "4KBYvmE9GNzG",
      "execution_count": 1,
      "outputs": []
    }
  ],
  "metadata": {
    "kernelspec": {
      "display_name": "Python 3",
      "language": "python",
      "name": "python3"
    },
    "language_info": {
      "codemirror_mode": {
        "name": "ipython",
        "version": 3
      },
      "file_extension": ".py",
      "mimetype": "text/x-python",
      "name": "python",
      "nbconvert_exporter": "python",
      "pygments_lexer": "ipython3",
      "version": "3.8.8"
    },
    "colab": {
      "name": "Dictionaries.ipynb",
      "provenance": [],
      "collapsed_sections": []
    }
  },
  "nbformat": 4,
  "nbformat_minor": 5
}