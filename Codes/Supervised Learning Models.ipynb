{
 "cells": [
  {
   "cell_type": "markdown",
   "id": "47fa342a",
   "metadata": {},
   "source": [
    "# Preprocessing Tweets"
   ]
  },
  {
   "cell_type": "code",
   "execution_count": 1,
   "id": "61de28f5",
   "metadata": {
    "ExecuteTime": {
     "end_time": "2022-03-17T10:53:33.139808Z",
     "start_time": "2022-03-17T10:53:33.120861Z"
    }
   },
   "outputs": [],
   "source": [
    "import nltk\n",
    "import numpy as np\n",
    "import pandas as pd\n",
    "import re\n",
    "import emoji\n",
    "import datasets\n",
    "from datasets import Dataset\n",
    "from nltk.corpus import stopwords\n",
    "from nltk.stem import SnowballStemmer   \n",
    "from nltk.stem.wordnet import WordNetLemmatizer\n",
    "import warnings\n",
    "warnings.filterwarnings('ignore')\n",
    "from tensorflow.keras.optimizers import Adam\n",
    "from tensorflow.keras.optimizers.schedules import PolynomialDecay\n",
    "import tensorflow as tf\n",
    "from sklearn.metrics import plot_confusion_matrix\n",
    "from sklearn.metrics import confusion_matrix\n",
    "from sklearn.metrics import ConfusionMatrixDisplay\n",
    "from tensorflow.keras.losses import SparseCategoricalCrossentropy\n",
    "from sklearn.model_selection import train_test_split\n",
    "from sklearn import metrics\n",
    "from transformers import AutoTokenizer, AutoConfig, DataCollatorWithPadding\n",
    "from transformers import TFAutoModelForSequenceClassification\n",
    "import pandarallel\n",
    "from pandarallel import pandarallel\n",
    "import seaborn as sns\n",
    "from sklearn.feature_extraction.text import TfidfTransformer, CountVectorizer, TfidfVectorizer\n",
    "from sklearn.metrics import accuracy_score,recall_score,precision_score,f1_score, confusion_matrix\n",
    "from xgboost import XGBClassifier\n",
    "from sklearn.ensemble import RandomForestClassifier\n",
    "from sklearn.metrics import roc_curve, auc\n",
    "from nltk.probability import FreqDist\n",
    "from sklearn.model_selection import GridSearchCV\n",
    "from sklearn.naive_bayes import MultinomialNB\n",
    "from sklearn.ensemble import AdaBoostClassifier\n",
    "from sklearn.linear_model import LogisticRegression\n",
    "import matplotlib.pyplot as plt\n",
    "from sklearn.svm import SVC\n",
    "from sklearn.preprocessing import StandardScaler\n",
    "%matplotlib inline\n",
    "import pickle\n"
   ]
  },
  {
   "cell_type": "code",
   "execution_count": 2,
   "id": "285dbf2f",
   "metadata": {
    "ExecuteTime": {
     "end_time": "2022-03-17T10:53:43.475095Z",
     "start_time": "2022-03-17T10:53:43.453404Z"
    }
   },
   "outputs": [],
   "source": [
    "stopwords_eng =stopwords.words(\"english\")\n",
    "stopwords_es =stopwords.words(\"spanish\")\n",
    "stopwords=stopwords_eng+stopwords_es\n",
    "stopwords_total=stopwords_eng+stopwords_es\n",
    "\n",
    "def cleanTweets(s):\n",
    "    #Function to clean tweets, for now i am keeping emojis and hashtags. Alternative version\n",
    "    if type(s)==np.float:\n",
    "        return \"\"\n",
    "    #Demojize text\n",
    "    s=emoji.demojize(s,delimiters=(\"\", \" \"))\n",
    "    \n",
    "    #Remove new lines, etc.\n",
    "    s = s.replace(r'<lb>', \"\\n\")\n",
    "    s = s.replace(r'<tab>', \"\\i\")\n",
    "    s = re.sub(r'<br */*>', \"\\n\", s)\n",
    "    s = s.replace(\"&lt;\", \"<\").replace(\"&gt;\", \">\").replace(\"&amp;\", \"&\")\n",
    "    s = s.replace(\"&amp;\", \"&\")\n",
    "    s = s.replace(\"\\n\", \" \")\n",
    "    \n",
    "    # markdown urls\n",
    "    s = re.sub(r'\\(https*://[^\\)]*\\)', \"\", s)\n",
    "    # normal urls\n",
    "    s = re.sub(r'https*://[^\\s]*', \"\", s)\n",
    "    #s = re.sub(r'_+', ' ', s)\n",
    "    s = re.sub(r'\"+', '\"', s)\n",
    "    #Remove punctuation    \n",
    "    s = re.sub('[()!?]', ' ', s)\n",
    "    s = re.sub('\\[.*?\\]',' ', s)\n",
    "    # custom removals\n",
    "    s = re.sub(r'@[A-Za-z0-9_]+', \"@usermention\", s) # replace mentions\n",
    "    #s = re.sub(r':[^:]+','[emoji]',s) # remove demojized text\n",
    "    \n",
    "    #Split multiword hashtags into individual words - they could contain spin\n",
    "    #s = re.sub(r'#(\\w+)', rep, s) # split hashtags\n",
    "    \n",
    "    s=s.lower()\n",
    "    \n",
    "    #Remove stopwords\n",
    "    s=s.split()\n",
    "    s= [w for w in s if not w in stopwords_total]\n",
    "    \n",
    "    \n",
    "    s=\" \".join(word for word in s)\n",
    "    \n",
    "    return str(s)\n",
    "\n",
    "\n",
    "stemmer_eng=SnowballStemmer(\"english\")\n",
    "stemmer_es=SnowballStemmer(\"spanish\")\n",
    "lem = WordNetLemmatizer()\n",
    "\n",
    "def stem_lematize(s, modulation):\n",
    "    tokens = re.split(r'\\W+', s)\n",
    "    stems = []\n",
    "    for token in tokens:\n",
    "        if modulation==1:\n",
    "            eng=stemmer_es.stem(token)\n",
    "            stems.append(stemmer_es.stem(eng))\n",
    "        if modulation==2:\n",
    "            stems.append(lem.lemmatize(token))\n",
    "        if modulation==0:\n",
    "            stems.append(tokens)\n",
    "    s=\" \".join(word for word in s)\n",
    "    return s\n",
    "\n",
    "\n",
    "# Compute different evaluation metrics \n",
    "def evaluation_metrics(outcome, prediction):\n",
    "    print('Accuracy Score : ' + str(accuracy_score(outcome,prediction)))\n",
    "    #print('Precision Score : ' + str(precision_score(outcome,prediction)))\n",
    "    print('Recall Score : ' + str(recall_score(outcome,prediction)))\n",
    "    print('F1 Score : ' + str(f1_score(outcome,prediction)))\n",
    "    fpr, tpr, thresholds = metrics.roc_curve(np.array(outcome), prediction)\n",
    "    print('AUC  :    ' + str(metrics.auc(fpr, tpr)))"
   ]
  },
  {
   "cell_type": "code",
   "execution_count": 3,
   "id": "7884c8a8",
   "metadata": {},
   "outputs": [],
   "source": [
    "#Read-In Corpus\n",
    "corpus_data=pd.read_csv(\"all_tweets_filtered.csv\")"
   ]
  },
  {
   "cell_type": "code",
   "execution_count": 4,
   "id": "1fca1cdc",
   "metadata": {},
   "outputs": [
    {
     "data": {
      "text/plain": [
       "Index(['Unnamed: 0', 'Unnamed: 0.1', 'id', 'author_id', 'created_at', 'text',\n",
       "       'public_metrics.like_count', 'public_metrics.quote_count',\n",
       "       'public_metrics.reply_count', 'public_metrics.retweet_count',\n",
       "       'author.username', 'Country', 'Categorie', 'Time', 'Left/Right',\n",
       "       'author.entities.description.hashtags',\n",
       "       'author.public_metrics.following_count', 'in_reply_to_user_id',\n",
       "       'retweeted_user_id', 'quoted_user_id', 'author.name',\n",
       "       'author.description', 'possibly_sensitive'],\n",
       "      dtype='object')"
      ]
     },
     "execution_count": 4,
     "metadata": {},
     "output_type": "execute_result"
    }
   ],
   "source": [
    "corpus_data.columns"
   ]
  },
  {
   "cell_type": "markdown",
   "id": "a3e62f9b",
   "metadata": {},
   "source": [
    "# Chile"
   ]
  },
  {
   "cell_type": "code",
   "execution_count": 5,
   "id": "da1e538a",
   "metadata": {},
   "outputs": [],
   "source": [
    "def df_filter(df, country, time):\n",
    "    # Filter data for politicians (all periods)\n",
    "    df_pol = df[(df[\"Country\"]==country) & (df[\"Categorie\"]==\"Politician\")]\n",
    "    \n",
    "    # Filter data for celebrities\n",
    "    df_cel = df[(df[\"Country\"]==country) & (df[\"Time\"]==time) &\n",
    "                                             (df[\"Categorie\"]==\"Celebrity\")]\n",
    "    \n",
    "    return df_pol, df_cel\n",
    "\n",
    "# Obtaining data before and during for politicians and before for celebrities\n",
    "corpus_pol, corpus_cel = df_filter(corpus_data, \"Chile\", \"Before\")"
   ]
  },
  {
   "cell_type": "code",
   "execution_count": 6,
   "id": "f7d82a5a",
   "metadata": {},
   "outputs": [
    {
     "data": {
      "text/plain": [
       "(33673, 23)"
      ]
     },
     "execution_count": 6,
     "metadata": {},
     "output_type": "execute_result"
    }
   ],
   "source": [
    "corpus_pol.shape"
   ]
  },
  {
   "cell_type": "code",
   "execution_count": 7,
   "id": "58a52642",
   "metadata": {},
   "outputs": [
    {
     "data": {
      "text/plain": [
       "(102940, 23)"
      ]
     },
     "execution_count": 7,
     "metadata": {},
     "output_type": "execute_result"
    }
   ],
   "source": [
    "corpus_cel.shape"
   ]
  },
  {
   "cell_type": "code",
   "execution_count": 8,
   "id": "17c20c10",
   "metadata": {},
   "outputs": [],
   "source": [
    "# Cleaning tweets\n",
    "corpus_pol['cleaned_text'] = [cleanTweets(text) for text in corpus_pol['text']]\n",
    "corpus_cel['cleaned_text'] = [cleanTweets(text) for text in corpus_cel['text']]"
   ]
  },
  {
   "cell_type": "code",
   "execution_count": 9,
   "id": "a4e99adb",
   "metadata": {},
   "outputs": [],
   "source": [
    "del corpus_data"
   ]
  },
  {
   "cell_type": "markdown",
   "id": "c176b999",
   "metadata": {},
   "source": [
    "#### First approach - Group text by user"
   ]
  },
  {
   "cell_type": "code",
   "execution_count": 10,
   "id": "0206d082",
   "metadata": {},
   "outputs": [
    {
     "data": {
      "text/html": [
       "<div>\n",
       "<style scoped>\n",
       "    .dataframe tbody tr th:only-of-type {\n",
       "        vertical-align: middle;\n",
       "    }\n",
       "\n",
       "    .dataframe tbody tr th {\n",
       "        vertical-align: top;\n",
       "    }\n",
       "\n",
       "    .dataframe thead th {\n",
       "        text-align: right;\n",
       "    }\n",
       "</style>\n",
       "<table border=\"1\" class=\"dataframe\">\n",
       "  <thead>\n",
       "    <tr style=\"text-align: right;\">\n",
       "      <th></th>\n",
       "      <th>author.username</th>\n",
       "      <th>cleaned_text</th>\n",
       "    </tr>\n",
       "  </thead>\n",
       "  <tbody>\n",
       "    <tr>\n",
       "      <th>0</th>\n",
       "      <td>abernales</td>\n",
       "      <td>recomiendo ver hilo capo @usermention aclara m...</td>\n",
       "    </tr>\n",
       "    <tr>\n",
       "      <th>1</th>\n",
       "      <td>abernales</td>\n",
       "      <td>mala noticia, acuerdo permitirá abrir espacio ...</td>\n",
       "    </tr>\n",
       "    <tr>\n",
       "      <th>2</th>\n",
       "      <td>abernales</td>\n",
       "      <td>mayoría q hoy critican heroicamente -en mundo ...</td>\n",
       "    </tr>\n",
       "    <tr>\n",
       "      <th>3</th>\n",
       "      <td>abernales</td>\n",
       "      <td>abel debe ser aclarado ahora máxima autoridad ...</td>\n",
       "    </tr>\n",
       "    <tr>\n",
       "      <th>4</th>\n",
       "      <td>abernales</td>\n",
       "      <td>#felizsábado olvidemos semana avance histórico...</td>\n",
       "    </tr>\n",
       "    <tr>\n",
       "      <th>...</th>\n",
       "      <td>...</td>\n",
       "      <td>...</td>\n",
       "    </tr>\n",
       "    <tr>\n",
       "      <th>33668</th>\n",
       "      <td>vtroncosoh</td>\n",
       "      <td></td>\n",
       "    </tr>\n",
       "    <tr>\n",
       "      <th>33669</th>\n",
       "      <td>vtroncosoh</td>\n",
       "      <td></td>\n",
       "    </tr>\n",
       "    <tr>\n",
       "      <th>33670</th>\n",
       "      <td>vtroncosoh</td>\n",
       "      <td>contenta haber asistido hoy tedeum católico pa...</td>\n",
       "    </tr>\n",
       "    <tr>\n",
       "      <th>33671</th>\n",
       "      <td>vtroncosoh</td>\n",
       "      <td>feliz 18 viva chile chile</td>\n",
       "    </tr>\n",
       "    <tr>\n",
       "      <th>33672</th>\n",
       "      <td>vtroncosoh</td>\n",
       "      <td>#hoy inauguración fondas querido #sanvicente d...</td>\n",
       "    </tr>\n",
       "  </tbody>\n",
       "</table>\n",
       "<p>33673 rows × 2 columns</p>\n",
       "</div>"
      ],
      "text/plain": [
       "      author.username                                       cleaned_text\n",
       "0           abernales  recomiendo ver hilo capo @usermention aclara m...\n",
       "1           abernales  mala noticia, acuerdo permitirá abrir espacio ...\n",
       "2           abernales  mayoría q hoy critican heroicamente -en mundo ...\n",
       "3           abernales  abel debe ser aclarado ahora máxima autoridad ...\n",
       "4           abernales  #felizsábado olvidemos semana avance histórico...\n",
       "...               ...                                                ...\n",
       "33668      vtroncosoh                                                   \n",
       "33669      vtroncosoh                                                   \n",
       "33670      vtroncosoh  contenta haber asistido hoy tedeum católico pa...\n",
       "33671      vtroncosoh                          feliz 18 viva chile chile\n",
       "33672      vtroncosoh  #hoy inauguración fondas querido #sanvicente d...\n",
       "\n",
       "[33673 rows x 2 columns]"
      ]
     },
     "execution_count": 10,
     "metadata": {},
     "output_type": "execute_result"
    }
   ],
   "source": [
    "corpus_pol[[\"author.username\", \"cleaned_text\"]]"
   ]
  },
  {
   "cell_type": "code",
   "execution_count": 11,
   "id": "83ca714c",
   "metadata": {},
   "outputs": [],
   "source": [
    "corpus_pol = pd.concat([corpus_pol[[\"author.username\", \"Left/Right\"]], \n",
    "                        corpus_pol[[\"author.username\", \"cleaned_text\"]].groupby([\"author.username\"], as_index=False)[\"cleaned_text\"].transform(lambda x: ' '.join(x))], axis=1)"
   ]
  },
  {
   "cell_type": "code",
   "execution_count": 12,
   "id": "8e58a57d",
   "metadata": {},
   "outputs": [],
   "source": [
    "# Drop duplicates and drop na\n",
    "corpus_pol = corpus_pol.drop_duplicates().dropna()"
   ]
  },
  {
   "cell_type": "code",
   "execution_count": 13,
   "id": "8bf68b62",
   "metadata": {},
   "outputs": [
    {
     "data": {
      "text/html": [
       "<div>\n",
       "<style scoped>\n",
       "    .dataframe tbody tr th:only-of-type {\n",
       "        vertical-align: middle;\n",
       "    }\n",
       "\n",
       "    .dataframe tbody tr th {\n",
       "        vertical-align: top;\n",
       "    }\n",
       "\n",
       "    .dataframe thead th {\n",
       "        text-align: right;\n",
       "    }\n",
       "</style>\n",
       "<table border=\"1\" class=\"dataframe\">\n",
       "  <thead>\n",
       "    <tr style=\"text-align: right;\">\n",
       "      <th></th>\n",
       "      <th>author.username</th>\n",
       "      <th>Left/Right</th>\n",
       "      <th>cleaned_text</th>\n",
       "    </tr>\n",
       "  </thead>\n",
       "  <tbody>\n",
       "    <tr>\n",
       "      <th>0</th>\n",
       "      <td>abernales</td>\n",
       "      <td>Left</td>\n",
       "      <td>recomiendo ver hilo capo @usermention aclara m...</td>\n",
       "    </tr>\n",
       "    <tr>\n",
       "      <th>154</th>\n",
       "      <td>alinco_rene</td>\n",
       "      <td>Left</td>\n",
       "      <td>diputado @usermention pide renuncia mesa suspe...</td>\n",
       "    </tr>\n",
       "    <tr>\n",
       "      <th>182</th>\n",
       "      <td>Alvaro_CarterF</td>\n",
       "      <td>Right</td>\n",
       "      <td>natural personas diferencias. pensar distinto ...</td>\n",
       "    </tr>\n",
       "    <tr>\n",
       "      <th>221</th>\n",
       "      <td>andreaparras</td>\n",
       "      <td>Left</td>\n",
       "      <td>@usermention verdaderamente irresponsable decl...</td>\n",
       "    </tr>\n",
       "    <tr>\n",
       "      <th>307</th>\n",
       "      <td>ANDRESCELISM</td>\n",
       "      <td>Right</td>\n",
       "      <td>presidente @usermention destinará $2.600 millo...</td>\n",
       "    </tr>\n",
       "    <tr>\n",
       "      <th>...</th>\n",
       "      <td>...</td>\n",
       "      <td>...</td>\n",
       "      <td>...</td>\n",
       "    </tr>\n",
       "    <tr>\n",
       "      <th>32623</th>\n",
       "      <td>urrutiaosvaldo</td>\n",
       "      <td>Right</td>\n",
       "      <td>#incendio #emergencia acá dejo recomendaciones...</td>\n",
       "    </tr>\n",
       "    <tr>\n",
       "      <th>32680</th>\n",
       "      <td>UrrutiaporChile</td>\n",
       "      <td>Right</td>\n",
       "      <td>destrucción\\nno violencia\\nno mentiras\\nno.\\n\\...</td>\n",
       "    </tr>\n",
       "    <tr>\n",
       "      <th>32685</th>\n",
       "      <td>vanrysselberghe</td>\n",
       "      <td>Right</td>\n",
       "      <td>#concepcion / excelente reunión vía multiconfe...</td>\n",
       "    </tr>\n",
       "    <tr>\n",
       "      <th>32990</th>\n",
       "      <td>vladomirosevic</td>\n",
       "      <td>Left</td>\n",
       "      <td>tipo actitudes declaraciones terminan quebrand...</td>\n",
       "    </tr>\n",
       "    <tr>\n",
       "      <th>33623</th>\n",
       "      <td>vtroncosoh</td>\n",
       "      <td>Right</td>\n",
       "      <td>#hoy viernes continuamos votación ley #presupu...</td>\n",
       "    </tr>\n",
       "  </tbody>\n",
       "</table>\n",
       "<p>122 rows × 3 columns</p>\n",
       "</div>"
      ],
      "text/plain": [
       "       author.username Left/Right  \\\n",
       "0            abernales       Left   \n",
       "154        alinco_rene       Left   \n",
       "182     Alvaro_CarterF      Right   \n",
       "221       andreaparras       Left   \n",
       "307       ANDRESCELISM      Right   \n",
       "...                ...        ...   \n",
       "32623   urrutiaosvaldo      Right   \n",
       "32680  UrrutiaporChile      Right   \n",
       "32685  vanrysselberghe      Right   \n",
       "32990   vladomirosevic       Left   \n",
       "33623       vtroncosoh      Right   \n",
       "\n",
       "                                            cleaned_text  \n",
       "0      recomiendo ver hilo capo @usermention aclara m...  \n",
       "154    diputado @usermention pide renuncia mesa suspe...  \n",
       "182    natural personas diferencias. pensar distinto ...  \n",
       "221    @usermention verdaderamente irresponsable decl...  \n",
       "307    presidente @usermention destinará $2.600 millo...  \n",
       "...                                                  ...  \n",
       "32623  #incendio #emergencia acá dejo recomendaciones...  \n",
       "32680  destrucción\\nno violencia\\nno mentiras\\nno.\\n\\...  \n",
       "32685  #concepcion / excelente reunión vía multiconfe...  \n",
       "32990  tipo actitudes declaraciones terminan quebrand...  \n",
       "33623  #hoy viernes continuamos votación ley #presupu...  \n",
       "\n",
       "[122 rows x 3 columns]"
      ]
     },
     "execution_count": 13,
     "metadata": {},
     "output_type": "execute_result"
    }
   ],
   "source": [
    "corpus_pol"
   ]
  },
  {
   "cell_type": "code",
   "execution_count": 14,
   "id": "d63a62c8",
   "metadata": {},
   "outputs": [
    {
     "data": {
      "text/plain": [
       "Left     65\n",
       "Right    57\n",
       "Name: Left/Right, dtype: int64"
      ]
     },
     "execution_count": 14,
     "metadata": {},
     "output_type": "execute_result"
    }
   ],
   "source": [
    "corpus_pol[\"Left/Right\"].value_counts()"
   ]
  },
  {
   "cell_type": "code",
   "execution_count": 15,
   "id": "8194b429",
   "metadata": {},
   "outputs": [],
   "source": [
    "# Define dummy variable for left/right\n",
    "corpus_pol[\"label\"] = [1 if branch==\"Right\" else 0  for branch in corpus_pol[\"Left/Right\"]]"
   ]
  },
  {
   "cell_type": "code",
   "execution_count": 16,
   "id": "0bd69a61",
   "metadata": {},
   "outputs": [
    {
     "data": {
      "text/plain": [
       "0    65\n",
       "1    57\n",
       "Name: label, dtype: int64"
      ]
     },
     "execution_count": 16,
     "metadata": {},
     "output_type": "execute_result"
    }
   ],
   "source": [
    "corpus_pol[\"label\"].value_counts()"
   ]
  },
  {
   "cell_type": "markdown",
   "id": "9ad079f0",
   "metadata": {},
   "source": [
    "### Supervised Learning for predicting Left/Right"
   ]
  },
  {
   "cell_type": "code",
   "execution_count": 17,
   "id": "9366d927",
   "metadata": {},
   "outputs": [],
   "source": [
    "# Double check in the tokenization process\n",
    "def token(text):\n",
    "    txt = nltk.word_tokenize(text.lower())\n",
    "    return [stemmer_es.stem(word) for word in txt]"
   ]
  },
  {
   "cell_type": "code",
   "execution_count": 18,
   "id": "4042dd5c",
   "metadata": {},
   "outputs": [
    {
     "data": {
      "text/plain": [
       "((97, 4), (25, 4))"
      ]
     },
     "execution_count": 18,
     "metadata": {},
     "output_type": "execute_result"
    }
   ],
   "source": [
    "train, test = train_test_split(corpus_pol, test_size=0.2, train_size=0.8, random_state=14)\n",
    "train.shape, test.shape"
   ]
  },
  {
   "cell_type": "code",
   "execution_count": 19,
   "id": "25a5183f",
   "metadata": {},
   "outputs": [],
   "source": [
    "# Models to be tested\n",
    "models = [\n",
    "          XGBClassifier(random_state=41, n_estimators=100, max_depth=3, learning_rate=0.1, eval_metric=\"error\", gamma=3, min_child_weight=6), # Extreme Gradient Boosting\n",
    "          LogisticRegression(), # Logistic Regression \n",
    "          MultinomialNB(alpha = 0.1, fit_prior = True), # Naive Bayes\n",
    "          SVC(C=3), # Support Vector Machine\n",
    "          AdaBoostClassifier(n_estimators = 100, random_state=41), # AdaBoost\n",
    "          RandomForestClassifier(n_estimators=100, max_depth=3)  \n",
    "          ]\n",
    "\n",
    "names = [\"Extreme Gradient Boosting\", \"Logistic Regression\", \"Naive Bayes\", \n",
    "         \"Support Vector Machine\", \"AdaBoost\", \"Random Forest\"]\n",
    "\n",
    "\n",
    "# Function for testing model performance\n",
    "def models_performance(train, test, cv_tfidf, models):\n",
    "    \n",
    "    # Seed set\n",
    "    SEED = 41\n",
    "    \n",
    "    # Select vectorizer  \n",
    "    if cv_tfidf == \"cv\":   # Use CountVectorizer\n",
    "        vect = CountVectorizer(lowercase=True, \n",
    "                     tokenizer=token, stop_words=stopwords_total,\n",
    "                     analyzer=u'word', min_df=4)\n",
    "        \n",
    "    elif cv_tfidf == \"tfidf\":  #  Use TF-IDF vectorizer\n",
    "        vect = TfidfVectorizer(stop_words = stopwords_total,\n",
    "                     lowercase=True, binary = True)\n",
    "    \n",
    "    # Create document term matrix for training and testing set\n",
    "    vec_train = vect.fit_transform(train['cleaned_text'].tolist())\n",
    "    vec_test = vect.transform(test['cleaned_text'].tolist())\n",
    "    \n",
    "    \n",
    "    # Initialize last score (this is just to obtain at the end the best model)\n",
    "    last_score = 0\n",
    "    \n",
    "    # auc scores all models\n",
    "    all_models_auc = {}\n",
    "    \n",
    "    # Train and test each model\n",
    "    for i, model in enumerate(models):\n",
    "        \n",
    "        try:\n",
    "            # Train the model\n",
    "            model.fit(X = vec_train, y = train['label'])\n",
    "\n",
    "            # Predict for test set\n",
    "            y_pred=model.predict(vec_test)\n",
    "\n",
    "            # Model evaluation metrics in test set \n",
    "            print(\"Evaluation metrics for \" + names[i])\n",
    "            evaluation_metrics(np.array(test['label']), y_pred)  \n",
    "            print(\" \")\n",
    "            print(\" \")\n",
    "\n",
    "            # Compute auc score\n",
    "            auc_score = metrics.roc_auc_score(y_pred, test['label'])\n",
    "            all_models_auc[names[i]] = auc_score\n",
    "\n",
    "\n",
    "            if auc_score > last_score:\n",
    "                best_model = {\"Name\": names[i],\n",
    "                              \"Model\": model,\n",
    "                              \"AUC Score\": auc_score,\n",
    "                              \"Predictions\": y_pred}\n",
    "            # Now last score will be the score of the current model in the loop    \n",
    "            last_score = auc_score\n",
    "        except ValueError:\n",
    "            print(names[i] + \": no possible to compute AUC-Score, all predicted classes equal \\n\")\n",
    "            \n",
    "    return best_model, all_models_auc"
   ]
  },
  {
   "cell_type": "code",
   "execution_count": 20,
   "id": "18985c21",
   "metadata": {
    "scrolled": false
   },
   "outputs": [
    {
     "name": "stdout",
     "output_type": "stream",
     "text": [
      "Evaluation metrics for Extreme Gradient Boosting\n",
      "Accuracy Score : 0.8\n",
      "Recall Score : 0.9\n",
      "F1 Score : 0.7826086956521738\n",
      "AUC  :    0.8166666666666667\n",
      " \n",
      " \n",
      "Evaluation metrics for Logistic Regression\n",
      "Accuracy Score : 0.88\n",
      "Recall Score : 1.0\n",
      "F1 Score : 0.8695652173913044\n",
      "AUC  :    0.9\n",
      " \n",
      " \n",
      "Evaluation metrics for Naive Bayes\n",
      "Accuracy Score : 0.92\n",
      "Recall Score : 0.9\n",
      "F1 Score : 0.9\n",
      "AUC  :    0.9166666666666666\n",
      " \n",
      " \n",
      "Evaluation metrics for Support Vector Machine\n",
      "Accuracy Score : 0.56\n",
      "Recall Score : 0.7\n",
      "F1 Score : 0.56\n",
      "AUC  :    0.5833333333333333\n",
      " \n",
      " \n",
      "Evaluation metrics for AdaBoost\n",
      "Accuracy Score : 0.96\n",
      "Recall Score : 1.0\n",
      "F1 Score : 0.9523809523809523\n",
      "AUC  :    0.9666666666666667\n",
      " \n",
      " \n",
      "Evaluation metrics for Random Forest\n",
      "Accuracy Score : 0.72\n",
      "Recall Score : 0.8\n",
      "F1 Score : 0.6956521739130435\n",
      "AUC  :    0.7333333333333334\n",
      " \n",
      " \n"
     ]
    }
   ],
   "source": [
    "# Models performance \n",
    "best_model, all_models_auc = models_performance(train, test, \"cv\", models)"
   ]
  },
  {
   "cell_type": "code",
   "execution_count": 21,
   "id": "93eede68",
   "metadata": {},
   "outputs": [
    {
     "data": {
      "text/plain": [
       "{'Extreme Gradient Boosting': 0.8044871794871794,\n",
       " 'Logistic Regression': 0.8846153846153846,\n",
       " 'Naive Bayes': 0.9166666666666666,\n",
       " 'Support Vector Machine': 0.5833333333333333,\n",
       " 'AdaBoost': 0.9545454545454546,\n",
       " 'Random Forest': 0.7243589743589745}"
      ]
     },
     "execution_count": 21,
     "metadata": {},
     "output_type": "execute_result"
    }
   ],
   "source": [
    "all_models_auc"
   ]
  },
  {
   "cell_type": "code",
   "execution_count": 22,
   "id": "806c1348",
   "metadata": {
    "scrolled": false
   },
   "outputs": [
    {
     "data": {
      "image/png": "[encoded data removed]",
      "text/plain": [
       "<Figure size 1008x432 with 1 Axes>"
      ]
     },
     "metadata": {},
     "output_type": "display_data"
    }
   ],
   "source": [
    "import seaborn as sns\n",
    "sns.set_theme(style=\"whitegrid\", palette=\"colorblind\")\n",
    "Y_pos = np.arange(len(names))\n",
    "Y_val = list(all_models_auc.values())\n",
    "plt.figure(figsize=(14, 6))\n",
    "sns.barplot(Y_pos,Y_val, alpha=0.7)\n",
    "plt.xticks(Y_pos, names)\n",
    "plt.ylabel('AUC Score')\n",
    "plt.title('Accuracy of Models')\n",
    "plt.show()"
   ]
  },
  {
   "cell_type": "code",
   "execution_count": 23,
   "id": "1b44aa03",
   "metadata": {},
   "outputs": [
    {
     "data": {
      "text/plain": [
       "{'Name': 'AdaBoost',\n",
       " 'Model': AdaBoostClassifier(n_estimators=100, random_state=41),\n",
       " 'AUC Score': 0.9545454545454546,\n",
       " 'Predictions': array([1, 0, 0, 0, 0, 0, 0, 1, 1, 1, 0, 0, 1, 0, 1, 0, 0, 0, 1, 1, 1, 0,\n",
       "        1, 0, 1], dtype=int64)}"
      ]
     },
     "execution_count": 23,
     "metadata": {},
     "output_type": "execute_result"
    }
   ],
   "source": [
    "# This is the best model\n",
    "best_model"
   ]
  },
  {
   "cell_type": "code",
   "execution_count": 24,
   "id": "8112d331",
   "metadata": {},
   "outputs": [
    {
     "data": {
      "text/plain": [
       "<sklearn.metrics._plot.confusion_matrix.ConfusionMatrixDisplay at 0x21e49555190>"
      ]
     },
     "execution_count": 24,
     "metadata": {},
     "output_type": "execute_result"
    },
    {
     "data": {
      "image/png": "[encoded data removed]",
      "text/plain": [
       "<Figure size 432x288 with 2 Axes>"
      ]
     },
     "metadata": {},
     "output_type": "display_data"
    }
   ],
   "source": [
    "# Confussion matrix for best model\n",
    "cm = confusion_matrix(test['label'], best_model[\"Predictions\"], labels=best_model[\"Model\"].classes_)\n",
    "disp = ConfusionMatrixDisplay(confusion_matrix=cm, display_labels=best_model[\"Model\"].classes_)\n",
    "disp.plot()"
   ]
  },
  {
   "cell_type": "code",
   "execution_count": 25,
   "id": "951ad8ef",
   "metadata": {},
   "outputs": [],
   "source": [
    "# save the model to disk\n",
    "pickle.dump(best_model[\"Model\"], open(\"BestModelChile.sav\", 'wb'))"
   ]
  },
  {
   "cell_type": "markdown",
   "id": "3694cae1",
   "metadata": {},
   "source": [
    "# Colombia"
   ]
  },
  {
   "cell_type": "code",
   "execution_count": 26,
   "id": "a062a1eb",
   "metadata": {},
   "outputs": [],
   "source": [
    "#Read-In Corpus\n",
    "corpus_data=pd.read_csv(\"all_tweets_filtered.csv\")"
   ]
  },
  {
   "cell_type": "code",
   "execution_count": 27,
   "id": "ee29c941",
   "metadata": {},
   "outputs": [],
   "source": [
    "# Obtaining data before and during for politicians and before for celebrities\n",
    "\n",
    "# Note that the argument time is only for celebrities \n",
    "corpus_pol, corpus_cel = df_filter(corpus_data, country=\"Colombia\", time=\"Before\")"
   ]
  },
  {
   "cell_type": "code",
   "execution_count": 28,
   "id": "b5692e5b",
   "metadata": {},
   "outputs": [],
   "source": [
    "# Cleaning tweets\n",
    "corpus_pol['cleaned_text'] = [cleanTweets(text) for text in corpus_pol['text']]\n",
    "corpus_cel['cleaned_text'] = [cleanTweets(text) for text in corpus_cel['text']]"
   ]
  },
  {
   "cell_type": "code",
   "execution_count": 29,
   "id": "fbb0195d",
   "metadata": {},
   "outputs": [],
   "source": [
    "del corpus_data"
   ]
  },
  {
   "cell_type": "markdown",
   "id": "2f8ba9f4",
   "metadata": {},
   "source": [
    "#### First approach - Group text by user"
   ]
  },
  {
   "cell_type": "code",
   "execution_count": 30,
   "id": "1b82d083",
   "metadata": {},
   "outputs": [
    {
     "data": {
      "text/html": [
       "<div>\n",
       "<style scoped>\n",
       "    .dataframe tbody tr th:only-of-type {\n",
       "        vertical-align: middle;\n",
       "    }\n",
       "\n",
       "    .dataframe tbody tr th {\n",
       "        vertical-align: top;\n",
       "    }\n",
       "\n",
       "    .dataframe thead th {\n",
       "        text-align: right;\n",
       "    }\n",
       "</style>\n",
       "<table border=\"1\" class=\"dataframe\">\n",
       "  <thead>\n",
       "    <tr style=\"text-align: right;\">\n",
       "      <th></th>\n",
       "      <th>author.username</th>\n",
       "      <th>cleaned_text</th>\n",
       "    </tr>\n",
       "  </thead>\n",
       "  <tbody>\n",
       "    <tr>\n",
       "      <th>555795</th>\n",
       "      <td>IvanDuque</td>\n",
       "      <td>pilares pacto juventud empleo propósito claro ...</td>\n",
       "    </tr>\n",
       "    <tr>\n",
       "      <th>555796</th>\n",
       "      <td>IvanDuque</td>\n",
       "      <td>participamos conversatorio organizado presiden...</td>\n",
       "    </tr>\n",
       "    <tr>\n",
       "      <th>555797</th>\n",
       "      <td>IvanDuque</td>\n",
       "      <td>#lacforum rendimos homenaje secretario general...</td>\n",
       "    </tr>\n",
       "    <tr>\n",
       "      <th>555798</th>\n",
       "      <td>IvanDuque</td>\n",
       "      <td>sabemos grandes retos crecimiento económico re...</td>\n",
       "    </tr>\n",
       "    <tr>\n",
       "      <th>555799</th>\n",
       "      <td>IvanDuque</td>\n",
       "      <td>#lacforum destacamos colombia avanza vacunació...</td>\n",
       "    </tr>\n",
       "    <tr>\n",
       "      <th>...</th>\n",
       "      <td>...</td>\n",
       "      <td>...</td>\n",
       "    </tr>\n",
       "    <tr>\n",
       "      <th>982738</th>\n",
       "      <td>pedrohflorez</td>\n",
       "      <td>alternancia educativa brinda niños jóvenes pos...</td>\n",
       "    </tr>\n",
       "    <tr>\n",
       "      <th>982739</th>\n",
       "      <td>pedrohflorez</td>\n",
       "      <td>#prosperidadparatodos \\n#biencomún \\nbackhand_...</td>\n",
       "    </tr>\n",
       "    <tr>\n",
       "      <th>982740</th>\n",
       "      <td>pedrohflorez</td>\n",
       "      <td>razones vivir cada día máximo plenitud, única ...</td>\n",
       "    </tr>\n",
       "    <tr>\n",
       "      <th>982741</th>\n",
       "      <td>pedrohflorez</td>\n",
       "      <td>aquí nuevamente siempre primer día...</td>\n",
       "    </tr>\n",
       "    <tr>\n",
       "      <th>982742</th>\n",
       "      <td>pedrohflorez</td>\n",
       "      <td>pesar preocupante situación atravesamos nuevo ...</td>\n",
       "    </tr>\n",
       "  </tbody>\n",
       "</table>\n",
       "<p>52585 rows × 2 columns</p>\n",
       "</div>"
      ],
      "text/plain": [
       "       author.username                                       cleaned_text\n",
       "555795       IvanDuque  pilares pacto juventud empleo propósito claro ...\n",
       "555796       IvanDuque  participamos conversatorio organizado presiden...\n",
       "555797       IvanDuque  #lacforum rendimos homenaje secretario general...\n",
       "555798       IvanDuque  sabemos grandes retos crecimiento económico re...\n",
       "555799       IvanDuque  #lacforum destacamos colombia avanza vacunació...\n",
       "...                ...                                                ...\n",
       "982738    pedrohflorez  alternancia educativa brinda niños jóvenes pos...\n",
       "982739    pedrohflorez  #prosperidadparatodos \\n#biencomún \\nbackhand_...\n",
       "982740    pedrohflorez  razones vivir cada día máximo plenitud, única ...\n",
       "982741    pedrohflorez              aquí nuevamente siempre primer día...\n",
       "982742    pedrohflorez  pesar preocupante situación atravesamos nuevo ...\n",
       "\n",
       "[52585 rows x 2 columns]"
      ]
     },
     "execution_count": 30,
     "metadata": {},
     "output_type": "execute_result"
    }
   ],
   "source": [
    "corpus_pol[[\"author.username\", \"cleaned_text\"]]"
   ]
  },
  {
   "cell_type": "code",
   "execution_count": 31,
   "id": "fe831fb9",
   "metadata": {},
   "outputs": [],
   "source": [
    "corpus_pol = pd.concat([corpus_pol[[\"author.username\", \"Left/Right\"]], \n",
    "                        corpus_pol[[\"author.username\", \"cleaned_text\"]].groupby([\"author.username\"], as_index=False)[\"cleaned_text\"].transform(lambda x: ' '.join(x))], axis=1)"
   ]
  },
  {
   "cell_type": "code",
   "execution_count": 32,
   "id": "2255eb18",
   "metadata": {},
   "outputs": [],
   "source": [
    "# Drop duplicates and drop na\n",
    "corpus_pol = corpus_pol.drop_duplicates().dropna()"
   ]
  },
  {
   "cell_type": "code",
   "execution_count": 33,
   "id": "6fcba801",
   "metadata": {},
   "outputs": [
    {
     "data": {
      "text/html": [
       "<div>\n",
       "<style scoped>\n",
       "    .dataframe tbody tr th:only-of-type {\n",
       "        vertical-align: middle;\n",
       "    }\n",
       "\n",
       "    .dataframe tbody tr th {\n",
       "        vertical-align: top;\n",
       "    }\n",
       "\n",
       "    .dataframe thead th {\n",
       "        text-align: right;\n",
       "    }\n",
       "</style>\n",
       "<table border=\"1\" class=\"dataframe\">\n",
       "  <thead>\n",
       "    <tr style=\"text-align: right;\">\n",
       "      <th></th>\n",
       "      <th>author.username</th>\n",
       "      <th>Left/Right</th>\n",
       "      <th>cleaned_text</th>\n",
       "    </tr>\n",
       "  </thead>\n",
       "  <tbody>\n",
       "    <tr>\n",
       "      <th>555795</th>\n",
       "      <td>IvanDuque</td>\n",
       "      <td>Right</td>\n",
       "      <td>pilares pacto juventud empleo propósito claro ...</td>\n",
       "    </tr>\n",
       "    <tr>\n",
       "      <th>556195</th>\n",
       "      <td>petrogustavo</td>\n",
       "      <td>Left</td>\n",
       "      <td>aquí lista senadores votaron moción censura ro...</td>\n",
       "    </tr>\n",
       "    <tr>\n",
       "      <th>556986</th>\n",
       "      <td>ClaudiaLopez</td>\n",
       "      <td>Left</td>\n",
       "      <td>esquema reapertura consideramos necesario fren...</td>\n",
       "    </tr>\n",
       "    <tr>\n",
       "      <th>557740</th>\n",
       "      <td>JuanManSantos</td>\n",
       "      <td>Left</td>\n",
       "      <td>lamentamos fallecimiento john jairo ocampo, am...</td>\n",
       "    </tr>\n",
       "    <tr>\n",
       "      <th>557756</th>\n",
       "      <td>AlvaroUribeVel</td>\n",
       "      <td>Right</td>\n",
       "      <td>puedo decir pierdan #elcontrol hoy hoy @userme...</td>\n",
       "    </tr>\n",
       "    <tr>\n",
       "      <th>...</th>\n",
       "      <td>...</td>\n",
       "      <td>...</td>\n",
       "      <td>...</td>\n",
       "    </tr>\n",
       "    <tr>\n",
       "      <th>980614</th>\n",
       "      <td>ISAZULETA</td>\n",
       "      <td>Left</td>\n",
       "      <td>capitulo leído casi propia historia vida miles...</td>\n",
       "    </tr>\n",
       "    <tr>\n",
       "      <th>981386</th>\n",
       "      <td>AlexFlorezH</td>\n",
       "      <td>Left</td>\n",
       "      <td>través redes, alejandro vásquez solicitó apoyo...</td>\n",
       "    </tr>\n",
       "    <tr>\n",
       "      <th>982080</th>\n",
       "      <td>EsmeHernandezSi</td>\n",
       "      <td>Left</td>\n",
       "      <td>piden listado senadores votaron moción censura...</td>\n",
       "    </tr>\n",
       "    <tr>\n",
       "      <th>982142</th>\n",
       "      <td>intiasprilla</td>\n",
       "      <td>Left</td>\n",
       "      <td>#usme recogiendo información sucedió anoche #e...</td>\n",
       "    </tr>\n",
       "    <tr>\n",
       "      <th>982738</th>\n",
       "      <td>pedrohflorez</td>\n",
       "      <td>Left</td>\n",
       "      <td>alternancia educativa brinda niños jóvenes pos...</td>\n",
       "    </tr>\n",
       "  </tbody>\n",
       "</table>\n",
       "<p>111 rows × 3 columns</p>\n",
       "</div>"
      ],
      "text/plain": [
       "        author.username Left/Right  \\\n",
       "555795        IvanDuque      Right   \n",
       "556195     petrogustavo       Left   \n",
       "556986     ClaudiaLopez       Left   \n",
       "557740    JuanManSantos       Left   \n",
       "557756   AlvaroUribeVel      Right   \n",
       "...                 ...        ...   \n",
       "980614        ISAZULETA       Left   \n",
       "981386      AlexFlorezH       Left   \n",
       "982080  EsmeHernandezSi       Left   \n",
       "982142     intiasprilla       Left   \n",
       "982738     pedrohflorez       Left   \n",
       "\n",
       "                                             cleaned_text  \n",
       "555795  pilares pacto juventud empleo propósito claro ...  \n",
       "556195  aquí lista senadores votaron moción censura ro...  \n",
       "556986  esquema reapertura consideramos necesario fren...  \n",
       "557740  lamentamos fallecimiento john jairo ocampo, am...  \n",
       "557756  puedo decir pierdan #elcontrol hoy hoy @userme...  \n",
       "...                                                   ...  \n",
       "980614  capitulo leído casi propia historia vida miles...  \n",
       "981386  través redes, alejandro vásquez solicitó apoyo...  \n",
       "982080  piden listado senadores votaron moción censura...  \n",
       "982142  #usme recogiendo información sucedió anoche #e...  \n",
       "982738  alternancia educativa brinda niños jóvenes pos...  \n",
       "\n",
       "[111 rows x 3 columns]"
      ]
     },
     "execution_count": 33,
     "metadata": {},
     "output_type": "execute_result"
    }
   ],
   "source": [
    "corpus_pol"
   ]
  },
  {
   "cell_type": "code",
   "execution_count": 34,
   "id": "eeb7039d",
   "metadata": {},
   "outputs": [
    {
     "data": {
      "text/plain": [
       "Left     57\n",
       "Right    54\n",
       "Name: Left/Right, dtype: int64"
      ]
     },
     "execution_count": 34,
     "metadata": {},
     "output_type": "execute_result"
    }
   ],
   "source": [
    "corpus_pol[\"Left/Right\"].value_counts()"
   ]
  },
  {
   "cell_type": "code",
   "execution_count": 35,
   "id": "9a75d4fa",
   "metadata": {},
   "outputs": [],
   "source": [
    "# Define dummy variable for left/right\n",
    "corpus_pol[\"label\"] = [1 if branch==\"Right\" else 0  for branch in corpus_pol[\"Left/Right\"]]"
   ]
  },
  {
   "cell_type": "code",
   "execution_count": 36,
   "id": "23fa530b",
   "metadata": {},
   "outputs": [
    {
     "data": {
      "text/plain": [
       "0    57\n",
       "1    54\n",
       "Name: label, dtype: int64"
      ]
     },
     "execution_count": 36,
     "metadata": {},
     "output_type": "execute_result"
    }
   ],
   "source": [
    "corpus_pol[\"label\"].value_counts()"
   ]
  },
  {
   "cell_type": "code",
   "execution_count": 37,
   "id": "2bc833c1",
   "metadata": {},
   "outputs": [
    {
     "data": {
      "text/plain": [
       "((77, 4), (34, 4))"
      ]
     },
     "execution_count": 37,
     "metadata": {},
     "output_type": "execute_result"
    }
   ],
   "source": [
    "# Create train, test set\n",
    "train, test = train_test_split(corpus_pol, test_size=0.3, train_size=0.7, random_state=14)\n",
    "train.shape, test.shape"
   ]
  },
  {
   "cell_type": "code",
   "execution_count": 38,
   "id": "62722b8e",
   "metadata": {},
   "outputs": [
    {
     "name": "stdout",
     "output_type": "stream",
     "text": [
      "Evaluation metrics for Extreme Gradient Boosting\n",
      "Accuracy Score : 0.7941176470588235\n",
      "Recall Score : 0.9333333333333333\n",
      "F1 Score : 0.8\n",
      "AUC  :    0.8087719298245615\n",
      " \n",
      " \n",
      "Evaluation metrics for Logistic Regression\n",
      "Accuracy Score : 0.7058823529411765\n",
      "Recall Score : 0.8666666666666667\n",
      "F1 Score : 0.7222222222222222\n",
      "AUC  :    0.7228070175438597\n",
      " \n",
      " \n",
      "Evaluation metrics for Naive Bayes\n",
      "Accuracy Score : 0.8823529411764706\n",
      "Recall Score : 1.0\n",
      "F1 Score : 0.8823529411764706\n",
      "AUC  :    0.8947368421052632\n",
      " \n",
      " \n",
      "Evaluation metrics for Support Vector Machine\n",
      "Accuracy Score : 0.6470588235294118\n",
      "Recall Score : 1.0\n",
      "F1 Score : 0.7142857142857143\n",
      "AUC  :    0.6842105263157895\n",
      " \n",
      " \n",
      "Evaluation metrics for AdaBoost\n",
      "Accuracy Score : 0.7352941176470589\n",
      "Recall Score : 0.6666666666666666\n",
      "F1 Score : 0.689655172413793\n",
      "AUC  :    0.7280701754385964\n",
      " \n",
      " \n",
      "Evaluation metrics for Random Forest\n",
      "Accuracy Score : 0.6764705882352942\n",
      "Recall Score : 1.0\n",
      "F1 Score : 0.7317073170731707\n",
      "AUC  :    0.7105263157894737\n",
      " \n",
      " \n"
     ]
    }
   ],
   "source": [
    "models = [\n",
    "          XGBClassifier(random_state=41, n_estimators=100, max_depth=2, learning_rate=0.1, eval_metric=\"error\", gamma=3, min_child_weight=6), # Extreme Gradient Boosting\n",
    "          LogisticRegression(), # Logistic Regression \n",
    "          MultinomialNB(alpha = 1, fit_prior = True), # Naive Bayes\n",
    "          SVC(C=3), # Support Vector Machine\n",
    "          AdaBoostClassifier(n_estimators = 100, random_state=41), # AdaBoost\n",
    "          RandomForestClassifier(n_estimators=300, max_depth=3)  \n",
    "          ]\n",
    "\n",
    "names = [\"Extreme Gradient Boosting\", \"Logistic Regression\", \"Naive Bayes\", \n",
    "         \"Support Vector Machine\", \"AdaBoost\", \"Random Forest\"]\n",
    "\n",
    "\n",
    "\n",
    "# Train models, get best model, get scores of each model using CountVectorizer\n",
    "best_model, all_models_auc = models_performance(train, test, \"cv\", models)"
   ]
  },
  {
   "cell_type": "code",
   "execution_count": 39,
   "id": "bbe3be46",
   "metadata": {},
   "outputs": [
    {
     "data": {
      "text/plain": [
       "{'Extreme Gradient Boosting': 0.8142857142857143,\n",
       " 'Logistic Regression': 0.7326007326007327,\n",
       " 'Naive Bayes': 0.8947368421052632,\n",
       " 'Support Vector Machine': 0.7777777777777778,\n",
       " 'AdaBoost': 0.7321428571428572,\n",
       " 'Random Forest': 0.7884615384615384}"
      ]
     },
     "execution_count": 39,
     "metadata": {},
     "output_type": "execute_result"
    }
   ],
   "source": [
    "all_models_auc"
   ]
  },
  {
   "cell_type": "code",
   "execution_count": 40,
   "id": "96407b3f",
   "metadata": {},
   "outputs": [
    {
     "name": "stdout",
     "output_type": "stream",
     "text": [
      "Evaluation metrics for Extreme Gradient Boosting\n",
      "Accuracy Score : 0.7647058823529411\n",
      "Recall Score : 0.9333333333333333\n",
      "F1 Score : 0.7777777777777778\n",
      "AUC  :    0.7824561403508772\n",
      " \n",
      " \n",
      "Evaluation metrics for Logistic Regression\n",
      "Accuracy Score : 0.8823529411764706\n",
      "Recall Score : 1.0\n",
      "F1 Score : 0.8823529411764706\n",
      "AUC  :    0.8947368421052632\n",
      " \n",
      " \n",
      "Evaluation metrics for Naive Bayes\n",
      "Accuracy Score : 0.9117647058823529\n",
      "Recall Score : 1.0\n",
      "F1 Score : 0.9090909090909091\n",
      "AUC  :    0.9210526315789473\n",
      " \n",
      " \n",
      "Evaluation metrics for Support Vector Machine\n",
      "Accuracy Score : 0.9117647058823529\n",
      "Recall Score : 1.0\n",
      "F1 Score : 0.9090909090909091\n",
      "AUC  :    0.9210526315789473\n",
      " \n",
      " \n",
      "Evaluation metrics for AdaBoost\n",
      "Accuracy Score : 0.8823529411764706\n",
      "Recall Score : 1.0\n",
      "F1 Score : 0.8823529411764706\n",
      "AUC  :    0.8947368421052632\n",
      " \n",
      " \n",
      "Evaluation metrics for Random Forest\n",
      "Accuracy Score : 0.7352941176470589\n",
      "Recall Score : 0.9333333333333333\n",
      "F1 Score : 0.7567567567567568\n",
      "AUC  :    0.7561403508771931\n",
      " \n",
      " \n"
     ]
    }
   ],
   "source": [
    "best_model, all_models_auc = models_performance(train, test, \"tfidf\", models)"
   ]
  },
  {
   "cell_type": "code",
   "execution_count": 41,
   "id": "088fc0f3",
   "metadata": {},
   "outputs": [
    {
     "data": {
      "text/plain": [
       "{'Extreme Gradient Boosting': 0.7948717948717948,\n",
       " 'Logistic Regression': 0.8947368421052632,\n",
       " 'Naive Bayes': 0.9166666666666667,\n",
       " 'Support Vector Machine': 0.9166666666666667,\n",
       " 'AdaBoost': 0.8947368421052632,\n",
       " 'Random Forest': 0.7765151515151514}"
      ]
     },
     "execution_count": 41,
     "metadata": {},
     "output_type": "execute_result"
    }
   ],
   "source": [
    "all_models_auc"
   ]
  },
  {
   "cell_type": "code",
   "execution_count": 42,
   "id": "5bd90886",
   "metadata": {
    "scrolled": false
   },
   "outputs": [
    {
     "data": {
      "image/png": "[encoded data removed]",
      "text/plain": [
       "<Figure size 1008x432 with 1 Axes>"
      ]
     },
     "metadata": {},
     "output_type": "display_data"
    }
   ],
   "source": [
    "import seaborn as sns\n",
    "sns.set_theme(style=\"whitegrid\", palette=\"colorblind\")\n",
    "Y_pos = np.arange(len(names))\n",
    "Y_val = list(all_models_auc.values())\n",
    "plt.figure(figsize=(14, 6))\n",
    "sns.barplot(Y_pos,Y_val, alpha=0.7)\n",
    "plt.xticks(Y_pos, names)\n",
    "plt.ylabel('AUC Score')\n",
    "plt.title('Accuracy of Models')\n",
    "plt.show()"
   ]
  },
  {
   "cell_type": "code",
   "execution_count": 43,
   "id": "eac26c2e",
   "metadata": {},
   "outputs": [
    {
     "data": {
      "text/plain": [
       "{'Name': 'Naive Bayes',\n",
       " 'Model': MultinomialNB(alpha=1),\n",
       " 'AUC Score': 0.9166666666666667,\n",
       " 'Predictions': array([1, 0, 0, 0, 1, 1, 1, 1, 1, 0, 1, 1, 1, 1, 1, 0, 0, 1, 0, 0, 0, 1,\n",
       "        0, 1, 0, 0, 1, 0, 0, 0, 1, 1, 1, 0], dtype=int64)}"
      ]
     },
     "execution_count": 43,
     "metadata": {},
     "output_type": "execute_result"
    }
   ],
   "source": [
    "# This is the best model\n",
    "best_model"
   ]
  },
  {
   "cell_type": "code",
   "execution_count": 44,
   "id": "b3db38b0",
   "metadata": {
    "scrolled": true
   },
   "outputs": [
    {
     "data": {
      "text/plain": [
       "<sklearn.metrics._plot.confusion_matrix.ConfusionMatrixDisplay at 0x21e678efc40>"
      ]
     },
     "execution_count": 44,
     "metadata": {},
     "output_type": "execute_result"
    },
    {
     "data": {
      "image/png": "[encoded data removed]",
      "text/plain": [
       "<Figure size 432x288 with 2 Axes>"
      ]
     },
     "metadata": {},
     "output_type": "display_data"
    }
   ],
   "source": [
    "# Confussion matrix for best model\n",
    "cm = confusion_matrix(test['label'], best_model[\"Predictions\"], labels=best_model[\"Model\"].classes_)\n",
    "disp = ConfusionMatrixDisplay(confusion_matrix=cm, display_labels=best_model[\"Model\"].classes_)\n",
    "disp.plot()"
   ]
  },
  {
   "cell_type": "code",
   "execution_count": 45,
   "id": "c849728c",
   "metadata": {},
   "outputs": [],
   "source": [
    "# save the model to disk\n",
    "pickle.dump(best_model[\"Model\"], open(\"BestModelColombia.sav\", 'wb'))"
   ]
  }
 ],
 "metadata": {
  "kernelspec": {
   "display_name": "Python 3",
   "language": "python",
   "name": "python3"
  },
  "language_info": {
   "codemirror_mode": {
    "name": "ipython",
    "version": 3
   },
   "file_extension": ".py",
   "mimetype": "text/x-python",
   "name": "python",
   "nbconvert_exporter": "python",
   "pygments_lexer": "ipython3",
   "version": "3.8.11"
  },
  "latex_envs": {
   "LaTeX_envs_menu_present": true,
   "autoclose": false,
   "autocomplete": true,
   "bibliofile": "biblio.bib",
   "cite_by": "apalike",
   "current_citInitial": 1,
   "eqLabelWithNumbers": true,
   "eqNumInitial": 1,
   "hotkeys": {
    "equation": "Ctrl-E",
    "itemize": "Ctrl-I"
   },
   "labels_anchors": false,
   "latex_user_defs": false,
   "report_style_numbering": false,
   "user_envs_cfg": false
  },
  "toc": {
   "base_numbering": 1,
   "nav_menu": {},
   "number_sections": true,
   "sideBar": true,
   "skip_h1_title": false,
   "title_cell": "Table of Contents",
   "title_sidebar": "Contents",
   "toc_cell": false,
   "toc_position": {},
   "toc_section_display": true,
   "toc_window_display": false
  },
  "varInspector": {
   "cols": {
    "lenName": 16,
    "lenType": 16,
    "lenVar": 40
   },
   "kernels_config": {
    "python": {
     "delete_cmd_postfix": "",
     "delete_cmd_prefix": "del ",
     "library": "var_list.py",
     "varRefreshCmd": "print(var_dic_list())"
    },
    "r": {
     "delete_cmd_postfix": ") ",
     "delete_cmd_prefix": "rm(",
     "library": "var_list.r",
     "varRefreshCmd": "cat(var_dic_list()) "
    }
   },
   "types_to_exclude": [
    "module",
    "function",
    "builtin_function_or_method",
    "instance",
    "_Feature"
   ],
   "window_display": false
  }
 },
 "nbformat": 4,
 "nbformat_minor": 5
}
