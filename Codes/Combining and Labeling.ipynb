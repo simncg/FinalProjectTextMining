{
 "cells": [
  {
   "cell_type": "code",
   "execution_count": 1,
   "id": "2d16cfd4",
   "metadata": {},
   "outputs": [],
   "source": [
    "import json\n",
    "from twarc_csv import DataFrameConverter\n",
    "from twarc.expansions import ensure_flattened\n",
    "import pandas as pd\n",
    "from twarc_csv import dataframe_converter\n",
    "from twarc_csv import CSVConverter, DataFrameConverter\n",
    "import math\n",
    "import emoji\n",
    "from operator import itemgetter\n",
    "import matplotlib.pyplot as plt\n",
    "from datetime import datetime\n",
    "from datetime import timedelta\n",
    "from advertools import extract_emoji\n",
    "import numpy as np"
   ]
  },
  {
   "cell_type": "code",
   "execution_count": 2,
   "id": "7f058e20",
   "metadata": {},
   "outputs": [],
   "source": [
    "converter = DataFrameConverter()\n",
    "data = []\n",
    "with open(\"chilean_politicians_tweets_protest.json\") as f:\n",
    "    for line in f:\n",
    "        data.append(json.loads(line))\n",
    "chilean_politicians_protest = converter.process(data)"
   ]
  },
  {
   "cell_type": "code",
   "execution_count": 3,
   "id": "88478532",
   "metadata": {},
   "outputs": [
    {
     "data": {
      "text/plain": [
       "Index(['id', 'conversation_id', 'referenced_tweets.replied_to.id',\n",
       "       'referenced_tweets.retweeted.id', 'referenced_tweets.quoted.id',\n",
       "       'author_id', 'in_reply_to_user_id', 'retweeted_user_id',\n",
       "       'quoted_user_id', 'created_at', 'text', 'lang', 'source',\n",
       "       'public_metrics.like_count', 'public_metrics.quote_count',\n",
       "       'public_metrics.reply_count', 'public_metrics.retweet_count',\n",
       "       'reply_settings', 'possibly_sensitive', 'withheld.scope',\n",
       "       'withheld.copyright', 'withheld.country_codes', 'entities.annotations',\n",
       "       'entities.cashtags', 'entities.hashtags', 'entities.mentions',\n",
       "       'entities.urls', 'context_annotations', 'attachments.media',\n",
       "       'attachments.media_keys', 'attachments.poll.duration_minutes',\n",
       "       'attachments.poll.end_datetime', 'attachments.poll.id',\n",
       "       'attachments.poll.options', 'attachments.poll.voting_status',\n",
       "       'attachments.poll_ids', 'author.id', 'author.created_at',\n",
       "       'author.username', 'author.name', 'author.description',\n",
       "       'author.entities.description.cashtags',\n",
       "       'author.entities.description.hashtags',\n",
       "       'author.entities.description.mentions',\n",
       "       'author.entities.description.urls', 'author.entities.url.urls',\n",
       "       'author.location', 'author.pinned_tweet_id', 'author.profile_image_url',\n",
       "       'author.protected', 'author.public_metrics.followers_count',\n",
       "       'author.public_metrics.following_count',\n",
       "       'author.public_metrics.listed_count',\n",
       "       'author.public_metrics.tweet_count', 'author.url', 'author.verified',\n",
       "       'author.withheld.scope', 'author.withheld.copyright',\n",
       "       'author.withheld.country_codes', 'geo.coordinates.coordinates',\n",
       "       'geo.coordinates.type', 'geo.country', 'geo.country_code',\n",
       "       'geo.full_name', 'geo.geo.bbox', 'geo.geo.type', 'geo.id', 'geo.name',\n",
       "       'geo.place_id', 'geo.place_type', '__twarc.retrieved_at', '__twarc.url',\n",
       "       '__twarc.version', ''],\n",
       "      dtype='object')"
      ]
     },
     "execution_count": 3,
     "metadata": {},
     "output_type": "execute_result"
    }
   ],
   "source": [
    "chilean_politicians_protest.columns"
   ]
  },
  {
   "cell_type": "code",
   "execution_count": 4,
   "id": "71d0e2b9",
   "metadata": {},
   "outputs": [],
   "source": [
    "chilean_politicians_protest['created_at']=pd.to_datetime(chilean_politicians_protest['created_at'])\n",
    "chilean_politicians_protest['Country']='Chile'\n",
    "chilean_politicians_protest['Categorie']='Politician'\n",
    "chilean_politicians_protest['Time']= np.where(chilean_politicians_protest['created_at']< pd.Timestamp('2019-10-18T01:00:00.000000+0100'), 'Before', 'During')"
   ]
  },
  {
   "cell_type": "code",
   "execution_count": 11,
   "id": "1986d0e7",
   "metadata": {},
   "outputs": [
    {
     "data": {
      "text/plain": [
       "During    22208\n",
       "Before    11465\n",
       "Name: Time, dtype: int64"
      ]
     },
     "execution_count": 11,
     "metadata": {},
     "output_type": "execute_result"
    }
   ],
   "source": [
    "chilean_politicians_protest[\"Time\"].value_counts()"
   ]
  },
  {
   "cell_type": "code",
   "execution_count": 5,
   "id": "cd0ccf56",
   "metadata": {},
   "outputs": [
    {
     "data": {
      "text/html": [
       "<div>\n",
       "<style scoped>\n",
       "    .dataframe tbody tr th:only-of-type {\n",
       "        vertical-align: middle;\n",
       "    }\n",
       "\n",
       "    .dataframe tbody tr th {\n",
       "        vertical-align: top;\n",
       "    }\n",
       "\n",
       "    .dataframe thead th {\n",
       "        text-align: right;\n",
       "    }\n",
       "</style>\n",
       "<table border=\"1\" class=\"dataframe\">\n",
       "  <thead>\n",
       "    <tr style=\"text-align: right;\">\n",
       "      <th></th>\n",
       "      <th>Tw</th>\n",
       "      <th>Etiqueta</th>\n",
       "    </tr>\n",
       "  </thead>\n",
       "  <tbody>\n",
       "    <tr>\n",
       "      <th>0</th>\n",
       "      <td>abernales</td>\n",
       "      <td>Left</td>\n",
       "    </tr>\n",
       "    <tr>\n",
       "      <th>1</th>\n",
       "      <td>alinco_rene</td>\n",
       "      <td>Left</td>\n",
       "    </tr>\n",
       "    <tr>\n",
       "      <th>2</th>\n",
       "      <td>alvarezsalamanc</td>\n",
       "      <td>Right</td>\n",
       "    </tr>\n",
       "    <tr>\n",
       "      <th>3</th>\n",
       "      <td>Alvaro_CarterF</td>\n",
       "      <td>Right</td>\n",
       "    </tr>\n",
       "    <tr>\n",
       "      <th>4</th>\n",
       "      <td>amarolabra</td>\n",
       "      <td>Left</td>\n",
       "    </tr>\n",
       "  </tbody>\n",
       "</table>\n",
       "</div>"
      ],
      "text/plain": [
       "                Tw Etiqueta\n",
       "0        abernales     Left\n",
       "1      alinco_rene     Left\n",
       "2  alvarezsalamanc    Right\n",
       "3   Alvaro_CarterF    Right\n",
       "4       amarolabra     Left"
      ]
     },
     "execution_count": 5,
     "metadata": {},
     "output_type": "execute_result"
    }
   ],
   "source": [
    "left_right_chile=pd.read_csv('Left_Right_Chile.csv',sep=\";\")\n",
    "left_right_chile.head()"
   ]
  },
  {
   "cell_type": "code",
   "execution_count": 6,
   "id": "3cc32f06",
   "metadata": {},
   "outputs": [],
   "source": [
    "chilean_politicians_protest=chilean_politicians_protest.merge(left_right_chile,how='left', left_on='author.username', right_on='Tw')"
   ]
  },
  {
   "cell_type": "code",
   "execution_count": 17,
   "id": "f3916a53",
   "metadata": {},
   "outputs": [
    {
     "data": {
      "text/plain": [
       "Index(['id', 'conversation_id', 'referenced_tweets.replied_to.id',\n",
       "       'referenced_tweets.retweeted.id', 'referenced_tweets.quoted.id',\n",
       "       'author_id', 'in_reply_to_user_id', 'retweeted_user_id',\n",
       "       'quoted_user_id', 'created_at', 'text', 'lang', 'source',\n",
       "       'public_metrics.like_count', 'public_metrics.quote_count',\n",
       "       'public_metrics.reply_count', 'public_metrics.retweet_count',\n",
       "       'reply_settings', 'possibly_sensitive', 'withheld.scope',\n",
       "       'withheld.copyright', 'withheld.country_codes', 'entities.annotations',\n",
       "       'entities.cashtags', 'entities.hashtags', 'entities.mentions',\n",
       "       'entities.urls', 'context_annotations', 'attachments.media',\n",
       "       'attachments.media_keys', 'attachments.poll.duration_minutes',\n",
       "       'attachments.poll.end_datetime', 'attachments.poll.id',\n",
       "       'attachments.poll.options', 'attachments.poll.voting_status',\n",
       "       'attachments.poll_ids', 'author.id', 'author.created_at',\n",
       "       'author.username', 'author.name', 'author.description',\n",
       "       'author.entities.description.cashtags',\n",
       "       'author.entities.description.hashtags',\n",
       "       'author.entities.description.mentions',\n",
       "       'author.entities.description.urls', 'author.entities.url.urls',\n",
       "       'author.location', 'author.pinned_tweet_id', 'author.profile_image_url',\n",
       "       'author.protected', 'author.public_metrics.followers_count',\n",
       "       'author.public_metrics.following_count',\n",
       "       'author.public_metrics.listed_count',\n",
       "       'author.public_metrics.tweet_count', 'author.url', 'author.verified',\n",
       "       'author.withheld.scope', 'author.withheld.copyright',\n",
       "       'author.withheld.country_codes', 'geo.coordinates.coordinates',\n",
       "       'geo.coordinates.type', 'geo.country', 'geo.country_code',\n",
       "       'geo.full_name', 'geo.geo.bbox', 'geo.geo.type', 'geo.id', 'geo.name',\n",
       "       'geo.place_id', 'geo.place_type', '__twarc.retrieved_at', '__twarc.url',\n",
       "       '__twarc.version', '', 'Country', 'Categorie', 'Time', 'Tw',\n",
       "       'Etiqueta'],\n",
       "      dtype='object')"
      ]
     },
     "execution_count": 17,
     "metadata": {},
     "output_type": "execute_result"
    }
   ],
   "source": [
    "chilean_politicians_protest.columns"
   ]
  },
  {
   "cell_type": "code",
   "execution_count": 7,
   "id": "e572cf0b",
   "metadata": {},
   "outputs": [],
   "source": [
    "chilean_politicians_protest=chilean_politicians_protest.drop(['Tw'],axis=1)\n",
    "chilean_politicians_protest=chilean_politicians_protest.rename(columns={\"Etiqueta\": \"Left/Right\"})"
   ]
  },
  {
   "cell_type": "code",
   "execution_count": 10,
   "id": "12bc31f7",
   "metadata": {},
   "outputs": [
    {
     "data": {
      "text/plain": [
       "Left     24158\n",
       "Right     9279\n",
       "Name: Left/Right, dtype: int64"
      ]
     },
     "execution_count": 10,
     "metadata": {},
     "output_type": "execute_result"
    }
   ],
   "source": [
    "chilean_politicians_protest[\"Left/Right\"].value_counts()"
   ]
  },
  {
   "cell_type": "code",
   "execution_count": 12,
   "id": "433d3476",
   "metadata": {},
   "outputs": [],
   "source": [
    "converter = DataFrameConverter()\n",
    "data = []\n",
    "with open(\"chilean_celebrities_tweets_protest.json\") as f:\n",
    "    for line in f:\n",
    "        data.append(json.loads(line))\n",
    "chilean_celebrities_protest = converter.process(data)"
   ]
  },
  {
   "cell_type": "code",
   "execution_count": 13,
   "id": "ad7bffb0",
   "metadata": {},
   "outputs": [],
   "source": [
    "chilean_celebrities_protest['created_at']=pd.to_datetime(chilean_celebrities_protest['created_at'])\n",
    "chilean_celebrities_protest['Country']='Chile'\n",
    "chilean_celebrities_protest['Categorie']='Celebrity'\n",
    "chilean_celebrities_protest['Time']= np.where(chilean_celebrities_protest['created_at']< pd.Timestamp('2019-10-18T01:00:00.000000+0100'), 'Before', 'During')\n",
    "chilean_celebrities_protest[\"Left/Right\"]=np.nan"
   ]
  },
  {
   "cell_type": "code",
   "execution_count": 14,
   "id": "a528bcb6",
   "metadata": {},
   "outputs": [
    {
     "data": {
      "text/plain": [
       "During    257631\n",
       "Before    102940\n",
       "Name: Time, dtype: int64"
      ]
     },
     "execution_count": 14,
     "metadata": {},
     "output_type": "execute_result"
    }
   ],
   "source": [
    "chilean_celebrities_protest[\"Time\"].value_counts()"
   ]
  },
  {
   "cell_type": "code",
   "execution_count": 15,
   "id": "12be31a5",
   "metadata": {},
   "outputs": [],
   "source": [
    "converter = DataFrameConverter()\n",
    "data = []\n",
    "with open(\"chilean_celebrities_tweets_6_month_after.json\") as f:\n",
    "    for line in f:\n",
    "        data.append(json.loads(line))\n",
    "chilean_celebrities_after= converter.process(data)"
   ]
  },
  {
   "cell_type": "code",
   "execution_count": 16,
   "id": "9fbf81d3",
   "metadata": {},
   "outputs": [],
   "source": [
    "chilean_celebrities_after['created_at']=pd.to_datetime(chilean_celebrities_after['created_at'])\n",
    "chilean_celebrities_after['Country']='Chile'\n",
    "chilean_celebrities_after['Categorie']='Celebrity'\n",
    "chilean_celebrities_after['Time']= 'After'\n",
    "chilean_celebrities_after[\"Left/Right\"]=np.nan"
   ]
  },
  {
   "cell_type": "code",
   "execution_count": 23,
   "id": "8b5a4e15",
   "metadata": {},
   "outputs": [],
   "source": [
    "converter = DataFrameConverter()\n",
    "data = []\n",
    "with open(\"Colombia/colombia_politicians_tweets.json\") as f:\n",
    "    for line in f:\n",
    "        data.append(json.loads(line))\n",
    "colombia_politicians_protest = converter.process(data)"
   ]
  },
  {
   "cell_type": "code",
   "execution_count": 24,
   "id": "eebf3b4e",
   "metadata": {},
   "outputs": [
    {
     "data": {
      "text/plain": [
       "(43746, 74)"
      ]
     },
     "execution_count": 24,
     "metadata": {},
     "output_type": "execute_result"
    }
   ],
   "source": [
    "colombia_politicians_protest.shape"
   ]
  },
  {
   "cell_type": "code",
   "execution_count": 25,
   "id": "3b37e7ec",
   "metadata": {},
   "outputs": [],
   "source": [
    "converter = DataFrameConverter()\n",
    "data = []\n",
    "with open(\"Colombia/extra_left_politicians_tweets.json\") as f:\n",
    "    for line in f:\n",
    "        data.append(json.loads(line))\n",
    "colombia_politicians_left = converter.process(data)"
   ]
  },
  {
   "cell_type": "code",
   "execution_count": 26,
   "id": "6c2544b1",
   "metadata": {},
   "outputs": [
    {
     "data": {
      "text/plain": [
       "(8839, 74)"
      ]
     },
     "execution_count": 26,
     "metadata": {},
     "output_type": "execute_result"
    }
   ],
   "source": [
    "colombia_politicians_left.shape"
   ]
  },
  {
   "cell_type": "code",
   "execution_count": 27,
   "id": "0894d5b6",
   "metadata": {},
   "outputs": [],
   "source": [
    "colombia_politicians_left['created_at']=pd.to_datetime(colombia_politicians_left['created_at'])\n",
    "colombia_politicians_left['Country']='Colombia'\n",
    "colombia_politicians_left['Categorie']='Politician'\n",
    "colombia_politicians_left['Time']= np.where(colombia_politicians_left['created_at']< pd.Timestamp('2021-04-28T01:00:00.000000+0100'), 'Before', 'During')"
   ]
  },
  {
   "cell_type": "code",
   "execution_count": 30,
   "id": "b0f30cac",
   "metadata": {},
   "outputs": [],
   "source": [
    "colombia_politicians_left=colombia_politicians_left.merge(left_right_colombia,how='left', left_on='author.username', right_on='Tw')\n",
    "colombia_politicians_left=colombia_politicians_left.drop(['Tw'],axis=1)\n",
    "colombia_politicians_left=colombia_politicians_left.rename(columns={\"Etiqueta\": \"Left/Right\"})"
   ]
  },
  {
   "cell_type": "code",
   "execution_count": 51,
   "id": "ff700158",
   "metadata": {},
   "outputs": [],
   "source": [
    "columns=['id','author_id','created_at','text','public_metrics.like_count', 'public_metrics.quote_count',\n",
    "       'public_metrics.reply_count', 'public_metrics.retweet_count','author.username','Country', 'Categorie', 'Time', 'Left/Right','author.entities.description.hashtags','author.public_metrics.following_count','in_reply_to_user_id', 'retweeted_user_id',\n",
    "       'quoted_user_id','author.name', 'author.description','possibly_sensitive']\n",
    "\n",
    "colombia_politicians_left=colombia_politicians_left[columns]\n",
    "colombia_politicians_left.to_csv('colombia_politicians_left_extra.csv')"
   ]
  },
  {
   "cell_type": "code",
   "execution_count": 10,
   "id": "927098a5",
   "metadata": {},
   "outputs": [],
   "source": [
    "colombia_politicians_protest['created_at']=pd.to_datetime(colombia_politicians_protest['created_at'])\n",
    "colombia_politicians_protest['Country']='Colombia'\n",
    "colombia_politicians_protest['Categorie']='Politician'\n",
    "colombia_politicians_protest['Time']= np.where(colombia_politicians_protest['created_at']< pd.Timestamp('2021-04-28T01:00:00.000000+0100'), 'Before', 'During')"
   ]
  },
  {
   "cell_type": "code",
   "execution_count": 14,
   "id": "d849a460",
   "metadata": {},
   "outputs": [],
   "source": [
    "colombia_politicians_protest=colombia_politicians_protest.merge(left_right_colombia,how='left', left_on='author.username', right_on='Tw')"
   ]
  },
  {
   "cell_type": "code",
   "execution_count": 18,
   "id": "0c959ded",
   "metadata": {},
   "outputs": [],
   "source": [
    "colombia_politicians_protest=colombia_politicians_protest.drop(['Tw'],axis=1)\n",
    "colombia_politicians_protest=colombia_politicians_protest.rename(columns={\"Etiqueta\": \"Left/Right\"})"
   ]
  },
  {
   "cell_type": "code",
   "execution_count": 19,
   "id": "c238641a",
   "metadata": {},
   "outputs": [
    {
     "data": {
      "text/plain": [
       "Left     32238\n",
       "Right    20020\n",
       "Name: Left/Right, dtype: int64"
      ]
     },
     "execution_count": 19,
     "metadata": {},
     "output_type": "execute_result"
    }
   ],
   "source": [
    "colombia_politicians_protest[\"Left/Right\"].value_counts()"
   ]
  },
  {
   "cell_type": "code",
   "execution_count": 22,
   "id": "693347a4",
   "metadata": {},
   "outputs": [
    {
     "data": {
      "text/plain": [
       "array(['IvanDuque', 'AlvaroUribeVel', 'EnriquePenalosa', 'OIZuluaga',\n",
       "       'mluciaramirez', 'PalomaValenciaL', 'AndresPastrana_',\n",
       "       'MariaFdaCabal', 'agaviriau', 'CarlosFGalan', 'German_Vargas',\n",
       "       'RafaelPardo', 'MiguelUribeT', 'Baena', 'FicoGutierrez',\n",
       "       'AlejandroChar', 'A_OrdonezM', 'alejoeder', 'LuisAlfreRamos',\n",
       "       'AliciaArango', 'ernestomaciast', 'AnaPaolaAgudelo',\n",
       "       'carlos_guevara', 'Juandiegogj', 'ArturoCharC', 'CARLOSFMEJIA',\n",
       "       'Rodrigo_Lara_', 'FNAraujoR', 'aydeelizarazoc', 'EfrainCepeda',\n",
       "       'ClaraLuzRoldan', 'PachoSantosC', 'PinzonBueno', 'ginaparody',\n",
       "       'juanmanuelgalan', 'SimonGaviria', 'GeneralPalomino',\n",
       "       'ernestosamperp', 'Angelino_Garzon', 'MauricioCard', 'jcpastrana',\n",
       "       'CristoBustos', 'elsanoguerabaq', 'JOSEOBDULIO', 'luisfelipehenao',\n",
       "       'HassNassar', 'PaolaHolguin', 'AlvaroLeyva', 'JoseDavidName',\n",
       "       'SaninNoemi', 'davidbarguil', 'VanessaMendozaB', 'sigifredolopez',\n",
       "       'MoralesViviane'], dtype=object)"
      ]
     },
     "execution_count": 22,
     "metadata": {},
     "output_type": "execute_result"
    }
   ],
   "source": [
    "colombia_politicians_protest[colombia_politicians_protest[\"Left/Right\"]==\"Right\"][\"author.username\"].unique()"
   ]
  },
  {
   "cell_type": "code",
   "execution_count": 25,
   "id": "0973abca",
   "metadata": {},
   "outputs": [],
   "source": [
    "converter = DataFrameConverter()\n",
    "data = []\n",
    "with open(\"colombia_celebrities_tweets.json\") as f:\n",
    "    for line in f:\n",
    "        data.append(json.loads(line))\n",
    "colombia_celebrities_protest = converter.process(data)"
   ]
  },
  {
   "cell_type": "code",
   "execution_count": 26,
   "id": "87421a8d",
   "metadata": {},
   "outputs": [],
   "source": [
    "colombia_celebrities_protest['created_at']=pd.to_datetime(colombia_celebrities_protest['created_at'])\n",
    "colombia_celebrities_protest['Country']='Colombia'\n",
    "colombia_celebrities_protest['Categorie']='Celebrity'\n",
    "colombia_celebrities_protest['Time']= np.where(colombia_celebrities_protest['created_at']< pd.Timestamp('2021-04-28T01:00:00.000000+0100'), 'Before', 'During')\n",
    "colombia_celebrities_protest[\"Left/Right\"]=np.nan"
   ]
  },
  {
   "cell_type": "code",
   "execution_count": 27,
   "id": "e96b476f",
   "metadata": {},
   "outputs": [
    {
     "data": {
      "text/plain": [
       "During    168313\n",
       "Before    115239\n",
       "Name: Time, dtype: int64"
      ]
     },
     "execution_count": 27,
     "metadata": {},
     "output_type": "execute_result"
    }
   ],
   "source": [
    "colombia_celebrities_protest[\"Time\"].value_counts()"
   ]
  },
  {
   "cell_type": "code",
   "execution_count": 28,
   "id": "6e914c27",
   "metadata": {},
   "outputs": [],
   "source": [
    "converter = DataFrameConverter()\n",
    "data = []\n",
    "with open(\"colombia_celebrities_tweets_6months.json\") as f:\n",
    "    for line in f:\n",
    "        data.append(json.loads(line))\n",
    "colombia_celebrities_after= converter.process(data)"
   ]
  },
  {
   "cell_type": "code",
   "execution_count": 29,
   "id": "faf14483",
   "metadata": {},
   "outputs": [],
   "source": [
    "colombia_celebrities_after['created_at']=pd.to_datetime(colombia_celebrities_after['created_at'])\n",
    "colombia_celebrities_after['Country']='Colombia'\n",
    "colombia_celebrities_after['Categorie']='Celebrity'\n",
    "colombia_celebrities_after['Time']= 'After'\n",
    "colombia_celebrities_after[\"Left/Right\"]=np.nan"
   ]
  },
  {
   "cell_type": "code",
   "execution_count": 30,
   "id": "8b0783ea",
   "metadata": {},
   "outputs": [],
   "source": [
    "all_tweets=pd.concat([chilean_politicians_protest, chilean_celebrities_protest,chilean_celebrities_after,colombia_politicians_protest, colombia_celebrities_protest,colombia_celebrities_after])"
   ]
  },
  {
   "cell_type": "code",
   "execution_count": 31,
   "id": "aa5fde34",
   "metadata": {},
   "outputs": [],
   "source": [
    "all_tweets.to_csv('all_tweets.csv')"
   ]
  },
  {
   "cell_type": "code",
   "execution_count": 32,
   "id": "8de8b183",
   "metadata": {},
   "outputs": [
    {
     "data": {
      "text/plain": [
       "(973904, 78)"
      ]
     },
     "execution_count": 32,
     "metadata": {},
     "output_type": "execute_result"
    }
   ],
   "source": [
    "all_tweets.shape"
   ]
  },
  {
   "cell_type": "code",
   "execution_count": 34,
   "id": "c4336a60",
   "metadata": {},
   "outputs": [
    {
     "name": "stdout",
     "output_type": "stream",
     "text": [
      "<class 'pandas.core.frame.DataFrame'>\n",
      "Int64Index: 973904 entries, 0 to 90810\n",
      "Data columns (total 78 columns):\n",
      " #   Column                                 Non-Null Count   Dtype              \n",
      "---  ------                                 --------------   -----              \n",
      " 0   id                                     973904 non-null  object             \n",
      " 1   conversation_id                        973904 non-null  object             \n",
      " 2   referenced_tweets.replied_to.id        213545 non-null  object             \n",
      " 3   referenced_tweets.retweeted.id         469969 non-null  object             \n",
      " 4   referenced_tweets.quoted.id            74017 non-null   object             \n",
      " 5   author_id                              973904 non-null  object             \n",
      " 6   in_reply_to_user_id                    220681 non-null  object             \n",
      " 7   retweeted_user_id                      469969 non-null  object             \n",
      " 8   quoted_user_id                         74017 non-null   object             \n",
      " 9   created_at                             973904 non-null  datetime64[ns, UTC]\n",
      " 10  text                                   973904 non-null  object             \n",
      " 11  lang                                   973904 non-null  object             \n",
      " 12  source                                 973904 non-null  object             \n",
      " 13  public_metrics.like_count              973904 non-null  int64              \n",
      " 14  public_metrics.quote_count             973904 non-null  int64              \n",
      " 15  public_metrics.reply_count             973904 non-null  int64              \n",
      " 16  public_metrics.retweet_count           973904 non-null  int64              \n",
      " 17  reply_settings                         973904 non-null  object             \n",
      " 18  possibly_sensitive                     973904 non-null  bool               \n",
      " 19  withheld.scope                         583 non-null     object             \n",
      " 20  withheld.copyright                     584 non-null     object             \n",
      " 21  withheld.country_codes                 584 non-null     object             \n",
      " 22  entities.annotations                   418924 non-null  object             \n",
      " 23  entities.cashtags                      34 non-null      object             \n",
      " 24  entities.hashtags                      232205 non-null  object             \n",
      " 25  entities.mentions                      433450 non-null  object             \n",
      " 26  entities.urls                          531325 non-null  object             \n",
      " 27  context_annotations                    221140 non-null  object             \n",
      " 28  attachments.media                      287002 non-null  object             \n",
      " 29  attachments.media_keys                 287002 non-null  object             \n",
      " 30  attachments.poll.duration_minutes      3091 non-null    float64            \n",
      " 31  attachments.poll.end_datetime          3091 non-null    object             \n",
      " 32  attachments.poll.id                    3091 non-null    object             \n",
      " 33  attachments.poll.options               3091 non-null    object             \n",
      " 34  attachments.poll.voting_status         3091 non-null    object             \n",
      " 35  attachments.poll_ids                   3091 non-null    object             \n",
      " 36  author.id                              973904 non-null  object             \n",
      " 37  author.created_at                      973904 non-null  object             \n",
      " 38  author.username                        973904 non-null  object             \n",
      " 39  author.name                            973904 non-null  object             \n",
      " 40  author.description                     973904 non-null  object             \n",
      " 41  author.entities.description.cashtags   0 non-null       float64            \n",
      " 42  author.entities.description.hashtags   234820 non-null  object             \n",
      " 43  author.entities.description.mentions   343022 non-null  object             \n",
      " 44  author.entities.description.urls       124111 non-null  object             \n",
      " 45  author.entities.url.urls               667892 non-null  object             \n",
      " 46  author.location                        830996 non-null  object             \n",
      " 47  author.pinned_tweet_id                 572458 non-null  object             \n",
      " 48  author.profile_image_url               973904 non-null  object             \n",
      " 49  author.protected                       973904 non-null  bool               \n",
      " 50  author.public_metrics.followers_count  973904 non-null  int64              \n",
      " 51  author.public_metrics.following_count  973904 non-null  int64              \n",
      " 52  author.public_metrics.listed_count     973904 non-null  int64              \n",
      " 53  author.public_metrics.tweet_count      973904 non-null  int64              \n",
      " 54  author.url                             973904 non-null  object             \n",
      " 55  author.verified                        973904 non-null  bool               \n",
      " 56  author.withheld.scope                  0 non-null       float64            \n",
      " 57  author.withheld.copyright              0 non-null       float64            \n",
      " 58  author.withheld.country_codes          0 non-null       float64            \n",
      " 59  geo.coordinates.coordinates            2169 non-null    object             \n",
      " 60  geo.coordinates.type                   2169 non-null    object             \n",
      " 61  geo.country                            30833 non-null   object             \n",
      " 62  geo.country_code                       30833 non-null   object             \n",
      " 63  geo.full_name                          30833 non-null   object             \n",
      " 64  geo.geo.bbox                           30833 non-null   object             \n",
      " 65  geo.geo.type                           30833 non-null   object             \n",
      " 66  geo.id                                 30833 non-null   object             \n",
      " 67  geo.name                               30833 non-null   object             \n",
      " 68  geo.place_id                           30833 non-null   object             \n",
      " 69  geo.place_type                         30833 non-null   object             \n",
      " 70  __twarc.retrieved_at                   973904 non-null  object             \n",
      " 71  __twarc.url                            973904 non-null  object             \n",
      " 72  __twarc.version                        973904 non-null  object             \n",
      " 73                                         0 non-null       float64            \n",
      " 74  Country                                973904 non-null  object             \n",
      " 75  Categorie                              973904 non-null  object             \n",
      " 76  Time                                   973904 non-null  object             \n",
      " 77  Left/Right                             76856 non-null   object             \n",
      "dtypes: bool(3), datetime64[ns, UTC](1), float64(6), int64(8), object(60)\n",
      "memory usage: 567.5+ MB\n"
     ]
    }
   ],
   "source": [
    "all_tweets.info()"
   ]
  },
  {
   "cell_type": "code",
   "execution_count": 36,
   "id": "beffa643",
   "metadata": {},
   "outputs": [
    {
     "data": {
      "text/plain": [
       "Index(['id', 'conversation_id', 'referenced_tweets.replied_to.id',\n",
       "       'referenced_tweets.retweeted.id', 'referenced_tweets.quoted.id',\n",
       "       'author_id', 'in_reply_to_user_id', 'retweeted_user_id',\n",
       "       'quoted_user_id', 'created_at', 'text', 'lang', 'source',\n",
       "       'public_metrics.like_count', 'public_metrics.quote_count',\n",
       "       'public_metrics.reply_count', 'public_metrics.retweet_count',\n",
       "       'reply_settings', 'possibly_sensitive', 'withheld.scope',\n",
       "       'withheld.copyright', 'withheld.country_codes', 'entities.annotations',\n",
       "       'entities.cashtags', 'entities.hashtags', 'entities.mentions',\n",
       "       'entities.urls', 'context_annotations', 'attachments.media',\n",
       "       'attachments.media_keys', 'attachments.poll.duration_minutes',\n",
       "       'attachments.poll.end_datetime', 'attachments.poll.id',\n",
       "       'attachments.poll.options', 'attachments.poll.voting_status',\n",
       "       'attachments.poll_ids', 'author.id', 'author.created_at',\n",
       "       'author.username', 'author.name', 'author.description',\n",
       "       'author.entities.description.cashtags',\n",
       "       'author.entities.description.hashtags',\n",
       "       'author.entities.description.mentions',\n",
       "       'author.entities.description.urls', 'author.entities.url.urls',\n",
       "       'author.location', 'author.pinned_tweet_id', 'author.profile_image_url',\n",
       "       'author.protected', 'author.public_metrics.followers_count',\n",
       "       'author.public_metrics.following_count',\n",
       "       'author.public_metrics.listed_count',\n",
       "       'author.public_metrics.tweet_count', 'author.url', 'author.verified',\n",
       "       'author.withheld.scope', 'author.withheld.copyright',\n",
       "       'author.withheld.country_codes', 'geo.coordinates.coordinates',\n",
       "       'geo.coordinates.type', 'geo.country', 'geo.country_code',\n",
       "       'geo.full_name', 'geo.geo.bbox', 'geo.geo.type', 'geo.id', 'geo.name',\n",
       "       'geo.place_id', 'geo.place_type', '__twarc.retrieved_at', '__twarc.url',\n",
       "       '__twarc.version', '', 'Country', 'Categorie', 'Time', 'Left/Right'],\n",
       "      dtype='object')"
      ]
     },
     "execution_count": 36,
     "metadata": {},
     "output_type": "execute_result"
    }
   ],
   "source": [
    "all_tweets.columns"
   ]
  },
  {
   "cell_type": "code",
   "execution_count": 50,
   "id": "41ed6cf1",
   "metadata": {},
   "outputs": [],
   "source": [
    "columns=['id','author_id','created_at','text','public_metrics.like_count', 'public_metrics.quote_count',\n",
    "       'public_metrics.reply_count', 'public_metrics.retweet_count','author.username','Country', 'Categorie', 'Time', 'Left/Right','author.entities.description.hashtags','author.public_metrics.following_count','in_reply_to_user_id', 'retweeted_user_id',\n",
    "       'quoted_user_id','author.name', 'author.description','possibly_sensitive']"
   ]
  },
  {
   "cell_type": "code",
   "execution_count": 38,
   "id": "a6b74db5",
   "metadata": {},
   "outputs": [],
   "source": [
    "all_tweets_filtered_columns=all_tweets[columns]\n",
    "all_tweets_filtered_columns.to_csv('all_tweets_filtered.csv')"
   ]
  },
  {
   "cell_type": "code",
   "execution_count": 3,
   "id": "513f8b5f",
   "metadata": {},
   "outputs": [
    {
     "name": "stderr",
     "output_type": "stream",
     "text": [
      "C:\\Users\\USER\\anaconda3\\lib\\site-packages\\IPython\\core\\interactiveshell.py:3441: DtypeWarning: Columns (13) have mixed types.Specify dtype option on import or set low_memory=False.\n",
      "  exec(code_obj, self.user_global_ns, self.user_ns)\n"
     ]
    }
   ],
   "source": [
    "# Add left tweets\n",
    "all_tweets_filtered = pd.read_csv(\"all_tweets_filtered.csv\")\n",
    "colombia_left = pd.read_csv(\"colombia_politicians_left_extra.csv\")"
   ]
  },
  {
   "cell_type": "code",
   "execution_count": 7,
   "id": "809afcee",
   "metadata": {},
   "outputs": [
    {
     "data": {
      "text/plain": [
       "(973904, 22)"
      ]
     },
     "execution_count": 7,
     "metadata": {},
     "output_type": "execute_result"
    }
   ],
   "source": [
    "all_tweets_filtered.shape"
   ]
  },
  {
   "cell_type": "code",
   "execution_count": 8,
   "id": "e9587cb1",
   "metadata": {},
   "outputs": [
    {
     "data": {
      "text/plain": [
       "(8839, 22)"
      ]
     },
     "execution_count": 8,
     "metadata": {},
     "output_type": "execute_result"
    }
   ],
   "source": [
    "colombia_left.shape"
   ]
  },
  {
   "cell_type": "code",
   "execution_count": 10,
   "id": "2c4be3ab",
   "metadata": {},
   "outputs": [],
   "source": [
    "all_tweets_filtered = pd.concat([all_tweets_filtered, colombia_left])"
   ]
  },
  {
   "cell_type": "code",
   "execution_count": 12,
   "id": "f66bb80a",
   "metadata": {},
   "outputs": [
    {
     "data": {
      "text/plain": [
       "897048"
      ]
     },
     "execution_count": 12,
     "metadata": {},
     "output_type": "execute_result"
    }
   ],
   "source": [
    "all_tweets_filtered[\"Left/Right\"].isna().sum()"
   ]
  },
  {
   "cell_type": "code",
   "execution_count": null,
   "id": "801704cb",
   "metadata": {},
   "outputs": [],
   "source": [
    "all_tweets_filtered.to_csv(\"all_tweets_filtered_new.csv\")"
   ]
  }
 ],
 "metadata": {
  "kernelspec": {
   "display_name": "Python 3",
   "language": "python",
   "name": "python3"
  },
  "language_info": {
   "codemirror_mode": {
    "name": "ipython",
    "version": 3
   },
   "file_extension": ".py",
   "mimetype": "text/x-python",
   "name": "python",
   "nbconvert_exporter": "python",
   "pygments_lexer": "ipython3",
   "version": "3.8.11"
  },
  "latex_envs": {
   "LaTeX_envs_menu_present": true,
   "autoclose": false,
   "autocomplete": true,
   "bibliofile": "biblio.bib",
   "cite_by": "apalike",
   "current_citInitial": 1,
   "eqLabelWithNumbers": true,
   "eqNumInitial": 1,
   "hotkeys": {
    "equation": "Ctrl-E",
    "itemize": "Ctrl-I"
   },
   "labels_anchors": false,
   "latex_user_defs": false,
   "report_style_numbering": false,
   "user_envs_cfg": false
  }
 },
 "nbformat": 4,
 "nbformat_minor": 5
}
